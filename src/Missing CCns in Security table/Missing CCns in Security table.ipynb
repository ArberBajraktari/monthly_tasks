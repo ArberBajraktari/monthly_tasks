{
 "cells": [
  {
   "cell_type": "markdown",
   "metadata": {},
   "source": [
    "# What happens:\n",
    "- It checks whether a CCn is missing for our Units \n",
    "- It also filters out counterparty_type 62 and 36\n",
    "- It prepares the email\n",
    "- You only need to make the screenshot and find the unit contacts"
   ]
  },
  {
   "cell_type": "markdown",
   "metadata": {},
   "source": [
    "## Import "
   ]
  },
  {
   "cell_type": "code",
   "execution_count": null,
   "metadata": {},
   "outputs": [],
   "source": [
    "import os\n",
    "import sys\n",
    "import pandas as pd\n",
    "import numpy as np\n",
    "from pandas import DataFrame\n",
    "import sqlalchemy\n",
    "from sqlalchemy import create_engine\n",
    "import getpass\n",
    "import win32com.client as win32"
   ]
  },
  {
   "cell_type": "markdown",
   "metadata": {},
   "source": [
    "### Select the folder where you wanna do the work\n",
    "### Also ask for the Reporting Date"
   ]
  },
  {
   "cell_type": "code",
   "execution_count": null,
   "metadata": {},
   "outputs": [],
   "source": [
    "directory = os.path.abspath(os.getcwd()) + \"/\"\n",
    "rd = str(input(\"Please enter the RD (YYYYMMDD): \"))\n",
    "\n",
    "ws = \"0194\""
   ]
  },
  {
   "cell_type": "markdown",
   "metadata": {},
   "source": [
    "### Make connection with Oracle DB"
   ]
  },
  {
   "cell_type": "code",
   "execution_count": null,
   "metadata": {},
   "outputs": [],
   "source": [
    "#Setting up RAY connection:\n",
    "connection_RAY = create_engine(str(\"oracle://:@OCRPN\"))\n",
    "connection_RAY.execute(\"call pack_context.context_open(to_date('{reporting_date}','YYYYMMDD'),{partition})\".format(\n",
    "                 reporting_date = rd, partition = ws))"
   ]
  },
  {
   "cell_type": "markdown",
   "metadata": {},
   "source": [
    "### Save selection\n",
    "### SQL 1"
   ]
  },
  {
   "cell_type": "code",
   "execution_count": null,
   "metadata": {},
   "outputs": [],
   "source": [
    "%%time\n",
    "d = pd.read_sql_query(\"\"\"select se.partition_key,se.security_reference,se.security_description,se.security_type,se.issuer_code, sp. book_code, sp.nominal, sp.position_initial_value, sp.attribute_2, se.attribute_2, security_family\n",
    "from security se left join security_positions sp on (se.security_reference = sp.security_reference)\n",
    "where se.issuer_code is null and (sp.nominal >0 or position_initial_value >0) and (sp.attribute_2 = 'EQUITY' or se.attribute_2 = 'EQUITY' or security_family = 'E') and book_code like '%_B'\n",
    "group by se.partition_key,se.security_reference,se.security_description,se.security_type,se.issuer_code, sp. book_code, sp.nominal, sp.position_initial_value, sp.attribute_2, se.attribute_2, security_family\n",
    "\"\"\", connection_RAY)\n"
   ]
  },
  {
   "cell_type": "markdown",
   "metadata": {},
   "source": [
    "### Show Results of selection"
   ]
  },
  {
   "cell_type": "code",
   "execution_count": null,
   "metadata": {},
   "outputs": [],
   "source": [
    "d"
   ]
  },
  {
   "cell_type": "markdown",
   "metadata": {},
   "source": [
    "### SQL 2"
   ]
  },
  {
   "cell_type": "code",
   "execution_count": null,
   "metadata": {},
   "outputs": [],
   "source": [
    "%%time\n",
    "d2 = pd.read_sql_query(\"\"\"select booking_company, attribute_5, counterparty_code, counterparty_name, counterparty_type\n",
    "from rzb_cdr\n",
    "where record_source = 'T_CDR' and table_name = 'EQUITY' and counterparty_name is null\"\"\", connection_RAY)"
   ]
  },
  {
   "cell_type": "markdown",
   "metadata": {},
   "source": [
    "### Show Results of selection"
   ]
  },
  {
   "cell_type": "code",
   "execution_count": null,
   "metadata": {},
   "outputs": [],
   "source": [
    "units = ['AVAL', 'Centro', 'Kathrein', 'RBAL', 'RBBG', 'RBBH', 'RBBY', 'RBCN', 'RBCZ', 'RBHR', 'RBHU', 'RPL', 'RBI', 'RBKO', 'RBIPL', 'RBRO', 'RBRS', 'RBRU', 'RBSG', 'RBSPK', 'RBSPKMS', 'RBSPKHR', 'RBSPKRO', 'RBUK', 'RBUS', 'RFACTOR', 'RKAG', 'RLAL', 'RLAT', 'RLBANK', 'RLBG', 'RLBH', 'RLBY1', 'RLCZ', 'RLHR', 'RLKO', 'RLRETE', 'RLRO', 'RLRS', 'RLRU', 'RBRUFIN', 'RLSI', 'RLUA', 'RSTS', 'KONEVOVA', 'RWBB', 'TBSK', 'TLSK', 'ILSK', 'EQBCZ']\n",
    "d2[(d2.counterparty_type != '62') & (d2.counterparty_type != '36') & (d2.booking_company.isin(units))] \n"
   ]
  },
  {
   "cell_type": "code",
   "execution_count": null,
   "metadata": {},
   "outputs": [],
   "source": [
    "outlook = win32.Dispatch('outlook.application')\n",
    "mail = outlook.CreateItem(0)\n",
    "mail.To = ''\n",
    "mail.Cc = ''\n",
    "mail.Subject = 'Missing CCN Security Table'\n",
    "mail.Body = '''Dear Colleagues,\n",
    "\n",
    "We found this case where the CCN is missing in the Security Table.\n",
    "Could you please address this issue, for the next delivery as well?\n",
    "\n",
    "Thanks in advance and kind regards,\n",
    "Arber Bajraktari\n",
    "Student Support IT\n",
    "\n",
    "Raiffeisen Bank International AG | Am Stadtpark 9, 1030 Vienna, Austria | Tel. : +43 664 99481391\n",
    "arber.bajraktari@rbinternational.com | http://www.rbinternational.com \n",
    "'''\n",
    "\n",
    "mail.Display()"
   ]
  }
 ],
 "metadata": {
  "kernelspec": {
   "display_name": "Python 3",
   "language": "python",
   "name": "python3"
  },
  "language_info": {
   "codemirror_mode": {
    "name": "ipython",
    "version": 3
   },
   "file_extension": ".py",
   "mimetype": "text/x-python",
   "name": "python",
   "nbconvert_exporter": "python",
   "pygments_lexer": "ipython3",
   "version": "3.10.7"
  },
  "vscode": {
   "interpreter": {
    "hash": "9b4d75ac280b6c7c3aa43866cb82dc88915409b55fec83a093dd0284cb58708e"
   }
  }
 },
 "nbformat": 4,
 "nbformat_minor": 2
}
