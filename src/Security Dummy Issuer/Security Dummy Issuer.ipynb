{
 "cells": [
  {
   "cell_type": "markdown",
   "metadata": {},
   "source": [
    "# What happens:\n",
    "- Makes the selection and prepares the email\n",
    "- Then you just make the screenshot and add the contact per Unit "
   ]
  },
  {
   "cell_type": "markdown",
   "metadata": {},
   "source": [
    "## Import "
   ]
  },
  {
   "cell_type": "code",
   "execution_count": 1,
   "metadata": {},
   "outputs": [],
   "source": [
    "import os\n",
    "import sys\n",
    "import pandas as pd\n",
    "import numpy as np\n",
    "from pandas import DataFrame\n",
    "import sqlalchemy\n",
    "from sqlalchemy import create_engine\n",
    "import getpass\n",
    "import win32com.client as win32"
   ]
  },
  {
   "cell_type": "markdown",
   "metadata": {},
   "source": [
    "### Select the folder where you wanna do the work\n",
    "### Also ask for the Reporting Date"
   ]
  },
  {
   "cell_type": "code",
   "execution_count": 2,
   "metadata": {},
   "outputs": [],
   "source": [
    "directory = \"C:/Users/WZHARBC/Documents/Python Monthly Tasks/Exports/RBUK_Data\"\n",
    "os.chdir(directory)\n",
    "\n",
    "rd = str(input(\"Please enter the RD (YYYYMMDD): \"))\n",
    "\n",
    "ws = \"0194\""
   ]
  },
  {
   "cell_type": "markdown",
   "metadata": {},
   "source": [
    "### Make connection with Oracle DB"
   ]
  },
  {
   "cell_type": "code",
   "execution_count": 3,
   "metadata": {},
   "outputs": [
    {
     "data": {
      "text/plain": [
       "<sqlalchemy.engine.cursor.LegacyCursorResult at 0x1d1efb096f0>"
      ]
     },
     "execution_count": 3,
     "metadata": {},
     "output_type": "execute_result"
    }
   ],
   "source": [
    "#Setting up RAY connection:\n",
    "connection_RAY = create_engine(str(\"oracle://:@OCRPN\"))\n",
    "connection_RAY.execute(\"call pack_context.context_open(to_date('{reporting_date}','YYYYMMDD'),{partition})\".format(\n",
    "                 reporting_date = rd, partition = ws))"
   ]
  },
  {
   "cell_type": "markdown",
   "metadata": {},
   "source": [
    "### Save selection\n",
    "### Also see how much time it took"
   ]
  },
  {
   "cell_type": "code",
   "execution_count": 4,
   "metadata": {},
   "outputs": [
    {
     "name": "stdout",
     "output_type": "stream",
     "text": [
      "CPU times: total: 15.6 ms\n",
      "Wall time: 338 ms\n"
     ]
    }
   ],
   "source": [
    "%%time\n",
    "d = pd.read_sql_query(\"\"\"select distinct concat(sp.book_code,'_SEC') as sec, s.security_reference, s.issuer_code, sp.position_initial_value, nominal\n",
    "from security s\n",
    "inner join security_positions sp\n",
    "on s.security_reference = sp.security_reference\n",
    "where s.issuer_code like '%DUMMY%' and s.security_family = 'B' and sp.position_initial_value >0\"\"\", connection_RAY)"
   ]
  },
  {
   "cell_type": "markdown",
   "metadata": {},
   "source": [
    "### Show selection"
   ]
  },
  {
   "cell_type": "code",
   "execution_count": 8,
   "metadata": {},
   "outputs": [
    {
     "data": {
      "text/html": [
       "<div>\n",
       "<style scoped>\n",
       "    .dataframe tbody tr th:only-of-type {\n",
       "        vertical-align: middle;\n",
       "    }\n",
       "\n",
       "    .dataframe tbody tr th {\n",
       "        vertical-align: top;\n",
       "    }\n",
       "\n",
       "    .dataframe thead th {\n",
       "        text-align: right;\n",
       "    }\n",
       "</style>\n",
       "<table border=\"1\" class=\"dataframe\">\n",
       "  <thead>\n",
       "    <tr style=\"text-align: right;\">\n",
       "      <th></th>\n",
       "      <th>sec</th>\n",
       "      <th>security_reference</th>\n",
       "      <th>issuer_code</th>\n",
       "      <th>position_initial_value</th>\n",
       "      <th>nominal</th>\n",
       "    </tr>\n",
       "  </thead>\n",
       "  <tbody>\n",
       "    <tr>\n",
       "      <th>0</th>\n",
       "      <td>RBHR_B_SEC</td>\n",
       "      <td>HRZGHOO237A3</td>\n",
       "      <td>*DUMMY_UNRATED*</td>\n",
       "      <td>3.450562e+05</td>\n",
       "      <td>3.450562e+05</td>\n",
       "    </tr>\n",
       "    <tr>\n",
       "      <th>1</th>\n",
       "      <td>RBHR_B_SEC</td>\n",
       "      <td>HRZGHOO237A3</td>\n",
       "      <td>*DUMMY_UNRATED*</td>\n",
       "      <td>4.929375e+05</td>\n",
       "      <td>4.929375e+05</td>\n",
       "    </tr>\n",
       "    <tr>\n",
       "      <th>2</th>\n",
       "      <td>RBHR_B_SEC</td>\n",
       "      <td>HRZGHOO237A3</td>\n",
       "      <td>*DUMMY_UNRATED*</td>\n",
       "      <td>5.881829e+05</td>\n",
       "      <td>5.881829e+05</td>\n",
       "    </tr>\n",
       "    <tr>\n",
       "      <th>3</th>\n",
       "      <td>RBHR_T_SEC</td>\n",
       "      <td>HRZGHOO237A3</td>\n",
       "      <td>*DUMMY_UNRATED*</td>\n",
       "      <td>4.929375e+06</td>\n",
       "      <td>4.929375e+06</td>\n",
       "    </tr>\n",
       "    <tr>\n",
       "      <th>4</th>\n",
       "      <td>RBHR_B_SEC</td>\n",
       "      <td>HRZGHOO237A3</td>\n",
       "      <td>*DUMMY_UNRATED*</td>\n",
       "      <td>4.409496e+06</td>\n",
       "      <td>4.409496e+06</td>\n",
       "    </tr>\n",
       "    <tr>\n",
       "      <th>5</th>\n",
       "      <td>RBHR_B_SEC</td>\n",
       "      <td>HRZGHOO237A3</td>\n",
       "      <td>*DUMMY_UNRATED*</td>\n",
       "      <td>4.218682e+06</td>\n",
       "      <td>4.218682e+06</td>\n",
       "    </tr>\n",
       "    <tr>\n",
       "      <th>6</th>\n",
       "      <td>RBHR_B_SEC</td>\n",
       "      <td>HRZGHOO237A3</td>\n",
       "      <td>*DUMMY_UNRATED*</td>\n",
       "      <td>1.971750e+06</td>\n",
       "      <td>1.971750e+06</td>\n",
       "    </tr>\n",
       "    <tr>\n",
       "      <th>7</th>\n",
       "      <td>RBHR_T_SEC</td>\n",
       "      <td>HRZGHOO237A3</td>\n",
       "      <td>*DUMMY_UNRATED*</td>\n",
       "      <td>1.478812e+05</td>\n",
       "      <td>1.478813e+05</td>\n",
       "    </tr>\n",
       "    <tr>\n",
       "      <th>8</th>\n",
       "      <td>RBHR_B_SEC</td>\n",
       "      <td>HRZGHOO237A3</td>\n",
       "      <td>*DUMMY_UNRATED*</td>\n",
       "      <td>1.183050e+06</td>\n",
       "      <td>1.183050e+06</td>\n",
       "    </tr>\n",
       "    <tr>\n",
       "      <th>9</th>\n",
       "      <td>HO_T_SEC</td>\n",
       "      <td>GB00B15KY765</td>\n",
       "      <td>*DUMMY_UNRATED*</td>\n",
       "      <td>2.275698e+04</td>\n",
       "      <td>2.271858e+04</td>\n",
       "    </tr>\n",
       "    <tr>\n",
       "      <th>10</th>\n",
       "      <td>RBHR_B_SEC</td>\n",
       "      <td>HRZGHOO237A3</td>\n",
       "      <td>*DUMMY_UNRATED*</td>\n",
       "      <td>3.943500e+05</td>\n",
       "      <td>3.943500e+05</td>\n",
       "    </tr>\n",
       "    <tr>\n",
       "      <th>11</th>\n",
       "      <td>RBHR_B_SEC</td>\n",
       "      <td>HRZGHOO237A3</td>\n",
       "      <td>*DUMMY_UNRATED*</td>\n",
       "      <td>2.810079e+05</td>\n",
       "      <td>2.810079e+05</td>\n",
       "    </tr>\n",
       "    <tr>\n",
       "      <th>12</th>\n",
       "      <td>RBHR_T_SEC</td>\n",
       "      <td>HRZGHOO237A3</td>\n",
       "      <td>*DUMMY_UNRATED*</td>\n",
       "      <td>6.243507e+05</td>\n",
       "      <td>6.243507e+05</td>\n",
       "    </tr>\n",
       "    <tr>\n",
       "      <th>13</th>\n",
       "      <td>RBHR_B_SEC</td>\n",
       "      <td>HRZGHOO237A3</td>\n",
       "      <td>*DUMMY_UNRATED*</td>\n",
       "      <td>9.858750e+05</td>\n",
       "      <td>9.858750e+05</td>\n",
       "    </tr>\n",
       "    <tr>\n",
       "      <th>14</th>\n",
       "      <td>RBHR_B_SEC</td>\n",
       "      <td>HRZGHOO237A3</td>\n",
       "      <td>*DUMMY_UNRATED*</td>\n",
       "      <td>6.530436e+06</td>\n",
       "      <td>6.530436e+06</td>\n",
       "    </tr>\n",
       "    <tr>\n",
       "      <th>15</th>\n",
       "      <td>RBHR_B_SEC</td>\n",
       "      <td>HRZGHOO237A3</td>\n",
       "      <td>*DUMMY_UNRATED*</td>\n",
       "      <td>1.478812e+05</td>\n",
       "      <td>1.478813e+05</td>\n",
       "    </tr>\n",
       "    <tr>\n",
       "      <th>16</th>\n",
       "      <td>RBHR_B_SEC</td>\n",
       "      <td>HRZGHOO237A3</td>\n",
       "      <td>*DUMMY_UNRATED*</td>\n",
       "      <td>1.183050e+07</td>\n",
       "      <td>1.183050e+07</td>\n",
       "    </tr>\n",
       "  </tbody>\n",
       "</table>\n",
       "</div>"
      ],
      "text/plain": [
       "           sec security_reference      issuer_code  position_initial_value  \\\n",
       "0   RBHR_B_SEC       HRZGHOO237A3  *DUMMY_UNRATED*            3.450562e+05   \n",
       "1   RBHR_B_SEC       HRZGHOO237A3  *DUMMY_UNRATED*            4.929375e+05   \n",
       "2   RBHR_B_SEC       HRZGHOO237A3  *DUMMY_UNRATED*            5.881829e+05   \n",
       "3   RBHR_T_SEC       HRZGHOO237A3  *DUMMY_UNRATED*            4.929375e+06   \n",
       "4   RBHR_B_SEC       HRZGHOO237A3  *DUMMY_UNRATED*            4.409496e+06   \n",
       "5   RBHR_B_SEC       HRZGHOO237A3  *DUMMY_UNRATED*            4.218682e+06   \n",
       "6   RBHR_B_SEC       HRZGHOO237A3  *DUMMY_UNRATED*            1.971750e+06   \n",
       "7   RBHR_T_SEC       HRZGHOO237A3  *DUMMY_UNRATED*            1.478812e+05   \n",
       "8   RBHR_B_SEC       HRZGHOO237A3  *DUMMY_UNRATED*            1.183050e+06   \n",
       "9     HO_T_SEC       GB00B15KY765  *DUMMY_UNRATED*            2.275698e+04   \n",
       "10  RBHR_B_SEC       HRZGHOO237A3  *DUMMY_UNRATED*            3.943500e+05   \n",
       "11  RBHR_B_SEC       HRZGHOO237A3  *DUMMY_UNRATED*            2.810079e+05   \n",
       "12  RBHR_T_SEC       HRZGHOO237A3  *DUMMY_UNRATED*            6.243507e+05   \n",
       "13  RBHR_B_SEC       HRZGHOO237A3  *DUMMY_UNRATED*            9.858750e+05   \n",
       "14  RBHR_B_SEC       HRZGHOO237A3  *DUMMY_UNRATED*            6.530436e+06   \n",
       "15  RBHR_B_SEC       HRZGHOO237A3  *DUMMY_UNRATED*            1.478812e+05   \n",
       "16  RBHR_B_SEC       HRZGHOO237A3  *DUMMY_UNRATED*            1.183050e+07   \n",
       "\n",
       "         nominal  \n",
       "0   3.450562e+05  \n",
       "1   4.929375e+05  \n",
       "2   5.881829e+05  \n",
       "3   4.929375e+06  \n",
       "4   4.409496e+06  \n",
       "5   4.218682e+06  \n",
       "6   1.971750e+06  \n",
       "7   1.478813e+05  \n",
       "8   1.183050e+06  \n",
       "9   2.271858e+04  \n",
       "10  3.943500e+05  \n",
       "11  2.810079e+05  \n",
       "12  6.243507e+05  \n",
       "13  9.858750e+05  \n",
       "14  6.530436e+06  \n",
       "15  1.478813e+05  \n",
       "16  1.183050e+07  "
      ]
     },
     "execution_count": 8,
     "metadata": {},
     "output_type": "execute_result"
    }
   ],
   "source": [
    "d\n",
    "#[d.sec.str.contains('RBHR')]"
   ]
  },
  {
   "cell_type": "markdown",
   "metadata": {},
   "source": [
    "### Send the email "
   ]
  },
  {
   "cell_type": "code",
   "execution_count": 7,
   "metadata": {},
   "outputs": [],
   "source": [
    "outlook = win32.Dispatch('outlook.application')\n",
    "mail = outlook.CreateItem(0)\n",
    "mail.To = ''\n",
    "mail.Cc = 'flori.luci@rbinternational.com;'\n",
    "mail.Subject = ' - Securities with issuer code DUMMY (' + rd + ')'\n",
    "mail.Body = '''Dear colleagues,\n",
    "\n",
    "Please your support to update/correct following *Dummy* issuer codes in the SECURITIY table:\n",
    "\n",
    "Thanks in advance!\n",
    "\n",
    "KR,\n",
    "Arber Bajraktari\n",
    "Student Support IT\n",
    "\n",
    "Raiffeisen Bank International AG | Am Stadtpark 9, 1030 Vienna, Austria | Tel. : +43 664 99481391\n",
    "arber.bajraktari@rbinternational.com | http://www.rbinternational.com \n",
    "'''\n",
    "\n",
    "\n",
    "mail.Display()"
   ]
  },
  {
   "cell_type": "code",
   "execution_count": null,
   "metadata": {},
   "outputs": [],
   "source": []
  }
 ],
 "metadata": {
  "kernelspec": {
   "display_name": "Python 3",
   "language": "python",
   "name": "python3"
  },
  "language_info": {
   "codemirror_mode": {
    "name": "ipython",
    "version": 3
   },
   "file_extension": ".py",
   "mimetype": "text/x-python",
   "name": "python",
   "nbconvert_exporter": "python",
   "pygments_lexer": "ipython3",
   "version": "3.10.7"
  },
  "vscode": {
   "interpreter": {
    "hash": "9b4d75ac280b6c7c3aa43866cb82dc88915409b55fec83a093dd0284cb58708e"
   }
  }
 },
 "nbformat": 4,
 "nbformat_minor": 2
}
