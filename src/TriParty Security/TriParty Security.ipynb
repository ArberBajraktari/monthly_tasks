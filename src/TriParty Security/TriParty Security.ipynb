{
 "cells": [
  {
   "cell_type": "markdown",
   "metadata": {},
   "source": [
    "# What happens:\n",
    "File is saved and ready to be uploaded to RIC"
   ]
  },
  {
   "cell_type": "markdown",
   "metadata": {},
   "source": [
    "## Import "
   ]
  },
  {
   "cell_type": "code",
   "execution_count": 1,
   "metadata": {},
   "outputs": [],
   "source": [
    "import os\n",
    "import sys\n",
    "import pandas as pd\n",
    "import numpy as np\n",
    "from pandas import DataFrame\n",
    "import sqlalchemy\n",
    "from sqlalchemy import create_engine\n",
    "import getpass\n",
    "import datetime\n",
    "import win32com.client as win32\n",
    "import calendar\n",
    "from openpyxl import Workbook, load_workbook\n",
    "from IPython.lib.display import Audio"
   ]
  },
  {
   "cell_type": "markdown",
   "metadata": {},
   "source": [
    "### Select the folder where you wanna do the work\n",
    "### Also ask for the Reporting Date"
   ]
  },
  {
   "cell_type": "code",
   "execution_count": 2,
   "metadata": {},
   "outputs": [],
   "source": [
    "directory = os.path.abspath(os.getcwd()) + \"/\"\n",
    "os.chdir(directory)\n",
    "\n",
    "rd = str(input(\"Please enter the RD (YYYYMMDD): \"))\n",
    "\n",
    "ws_cons = \"0002\"\n",
    "ws_uncons = \"0194\""
   ]
  },
  {
   "cell_type": "markdown",
   "metadata": {},
   "source": [
    "### Make connection with Oracle DB"
   ]
  },
  {
   "cell_type": "code",
   "execution_count": 3,
   "metadata": {},
   "outputs": [
    {
     "data": {
      "text/plain": [
       "<sqlalchemy.engine.cursor.LegacyCursorResult at 0x27a51eef5b0>"
      ]
     },
     "execution_count": 3,
     "metadata": {},
     "output_type": "execute_result"
    }
   ],
   "source": [
    "#Setting up RAY connection:\n",
    "connection_RAY = create_engine(str(\"oracle://:@OCRPN\"))\n",
    "connection_RAY.execute(\"call pack_context.context_open(to_date('{reporting_date}','YYYYMMDD'),{partition})\".format(\n",
    "                 reporting_date = rd, partition = ws_uncons))"
   ]
  },
  {
   "cell_type": "markdown",
   "metadata": {},
   "source": [
    "### Select securities"
   ]
  },
  {
   "cell_type": "code",
   "execution_count": 4,
   "metadata": {},
   "outputs": [
    {
     "name": "stdout",
     "output_type": "stream",
     "text": [
      "CPU times: total: 0 ns\n",
      "Wall time: 647 ms\n"
     ]
    }
   ],
   "source": [
    "%%time\n",
    "d1 = pd.read_sql_query(\"\"\"select s.security_Reference as security, cr.rating_code, r.book_code, r.attribute_5, r.repo_Type, r.contract_type, r.counterparty_code, e.entity_desc \n",
    "from security s \n",
    "left join repo_portfolio rp on s.security_reference = rp.security_reference \n",
    "left join repo r on rp.repo_reference = r.contract_Reference \n",
    "left join entity e on r.counterparty_code = e.entity_code \n",
    "left join credit_Rating cr on s.security_reference = cr.reference \n",
    "where s.security_reference like ('TRI_%') \n",
    "and r.attribute_5 is not null \"\"\", connection_RAY)"
   ]
  },
  {
   "cell_type": "code",
   "execution_count": 5,
   "metadata": {},
   "outputs": [
    {
     "data": {
      "text/html": [
       "<div>\n",
       "<style scoped>\n",
       "    .dataframe tbody tr th:only-of-type {\n",
       "        vertical-align: middle;\n",
       "    }\n",
       "\n",
       "    .dataframe tbody tr th {\n",
       "        vertical-align: top;\n",
       "    }\n",
       "\n",
       "    .dataframe thead th {\n",
       "        text-align: right;\n",
       "    }\n",
       "</style>\n",
       "<table border=\"1\" class=\"dataframe\">\n",
       "  <thead>\n",
       "    <tr style=\"text-align: right;\">\n",
       "      <th></th>\n",
       "      <th>security</th>\n",
       "      <th>rating_code</th>\n",
       "      <th>book_code</th>\n",
       "      <th>attribute_5</th>\n",
       "      <th>repo_type</th>\n",
       "      <th>contract_type</th>\n",
       "      <th>counterparty_code</th>\n",
       "      <th>entity_desc</th>\n",
       "    </tr>\n",
       "  </thead>\n",
       "  <tbody>\n",
       "    <tr>\n",
       "      <th>0</th>\n",
       "      <td>TRI_BNPA_P7</td>\n",
       "      <td>None</td>\n",
       "      <td>HO_T</td>\n",
       "      <td>A961693*ARTS*ARTS*HO</td>\n",
       "      <td>RR</td>\n",
       "      <td>IL0101</td>\n",
       "      <td>161038</td>\n",
       "      <td>BNP Paribas Arbitrage SNC</td>\n",
       "    </tr>\n",
       "  </tbody>\n",
       "</table>\n",
       "</div>"
      ],
      "text/plain": [
       "      security rating_code book_code           attribute_5 repo_type  \\\n",
       "0  TRI_BNPA_P7        None      HO_T  A961693*ARTS*ARTS*HO        RR   \n",
       "\n",
       "  contract_type counterparty_code                entity_desc  \n",
       "0        IL0101            161038  BNP Paribas Arbitrage SNC  "
      ]
     },
     "execution_count": 5,
     "metadata": {},
     "output_type": "execute_result"
    }
   ],
   "source": [
    "d1_final = d1.drop_duplicates(subset=['security'])\n",
    "d1_final"
   ]
  },
  {
   "cell_type": "markdown",
   "metadata": {},
   "source": [
    "### Open MC Dummy ISINs in ARTS all"
   ]
  },
  {
   "cell_type": "code",
   "execution_count": 8,
   "metadata": {
    "scrolled": true
   },
   "outputs": [],
   "source": [
    "im_folder = \"Import/\"\n",
    "ex_folder = \"Export/\"\n",
    "dummy_isin = pd.read_excel(im_folder + \"MC Dummy ISINs in ARTS all.xlsx\")\n",
    "triparty = load_workbook(im_folder + \"CW_check - Template.xlsx\")\n",
    "\n",
    "credit_rating = triparty['DataInput2']\n",
    "non_rating_list = ['ACTIVE', 'FUNDS', 'MAIN INDEX', 'NON MAIN INDEX']\n",
    "\n",
    "d1_final.security.tolist()\n",
    "d1_final\n",
    "added = 0\n",
    "date = \"31.01.2015 00:00\"\n",
    "dummy_isin\n",
    "for i, security in enumerate(d1_final.security.tolist()):\n",
    "    if security in dummy_isin.REFERENCE.tolist():\n",
    "#         print(security)\n",
    "#         print(dummy_isin.REFERENCE.tolist().index(security))\n",
    "#         print(dummy_isin.RATING_CODE[dummy_isin.REFERENCE.tolist().index(security)])\n",
    "        if dummy_isin.RATING_CODE[dummy_isin.REFERENCE.tolist().index(security)] not in non_rating_list:\n",
    "            credit_rating.cell(row = added + 19, column = 1).value = security\n",
    "            credit_rating.cell(row = added + 19, column = 2).value = \"STD_POORS\"\n",
    "            credit_rating.cell(row = added + 19, column = 3).value = date\n",
    "            credit_rating.cell(row = added + 19, column = 4).value = \"EQUITY\"\n",
    "            credit_rating.cell(row = added + 19, column = 5).value = dummy_isin.RATING_CODE[dummy_isin.REFERENCE.tolist().index(security)]\n",
    "            added =+ 1\n",
    "    else:\n",
    "        print(security + \" does not exist\")\n",
    "    \n",
    "triparty.save(ex_folder + \"CREDIT_RATING_TRIparty_\" + rd + \".xlsx\")"
   ]
  }
 ],
 "metadata": {
  "kernelspec": {
   "display_name": "Python 3",
   "language": "python",
   "name": "python3"
  },
  "language_info": {
   "codemirror_mode": {
    "name": "ipython",
    "version": 3
   },
   "file_extension": ".py",
   "mimetype": "text/x-python",
   "name": "python",
   "nbconvert_exporter": "python",
   "pygments_lexer": "ipython3",
   "version": "3.10.7"
  },
  "vscode": {
   "interpreter": {
    "hash": "9b4d75ac280b6c7c3aa43866cb82dc88915409b55fec83a093dd0284cb58708e"
   }
  }
 },
 "nbformat": 4,
 "nbformat_minor": 2
}
