{
 "cells": [
  {
   "cell_type": "markdown",
   "metadata": {},
   "source": [
    "# What happens:\n",
    "- It checks whether a CCn is missing for our Units \n",
    "- It also filters out counterparty_type 62 and 36\n",
    "- It prepares the email\n",
    "- You only need to make the screenshot and find the unit contacts"
   ]
  },
  {
   "cell_type": "markdown",
   "metadata": {},
   "source": [
    "## Import "
   ]
  },
  {
   "cell_type": "code",
   "execution_count": 1,
   "metadata": {},
   "outputs": [],
   "source": [
    "import os\n",
    "import sys\n",
    "import pandas as pd\n",
    "import numpy as np\n",
    "from pandas import DataFrame\n",
    "import sqlalchemy\n",
    "from sqlalchemy import create_engine\n",
    "import getpass\n",
    "import win32com.client as win32"
   ]
  },
  {
   "cell_type": "markdown",
   "metadata": {},
   "source": [
    "### Select the folder where you wanna do the work\n",
    "### Also ask for the Reporting Date"
   ]
  },
  {
   "cell_type": "code",
   "execution_count": 6,
   "metadata": {},
   "outputs": [
    {
     "name": "stdout",
     "output_type": "stream",
     "text": [
      "Please enter the RD (YYYYMMDD): 20221031\n"
     ]
    }
   ],
   "source": [
    "directory = \"C:/Users/WZHARBC/Documents/Python Monthly Tasks/Exports\"\n",
    "os.chdir(directory)\n",
    "\n",
    "rd = str(input(\"Please enter the RD (YYYYMMDD): \"))\n",
    "\n",
    "ws = \"0194\""
   ]
  },
  {
   "cell_type": "markdown",
   "metadata": {},
   "source": [
    "### Make connection with Oracle DB"
   ]
  },
  {
   "cell_type": "code",
   "execution_count": 7,
   "metadata": {},
   "outputs": [
    {
     "data": {
      "text/plain": [
       "<sqlalchemy.engine.result.ResultProxy at 0x165019bdd30>"
      ]
     },
     "execution_count": 7,
     "metadata": {},
     "output_type": "execute_result"
    }
   ],
   "source": [
    "#Setting up RAY connection:\n",
    "connection_RAY = create_engine(str(\"oracle://:@OCRPN\"))\n",
    "connection_RAY.execute(\"call pack_context.context_open(to_date('{reporting_date}','YYYYMMDD'),{partition})\".format(\n",
    "                 reporting_date = rd, partition = ws))"
   ]
  },
  {
   "cell_type": "markdown",
   "metadata": {},
   "source": [
    "### Save selection\n",
    "### SQL 1"
   ]
  },
  {
   "cell_type": "code",
   "execution_count": 8,
   "metadata": {},
   "outputs": [
    {
     "name": "stdout",
     "output_type": "stream",
     "text": [
      "Wall time: 589 ms\n"
     ]
    }
   ],
   "source": [
    "%%time\n",
    "d = pd.read_sql_query(\"\"\"select se.partition_key,se.security_reference,se.security_description,se.security_type,se.issuer_code, sp. book_code, sp.nominal, sp.position_initial_value, sp.attribute_2, se.attribute_2, security_family\n",
    "from security se left join security_positions sp on (se.security_reference = sp.security_reference)\n",
    "where se.issuer_code is null and (sp.nominal >0 or position_initial_value >0) and (sp.attribute_2 = 'EQUITY' or se.attribute_2 = 'EQUITY' or security_family = 'E') and book_code like '%_B'\n",
    "group by se.partition_key,se.security_reference,se.security_description,se.security_type,se.issuer_code, sp. book_code, sp.nominal, sp.position_initial_value, sp.attribute_2, se.attribute_2, security_family\n",
    "\"\"\", connection_RAY)\n"
   ]
  },
  {
   "cell_type": "markdown",
   "metadata": {},
   "source": [
    "### Show Results of selection"
   ]
  },
  {
   "cell_type": "code",
   "execution_count": 9,
   "metadata": {},
   "outputs": [
    {
     "data": {
      "text/html": [
       "<div>\n",
       "<style scoped>\n",
       "    .dataframe tbody tr th:only-of-type {\n",
       "        vertical-align: middle;\n",
       "    }\n",
       "\n",
       "    .dataframe tbody tr th {\n",
       "        vertical-align: top;\n",
       "    }\n",
       "\n",
       "    .dataframe thead th {\n",
       "        text-align: right;\n",
       "    }\n",
       "</style>\n",
       "<table border=\"1\" class=\"dataframe\">\n",
       "  <thead>\n",
       "    <tr style=\"text-align: right;\">\n",
       "      <th></th>\n",
       "      <th>partition_key</th>\n",
       "      <th>security_reference</th>\n",
       "      <th>security_description</th>\n",
       "      <th>security_type</th>\n",
       "      <th>issuer_code</th>\n",
       "      <th>book_code</th>\n",
       "      <th>nominal</th>\n",
       "      <th>position_initial_value</th>\n",
       "      <th>attribute_2</th>\n",
       "      <th>attribute_2</th>\n",
       "      <th>security_family</th>\n",
       "    </tr>\n",
       "  </thead>\n",
       "  <tbody>\n",
       "  </tbody>\n",
       "</table>\n",
       "</div>"
      ],
      "text/plain": [
       "Empty DataFrame\n",
       "Columns: [partition_key, security_reference, security_description, security_type, issuer_code, book_code, nominal, position_initial_value, attribute_2, attribute_2, security_family]\n",
       "Index: []"
      ]
     },
     "execution_count": 9,
     "metadata": {},
     "output_type": "execute_result"
    }
   ],
   "source": [
    "d"
   ]
  },
  {
   "cell_type": "markdown",
   "metadata": {},
   "source": [
    "### SQL 2"
   ]
  },
  {
   "cell_type": "code",
   "execution_count": 10,
   "metadata": {},
   "outputs": [
    {
     "name": "stdout",
     "output_type": "stream",
     "text": [
      "Wall time: 4.4 s\n"
     ]
    }
   ],
   "source": [
    "%%time\n",
    "d2 = pd.read_sql_query(\"\"\"select booking_company, attribute_5, counterparty_code, counterparty_name, counterparty_type\n",
    "from rzb_cdr\n",
    "where record_source = 'T_CDR' and table_name = 'EQUITY' and counterparty_name is null\"\"\", connection_RAY)"
   ]
  },
  {
   "cell_type": "code",
   "execution_count": 11,
   "metadata": {},
   "outputs": [
    {
     "data": {
      "text/html": [
       "<div>\n",
       "<style scoped>\n",
       "    .dataframe tbody tr th:only-of-type {\n",
       "        vertical-align: middle;\n",
       "    }\n",
       "\n",
       "    .dataframe tbody tr th {\n",
       "        vertical-align: top;\n",
       "    }\n",
       "\n",
       "    .dataframe thead th {\n",
       "        text-align: right;\n",
       "    }\n",
       "</style>\n",
       "<table border=\"1\" class=\"dataframe\">\n",
       "  <thead>\n",
       "    <tr style=\"text-align: right;\">\n",
       "      <th></th>\n",
       "      <th>booking_company</th>\n",
       "      <th>attribute_5</th>\n",
       "      <th>counterparty_code</th>\n",
       "      <th>counterparty_name</th>\n",
       "      <th>counterparty_type</th>\n",
       "    </tr>\n",
       "  </thead>\n",
       "  <tbody>\n",
       "    <tr>\n",
       "      <th>0</th>\n",
       "      <td>RBHU</td>\n",
       "      <td>BAKOZP00000001AFS0001S00 RAIFF.GPT*APL*EQUATIO...</td>\n",
       "      <td>110690</td>\n",
       "      <td>None</td>\n",
       "      <td>62</td>\n",
       "    </tr>\n",
       "  </tbody>\n",
       "</table>\n",
       "</div>"
      ],
      "text/plain": [
       "  booking_company                                        attribute_5  \\\n",
       "0            RBHU  BAKOZP00000001AFS0001S00 RAIFF.GPT*APL*EQUATIO...   \n",
       "\n",
       "  counterparty_code counterparty_name counterparty_type  \n",
       "0            110690              None                62  "
      ]
     },
     "execution_count": 11,
     "metadata": {},
     "output_type": "execute_result"
    }
   ],
   "source": [
    "d2"
   ]
  },
  {
   "cell_type": "markdown",
   "metadata": {},
   "source": [
    "### Show Results of selection"
   ]
  },
  {
   "cell_type": "code",
   "execution_count": 12,
   "metadata": {},
   "outputs": [
    {
     "data": {
      "text/html": [
       "<div>\n",
       "<style scoped>\n",
       "    .dataframe tbody tr th:only-of-type {\n",
       "        vertical-align: middle;\n",
       "    }\n",
       "\n",
       "    .dataframe tbody tr th {\n",
       "        vertical-align: top;\n",
       "    }\n",
       "\n",
       "    .dataframe thead th {\n",
       "        text-align: right;\n",
       "    }\n",
       "</style>\n",
       "<table border=\"1\" class=\"dataframe\">\n",
       "  <thead>\n",
       "    <tr style=\"text-align: right;\">\n",
       "      <th></th>\n",
       "      <th>booking_company</th>\n",
       "      <th>attribute_5</th>\n",
       "      <th>counterparty_code</th>\n",
       "      <th>counterparty_name</th>\n",
       "      <th>counterparty_type</th>\n",
       "    </tr>\n",
       "  </thead>\n",
       "  <tbody>\n",
       "  </tbody>\n",
       "</table>\n",
       "</div>"
      ],
      "text/plain": [
       "Empty DataFrame\n",
       "Columns: [booking_company, attribute_5, counterparty_code, counterparty_name, counterparty_type]\n",
       "Index: []"
      ]
     },
     "execution_count": 12,
     "metadata": {},
     "output_type": "execute_result"
    }
   ],
   "source": [
    "units = ['AVAL', 'Centro', 'Kathrein', 'RBAL', 'RBBG', 'RBBH', 'RBBY', 'RBCN', 'RBCZ', 'RBHR', 'RBHU', 'RPL', 'RBI', 'RBKO', 'RBIPL', 'RBRO', 'RBRS', 'RBRU', 'RBSG', 'RBSPK', 'RBSPKMS', 'RBSPKHR', 'RBSPKRO', 'RBUK', 'RBUS', 'RFACTOR', 'RKAG', 'RLAL', 'RLAT', 'RLBANK', 'RLBG', 'RLBH', 'RLBY1', 'RLCZ', 'RLHR', 'RLKO', 'RLRETE', 'RLRO', 'RLRS', 'RLRU', 'RBRUFIN', 'RLSI', 'RLUA', 'RSTS', 'KONEVOVA', 'RWBB', 'TBSK', 'TLSK', 'ILSK', 'EQBCZ']\n",
    "d2[(d2.counterparty_type != '62') & (d2.counterparty_type != '36') & (d2.booking_company.isin(units))] \n"
   ]
  },
  {
   "cell_type": "code",
   "execution_count": null,
   "metadata": {},
   "outputs": [],
   "source": [
    "outlook = win32.Dispatch('outlook.application')\n",
    "mail = outlook.CreateItem(0)\n",
    "mail.To = ''\n",
    "mail.Cc = ''\n",
    "mail.Subject = 'Missing CCN Security Table'\n",
    "mail.Body = '''Dear Colleagues,\n",
    "\n",
    "We found this case where the CCN is missing in the Security Table.\n",
    "Could you please address this issue, for the next delivery as well?\n",
    "\n",
    "Thanks in advance and kind regards,\n",
    "Arber Bajraktari\n",
    "Student Support IT\n",
    "\n",
    "Raiffeisen Bank International AG | Am Stadtpark 9, 1030 Vienna, Austria | Tel. : +43 664 99481391\n",
    "arber.bajraktari@rbinternational.com | http://www.rbinternational.com \n",
    "'''\n",
    "\n",
    "mail.Display()"
   ]
  },
  {
   "cell_type": "code",
   "execution_count": null,
   "metadata": {},
   "outputs": [],
   "source": []
  },
  {
   "cell_type": "code",
   "execution_count": null,
   "metadata": {},
   "outputs": [],
   "source": []
  }
 ],
 "metadata": {
  "kernelspec": {
   "display_name": "Python 3",
   "language": "python",
   "name": "python3"
  },
  "language_info": {
   "codemirror_mode": {
    "name": "ipython",
    "version": 3
   },
   "file_extension": ".py",
   "mimetype": "text/x-python",
   "name": "python",
   "nbconvert_exporter": "python",
   "pygments_lexer": "ipython3",
   "version": "3.7.1"
  }
 },
 "nbformat": 4,
 "nbformat_minor": 2
}
