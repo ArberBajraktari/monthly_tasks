{
 "cells": [
  {
   "cell_type": "markdown",
   "metadata": {},
   "source": [
    "# What happens:\n",
    "File is created and email is prepared"
   ]
  },
  {
   "cell_type": "markdown",
   "metadata": {},
   "source": [
    "## Import "
   ]
  },
  {
   "cell_type": "code",
   "execution_count": 1,
   "metadata": {},
   "outputs": [],
   "source": [
    "import os\n",
    "import pandas as pd\n",
    "import numpy as np\n",
    "from pandas import DataFrame\n",
    "from sqlalchemy import create_engine\n",
    "import win32com.client as win32\n",
    "from openpyxl import Workbook, load_workbook"
   ]
  },
  {
   "cell_type": "markdown",
   "metadata": {},
   "source": [
    "### Select the folder where you wanna do the work\n",
    "### Also ask for the Reporting Date"
   ]
  },
  {
   "cell_type": "code",
   "execution_count": 2,
   "metadata": {},
   "outputs": [],
   "source": [
    "directory = os.path.abspath(os.getcwd()) + \"/\"\n",
    "rd = str(input(\"Please enter the RD (YYYYMMDD): \"))\n",
    "\n",
    "ws = \"0194\""
   ]
  },
  {
   "cell_type": "markdown",
   "metadata": {},
   "source": [
    "### Make connection with Oracle DB"
   ]
  },
  {
   "cell_type": "code",
   "execution_count": 3,
   "metadata": {},
   "outputs": [
    {
     "data": {
      "text/plain": [
       "<sqlalchemy.engine.cursor.LegacyCursorResult at 0x26523823910>"
      ]
     },
     "execution_count": 3,
     "metadata": {},
     "output_type": "execute_result"
    }
   ],
   "source": [
    "#Setting up RAY connection:\n",
    "connection_RAY = create_engine(str(\"oracle://:@OCRPN\"))\n",
    "connection_RAY.execute(\"call pack_context.context_open(to_date('{reporting_date}','YYYYMMDD'),{partition})\".format(\n",
    "                 reporting_date = rd, partition = ws))"
   ]
  },
  {
   "attachments": {},
   "cell_type": "markdown",
   "metadata": {},
   "source": [
    "## Load template"
   ]
  },
  {
   "cell_type": "code",
   "execution_count": 4,
   "metadata": {},
   "outputs": [],
   "source": [
    "im_folder = \"Import/\"\n",
    "ex_folder = \"Export/\"\n",
    "file_path = \"NPE_Capital_Template.xlsx\"\n",
    "file_name = \"EAD_NPE_Backstop_\" + rd + \".xlsx\"\n",
    "npe_template = load_workbook(im_folder + file_path)\n",
    "npe_template_sql = npe_template['SQL']\n",
    "npe_sql_tcdr = npe_template_sql['A2'].value\n",
    "npe_sql_cet1 = npe_template_sql['A6'].value"
   ]
  },
  {
   "cell_type": "markdown",
   "metadata": {},
   "source": [
    "### Save selection\n",
    "Also see how much time it took"
   ]
  },
  {
   "cell_type": "code",
   "execution_count": 5,
   "metadata": {},
   "outputs": [
    {
     "name": "stdout",
     "output_type": "stream",
     "text": [
      "CPU times: total: 3.52 s\n",
      "Wall time: 1min 33s\n"
     ]
    }
   ],
   "source": [
    "%%time\n",
    "d1 = pd.read_sql_query(npe_sql_tcdr, connection_RAY)\n",
    "d2 = pd.read_sql_query(npe_sql_cet1, connection_RAY)"
   ]
  },
  {
   "cell_type": "code",
   "execution_count": 6,
   "metadata": {},
   "outputs": [
    {
     "name": "stderr",
     "output_type": "stream",
     "text": [
      "C:\\Users\\WZHARBC\\AppData\\Local\\Temp\\1\\ipykernel_16456\\1528375210.py:7: FutureWarning: Setting the `book` attribute is not part of the public API, usage can give unexpected or corrupted results and will be removed in a future version\n",
      "  writer.book = ExcelWorkbook\n"
     ]
    }
   ],
   "source": [
    "# Generating workbook\n",
    "ExcelWorkbook = load_workbook(filename = im_folder + file_path)\n",
    " \n",
    "# Generating the writer engine\n",
    "writer = pd.ExcelWriter(ex_folder + file_name, engine = 'openpyxl')\n",
    "# Assigning the workbook to the writer engine\n",
    "writer.book = ExcelWorkbook\n",
    "d1.to_excel(writer, sheet_name = \"TCDR\", index=False)\n",
    "d2.to_excel(writer, sheet_name = \"CET1-Deductions\", index=False)\n",
    "\n",
    "ExcelWorkbook.save(ex_folder + file_name)\n",
    "ExcelWorkbook.close()"
   ]
  },
  {
   "cell_type": "markdown",
   "metadata": {},
   "source": [
    "### Send the email "
   ]
  },
  {
   "cell_type": "code",
   "execution_count": null,
   "metadata": {},
   "outputs": [],
   "source": [
    "outlook = win32.Dispatch('outlook.application')\n",
    "mail = outlook.CreateItem(0)\n",
    "mail.To = 'stefan.wagner@rbinternational.com;mathias.mesicek@rbinternational.com;lediana.kalaja@rbinternational.com;olga.muster@rbinternational.com; tea.kranner@rbinternational.com'\n",
    "mail.Cc = 'nertila.gjakova@rbinternational.com'\n",
    "mail.Subject = 'NPE-Capital Deduction for ' + rd[4:6] + \"/\" + rd[2:4]\n",
    "mail.Body = '''Dear colleagues, \n",
    "\n",
    "Attached you can find  the ''' + rd[4:6] + '''/''' + rd[2:4] + ''' results.\n",
    "\n",
    "Kr,\n",
    "Arber Bajraktari\n",
    "Student Support IT\n",
    "\n",
    "Raiffeisen Bank International AG | Am Stadtpark 9, 1030 Vienna, Austria | Tel. : +43 664 99481391\n",
    "arber.bajraktari@rbinternational.com | http://www.rbinternational.com \n",
    "'''\n",
    "\n",
    "# To attach a file to the email (optional):\n",
    "attachment  = directory + ex_folder + file_name\n",
    "mail.Attachments.Add(attachment)\n",
    "\n",
    "mail.Display()"
   ]
  }
 ],
 "metadata": {
  "kernelspec": {
   "display_name": "Python 3.10.7 64-bit",
   "language": "python",
   "name": "python3"
  },
  "language_info": {
   "codemirror_mode": {
    "name": "ipython",
    "version": 3
   },
   "file_extension": ".py",
   "mimetype": "text/x-python",
   "name": "python",
   "nbconvert_exporter": "python",
   "pygments_lexer": "ipython3",
   "version": "3.10.7 (tags/v3.10.7:6cc6b13, Sep  5 2022, 14:08:36) [MSC v.1933 64 bit (AMD64)]"
  },
  "vscode": {
   "interpreter": {
    "hash": "9b4d75ac280b6c7c3aa43866cb82dc88915409b55fec83a093dd0284cb58708e"
   }
  }
 },
 "nbformat": 4,
 "nbformat_minor": 2
}
