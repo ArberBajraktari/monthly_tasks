{
 "cells": [
  {
   "cell_type": "markdown",
   "metadata": {},
   "source": [
    "# What happens:\n",
    "Files are created, send email with excel script"
   ]
  },
  {
   "cell_type": "markdown",
   "metadata": {},
   "source": [
    "## Import "
   ]
  },
  {
   "cell_type": "code",
   "execution_count": 1,
   "metadata": {},
   "outputs": [],
   "source": [
    "import os\n",
    "import sys\n",
    "import pandas as pd\n",
    "import numpy as np\n",
    "from pandas import DataFrame\n",
    "import sqlalchemy\n",
    "from sqlalchemy import create_engine\n",
    "import getpass\n",
    "import datetime\n",
    "import win32com.client as win32\n",
    "import calendar\n",
    "from openpyxl import Workbook, load_workbook\n",
    "from IPython.lib.display import Audio\n",
    "from openpyxl.utils.dataframe import dataframe_to_rows\n",
    "from openpyxl.cell import Cell\n",
    "from openpyxl.styles import Color, Font, PatternFill"
   ]
  },
  {
   "cell_type": "markdown",
   "metadata": {},
   "source": [
    "### Select the folder where you wanna do the work\n",
    "### Also ask for the Reporting Date"
   ]
  },
  {
   "cell_type": "code",
   "execution_count": 2,
   "metadata": {},
   "outputs": [
    {
     "name": "stdout",
     "output_type": "stream",
     "text": [
      "Please enter the RD (YYYYMMDD): 20221031\n"
     ]
    }
   ],
   "source": [
    "directory = \"C:/Users/WZHARBC/Documents/Python Monthly Tasks/Exports/Recalibration of DQI\"\n",
    "os.chdir(directory)\n",
    "\n",
    "rd = str(input(\"Please enter the RD (YYYYMMDD): \"))\n",
    "\n",
    "ws = \"0002\""
   ]
  },
  {
   "cell_type": "markdown",
   "metadata": {},
   "source": [
    "### Make connection with Oracle DB"
   ]
  },
  {
   "cell_type": "code",
   "execution_count": 3,
   "metadata": {},
   "outputs": [
    {
     "data": {
      "text/plain": [
       "<sqlalchemy.engine.result.ResultProxy at 0x2240c288e80>"
      ]
     },
     "execution_count": 3,
     "metadata": {},
     "output_type": "execute_result"
    }
   ],
   "source": [
    "#Setting up RAY connection:\n",
    "connection_RAY = create_engine(str(\"oracle://:@OCRPN\"))\n",
    "connection_RAY.execute(\"call pack_context.context_open(to_date('{reporting_date}','YYYYMMDD'),{partition})\".format(\n",
    "                 reporting_date = rd, partition = ws))"
   ]
  },
  {
   "cell_type": "markdown",
   "metadata": {},
   "source": [
    "## Function"
   ]
  },
  {
   "cell_type": "code",
   "execution_count": 4,
   "metadata": {},
   "outputs": [],
   "source": [
    "def save_file(file_name, sheet_name, ws_nr, sqls):\n",
    "    # Create file\n",
    "    wb = Workbook()\n",
    "    for index, sheet in enumerate(sheet_name):\n",
    "        wb.create_sheet(sheet)\n",
    "        \n",
    "    std = wb.get_sheet_by_name('Sheet')\n",
    "    wb.remove_sheet(std)\n",
    "    wb.save(filename = file_name)\n",
    "    \n",
    "    dfs = []\n",
    "    # Select SQLs\n",
    "    for index, sheet in enumerate(sheet_name):\n",
    "        try:\n",
    "            connection_RAY.execute(\"call pack_context.context_open(to_date('{reporting_date}','YYYYMMDD'), {partition})\".format(\n",
    "                            reporting_date = rd, partition = ws_nr[index]))\n",
    "            df_temp= pd.read_sql_query( sqls[index], connection_RAY)\n",
    "            dfs.append(df_temp)\n",
    "        except:\n",
    "            dfs.append(pd.DataFrame())\n",
    "            print( str(ws_nr[index]) + \" is not created\")\n",
    "            \n",
    "    dfs[0].to_csv(file_name, sep = ';', index = False,)\n",
    "    print('DataFrame is written to Excel File successfully.')\n"
   ]
  },
  {
   "cell_type": "markdown",
   "metadata": {},
   "source": [
    "### Data for Boris Peulic"
   ]
  },
  {
   "cell_type": "code",
   "execution_count": 5,
   "metadata": {},
   "outputs": [
    {
     "name": "stderr",
     "output_type": "stream",
     "text": [
      "C:\\ProgramData\\Anaconda3\\lib\\site-packages\\ipykernel_launcher.py:7: DeprecationWarning: Call to deprecated function get_sheet_by_name (Use wb[sheetname]).\n",
      "  import sys\n",
      "C:\\ProgramData\\Anaconda3\\lib\\site-packages\\ipykernel_launcher.py:8: DeprecationWarning: Call to deprecated function remove_sheet (Use wb.remove(worksheet) or del wb[sheetname]).\n",
      "  \n"
     ]
    },
    {
     "name": "stdout",
     "output_type": "stream",
     "text": [
      "DataFrame is written to Excel File successfully.\n"
     ]
    }
   ],
   "source": [
    "file_name2 ='Retail Data ' + rd + '.csv'\n",
    "sheet_name = [\"Data\" ]\n",
    "ws_nr = [2]\n",
    "sqls = [\"\"\"\n",
    "with t_cdr_sub as (\n",
    "    select exposure_attribute_5, min(npe_date) npe_date  \n",
    "    from t_cdr \n",
    "   where booking_company in ('RBIPL_B')\n",
    "        and counterparty_type_original IN ('1', '20')\n",
    "        and npe_date is not null\n",
    "    group by exposure_attribute_5\n",
    ")\n",
    "select \n",
    "    t.bs_type,\n",
    "    t.default_flag,\n",
    "    t.asset_class_original,\n",
    "    t.attribute_5  ACCOUNT_ID ,\n",
    "    t.counterparty_code  CUSTOMER_ID,\n",
    "    substr(t.partition_key, 1, 8) PERIOD,\n",
    "    t.BIS_ENTITY_TYPE_ORIGINAL  BUSINESS_SEG,\n",
    "    t.counterparty_type  ASSET_CLASS,\n",
    "    t.contract_type  GPC_CODE,\n",
    "    t.start_date  OPEN_DATE,\n",
    "    t.maturity_date  MATURITY_DATE,\n",
    "    tcdr.npe_date LAST_DEFAULT_DATE,\n",
    "    wrfb.fb_start_date FORB_START_DATE,\n",
    "    wrfb.fb_start_date EBA_START_DATE,\n",
    "    (select incorporation_country from entity te where t.counterparty_code = te.entity_code) CUSTOMER_COUNTRY,\n",
    "    t.risk_region  CUSTOMER_REGION,\n",
    "    t.currency  CURRENCY,\n",
    "    wrfb.dpd_asof_repdate DPD,\n",
    "    t.nace_code  NACE,\n",
    "    wrfb.concession_type CONCESSION_TYPE,\n",
    "    wrfb.exposure_classification EBA_STATUS,\n",
    "        t.method_original  RWA_APPROACH,\n",
    "--        '#n/a#'  COREP_SHEET,\n",
    "    max(t.provision_type)  IFRS9_STAGE,\n",
    "    --    '#n/a#'  IR_TYPE,\n",
    "    sum(t.EAD_PRE_CCF) EAD_PRE_CCF,-- - sum on attribute_5 level,  BALANCE,\n",
    "    --    '#n/a#'  OFF_BAL,\n",
    "    0 LIMIT,\n",
    "    sum(t.provisions)  IFRS9_PROVISIONS,\n",
    "    sum(t.accruals)  ACCRUED_INTERESTS,\n",
    "    sum(t.rwa)  RWA,\n",
    "    AVG(t.ccf)  CF_STD,\n",
    "    AVG(to_number(EIR, '999999999.99999999999999')) EIR\n",
    "from rzb_cdr t\n",
    "    left join rzb_forbearance wrfb on wrfb.booking_company in ('RBIPL') AND t.attribute_5 = wrfb.attribute_5\n",
    "    left join t_cdr_sub tcdr on tcdr.exposure_attribute_5 = t.attribute_5\n",
    "where \n",
    "    t.booking_company in ('RBIPL')\n",
    "    and counterparty_type IN ('1', '20')\n",
    "    and record_source = 'T_CDR'\n",
    "group by\n",
    "    t.bs_type,\n",
    "    t.default_flag,\n",
    "    t.asset_class_original,\n",
    "    default_start_date,\n",
    "    t.attribute_5, \n",
    "    t.counterparty_code , \n",
    "    substr(t.partition_key, 1, 8), \n",
    "    t.BIS_ENTITY_TYPE_ORIGINAL, \n",
    "    t.counterparty_type, \n",
    "    t.contract_type, \n",
    "    t.start_date, \n",
    "    t.maturity_date,\n",
    "    tcdr.npe_date,\n",
    "    wrfb.fb_start_date,\n",
    "    wrfb.fb_start_date,\n",
    "    t.risk_region, \n",
    "    t.currency,\n",
    "    wrfb.dpd_asof_repdate,\n",
    "    t.nace_code,\n",
    "    wrfb.concession_type,\n",
    "    wrfb.exposure_classification,\n",
    "    t.method_original \n",
    "order by t.attribute_5\n",
    "\"\"\"]\n",
    "save_file(file_name2, sheet_name, ws_nr, sqls)"
   ]
  },
  {
   "cell_type": "markdown",
   "metadata": {},
   "source": [
    "### Emailing Retail Data to Boris Peulic"
   ]
  },
  {
   "cell_type": "code",
   "execution_count": 6,
   "metadata": {},
   "outputs": [],
   "source": [
    "outlook = win32.Dispatch('outlook.application')\n",
    "mail = outlook.CreateItem(0)\n",
    "mail.To = 'boris.peulic@rbinternational.com'\n",
    "mail.Cc = 'markus.hochleitner@rbinternational.com;'\n",
    "mail.Subject = 'Retail Data'\n",
    "mail.Body = '''Dear Boris,\n",
    "\n",
    "Please find attached the Retail data as of ''' + rd + '''.\n",
    "\n",
    "Thanks in advance and kind regards,\n",
    "Arber Bajraktari\n",
    "Student Support IT\n",
    "\n",
    "Raiffeisen Bank International AG | Am Stadtpark 9, 1030 Vienna, Austria | Tel. : +43 664 99481391\n",
    "arber.bajraktari@rbinternational.com | http://www.rbinternational.com \n",
    "'''\n",
    "# To attach a file to the email (optional):\n",
    "attachment  = directory + \"/\" + file_name2\n",
    "mail.Attachments.Add(attachment)\n",
    "mail.Display()\n"
   ]
  },
  {
   "cell_type": "code",
   "execution_count": null,
   "metadata": {},
   "outputs": [],
   "source": []
  }
 ],
 "metadata": {
  "kernelspec": {
   "display_name": "Python 3",
   "language": "python",
   "name": "python3"
  },
  "language_info": {
   "codemirror_mode": {
    "name": "ipython",
    "version": 3
   },
   "file_extension": ".py",
   "mimetype": "text/x-python",
   "name": "python",
   "nbconvert_exporter": "python",
   "pygments_lexer": "ipython3",
   "version": "3.7.1"
  }
 },
 "nbformat": 4,
 "nbformat_minor": 2
}
