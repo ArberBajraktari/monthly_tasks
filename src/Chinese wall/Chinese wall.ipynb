{
 "cells": [
  {
   "cell_type": "markdown",
   "metadata": {},
   "source": [
    "# What happens:\n",
    "The chinese wall file is created and the table is refreshed by itself when you open the file"
   ]
  },
  {
   "cell_type": "markdown",
   "metadata": {},
   "source": [
    "## Import"
   ]
  },
  {
   "cell_type": "code",
   "execution_count": 1,
   "metadata": {},
   "outputs": [],
   "source": [
    "import os\n",
    "import sys\n",
    "import pandas as pd\n",
    "import numpy as np\n",
    "from pandas import DataFrame\n",
    "import sqlalchemy\n",
    "from sqlalchemy import create_engine\n",
    "import getpass\n",
    "import datetime\n",
    "import win32com.client as win32\n",
    "import calendar\n",
    "from openpyxl import Workbook, load_workbook\n",
    "from IPython.lib.display import Audio\n",
    "from datetime import date"
   ]
  },
  {
   "cell_type": "code",
   "execution_count": 2,
   "metadata": {},
   "outputs": [],
   "source": [
    "directory = os.path.abspath(os.getcwd()) + \"/\"\n",
    "rd = str(input(\"Please enter the RD (YYYYMMDD): \"))"
   ]
  },
  {
   "cell_type": "code",
   "execution_count": 3,
   "metadata": {},
   "outputs": [],
   "source": [
    "#Setting up RAY connection:\n",
    "connection_RAY = create_engine(str(\"oracle://:@OCRPN\"))\n"
   ]
  },
  {
   "cell_type": "code",
   "execution_count": 4,
   "metadata": {},
   "outputs": [
    {
     "name": "stderr",
     "output_type": "stream",
     "text": [
      "C:\\Users\\WZHARBC\\AppData\\Local\\Temp\\1\\ipykernel_19380\\2186603911.py:16: FutureWarning: The frame.append method is deprecated and will be removed from pandas in a future version. Use pandas.concat instead.\n",
      "  df_final = df_final.append(df_temp, ignore_index=True)\n"
     ]
    },
    {
     "name": "stdout",
     "output_type": "stream",
     "text": [
      "CONS is done\n"
     ]
    },
    {
     "name": "stderr",
     "output_type": "stream",
     "text": [
      "C:\\Users\\WZHARBC\\AppData\\Local\\Temp\\1\\ipykernel_19380\\2186603911.py:16: FutureWarning: The frame.append method is deprecated and will be removed from pandas in a future version. Use pandas.concat instead.\n",
      "  df_final = df_final.append(df_temp, ignore_index=True)\n"
     ]
    },
    {
     "name": "stdout",
     "output_type": "stream",
     "text": [
      "CONS_NR is done\n"
     ]
    },
    {
     "name": "stderr",
     "output_type": "stream",
     "text": [
      "C:\\Users\\WZHARBC\\AppData\\Local\\Temp\\1\\ipykernel_19380\\2186603911.py:16: FutureWarning: The frame.append method is deprecated and will be removed from pandas in a future version. Use pandas.concat instead.\n",
      "  df_final = df_final.append(df_temp, ignore_index=True)\n"
     ]
    },
    {
     "name": "stdout",
     "output_type": "stream",
     "text": [
      "UNCONS is done\n"
     ]
    },
    {
     "name": "stderr",
     "output_type": "stream",
     "text": [
      "C:\\Users\\WZHARBC\\AppData\\Local\\Temp\\1\\ipykernel_19380\\2186603911.py:16: FutureWarning: The frame.append method is deprecated and will be removed from pandas in a future version. Use pandas.concat instead.\n",
      "  df_final = df_final.append(df_temp, ignore_index=True)\n"
     ]
    },
    {
     "name": "stdout",
     "output_type": "stream",
     "text": [
      "UNCONS_NR is done\n"
     ]
    },
    {
     "name": "stderr",
     "output_type": "stream",
     "text": [
      "C:\\Users\\WZHARBC\\AppData\\Local\\Temp\\1\\ipykernel_19380\\2186603911.py:16: FutureWarning: The frame.append method is deprecated and will be removed from pandas in a future version. Use pandas.concat instead.\n",
      "  df_final = df_final.append(df_temp, ignore_index=True)\n"
     ]
    },
    {
     "name": "stdout",
     "output_type": "stream",
     "text": [
      "RBIAG is done\n"
     ]
    },
    {
     "name": "stderr",
     "output_type": "stream",
     "text": [
      "C:\\Users\\WZHARBC\\AppData\\Local\\Temp\\1\\ipykernel_19380\\2186603911.py:16: FutureWarning: The frame.append method is deprecated and will be removed from pandas in a future version. Use pandas.concat instead.\n",
      "  df_final = df_final.append(df_temp, ignore_index=True)\n"
     ]
    },
    {
     "name": "stdout",
     "output_type": "stream",
     "text": [
      "CONS_RIO is done\n"
     ]
    },
    {
     "name": "stderr",
     "output_type": "stream",
     "text": [
      "C:\\Users\\WZHARBC\\AppData\\Local\\Temp\\1\\ipykernel_19380\\2186603911.py:16: FutureWarning: The frame.append method is deprecated and will be removed from pandas in a future version. Use pandas.concat instead.\n",
      "  df_final = df_final.append(df_temp, ignore_index=True)\n"
     ]
    },
    {
     "name": "stdout",
     "output_type": "stream",
     "text": [
      "UNCONS_RIO is done\n"
     ]
    },
    {
     "name": "stderr",
     "output_type": "stream",
     "text": [
      "C:\\Users\\WZHARBC\\AppData\\Local\\Temp\\1\\ipykernel_19380\\2186603911.py:16: FutureWarning: The frame.append method is deprecated and will be removed from pandas in a future version. Use pandas.concat instead.\n",
      "  df_final = df_final.append(df_temp, ignore_index=True)\n"
     ]
    },
    {
     "name": "stdout",
     "output_type": "stream",
     "text": [
      "CONS_NPE is done\n",
      "UNCONS_NPE is done\n"
     ]
    },
    {
     "name": "stderr",
     "output_type": "stream",
     "text": [
      "C:\\Users\\WZHARBC\\AppData\\Local\\Temp\\1\\ipykernel_19380\\2186603911.py:16: FutureWarning: The frame.append method is deprecated and will be removed from pandas in a future version. Use pandas.concat instead.\n",
      "  df_final = df_final.append(df_temp, ignore_index=True)\n"
     ]
    }
   ],
   "source": [
    "ws_list = ['0002', '0046', '0194', '0195', '0010', '0200', '0201', '0202', '0203']\n",
    "ws_list_names = ['CONS', 'CONS_NR', 'UNCONS', 'UNCONS_NR', 'RBIAG', 'CONS_RIO', 'UNCONS_RIO', 'CONS_NPE', 'UNCONS_NPE']\n",
    "\n",
    "df_final = pd.DataFrame()\n",
    "\n",
    "for idx, i in enumerate(ws_list):\n",
    "    connection_RAY.execute(\"call pack_context.context_open(to_date('{reporting_date}','YYYYMMDD'), {partition})\".format(\n",
    "                        reporting_date = rd, partition = i))\n",
    "    df_temp = pd.read_sql_query(\"\"\"select booking_company, securitized, securitization_reference\t\n",
    "    from t_cdr\t\n",
    "    where securitized in ('T', 'U')\t\n",
    "    group by partition_key, booking_company, securitized, securitization_reference\t\n",
    "    order by booking_company, securitization_reference\t\n",
    "        \"\"\", connection_RAY)\n",
    "    df_temp['ws'] = ws_list_names[idx]\n",
    "    df_final = df_final.append(df_temp, ignore_index=True)\n",
    "    print(ws_list_names[idx] + \" is done\")"
   ]
  },
  {
   "cell_type": "code",
   "execution_count": 5,
   "metadata": {},
   "outputs": [],
   "source": [
    "im_folder = \"Import/\"\n",
    "ex_folder = \"Export/\"\n",
    "cw_check = load_workbook(im_folder + \"CW_check - Template.xlsx\")\n",
    "cw = cw_check['CW']\n",
    "\n",
    "cell_range = cw['A2':'D200']\n",
    "\n",
    "#clear units\n",
    "for row in cell_range:\n",
    "    for cell in row:\n",
    "        cell.value = None  "
   ]
  },
  {
   "cell_type": "code",
   "execution_count": 6,
   "metadata": {},
   "outputs": [],
   "source": [
    "for i, row in df_final.iterrows():\n",
    "    cw.cell(row=i+2, column=1).value = row.ws\n",
    "    cw.cell(row=i+2, column=2).value = row.booking_company\n",
    "    cw.cell(row=i+2, column=3).value = row.securitized\n",
    "    cw.cell(row=i+2, column=4).value = row.securitization_reference"
   ]
  },
  {
   "cell_type": "code",
   "execution_count": 7,
   "metadata": {},
   "outputs": [],
   "source": [
    "pivot = cw._pivots[0]\n",
    "pivot.cache.refreshOnLoad = True"
   ]
  },
  {
   "cell_type": "code",
   "execution_count": 8,
   "metadata": {},
   "outputs": [],
   "source": [
    "today = date.today()\n",
    "date_today = today.strftime(\"%Y%m%d\")\n",
    "file_name = \"CW_check - \" + date_today + \".xlsx\"\n",
    "cw_check.save(ex_folder + file_name)"
   ]
  },
  {
   "cell_type": "code",
   "execution_count": 9,
   "metadata": {},
   "outputs": [],
   "source": [
    "outlook = win32.Dispatch('outlook.application')\n",
    "mail = outlook.CreateItem(0)\n",
    "mail.To = 'karolina.cieszynska@rbinternational.com; zoltan.peterfalvi@rbinternational.com'\n",
    "mail.Cc = 'nertila.gjakova@rbinternational.com;'\n",
    "mail.Subject = 'Chinese Wall Check ' + date_today\n",
    "mail.Body = '''Dear Karolina,\n",
    "\n",
    "Please find attached, the monthly Chinese Wall check.\n",
    "\n",
    "Kr\n",
    "Arber Bajraktari\n",
    "Student Support IT\n",
    "\n",
    "Raiffeisen Bank International AG | Am Stadtpark 9, 1030 Vienna, Austria | Tel. : +43 664 99481391\n",
    "arber.bajraktari@rbinternational.com | http://www.rbinternational.com \n",
    "'''\n",
    "\n",
    "# To attach a file to the email (optional):\n",
    "attachment  = directory + ex_folder + file_name\n",
    "mail.Attachments.Add(attachment)\n",
    "\n",
    "mail.Display()"
   ]
  }
 ],
 "metadata": {
  "kernelspec": {
   "display_name": "Python 3",
   "language": "python",
   "name": "python3"
  },
  "language_info": {
   "codemirror_mode": {
    "name": "ipython",
    "version": 3
   },
   "file_extension": ".py",
   "mimetype": "text/x-python",
   "name": "python",
   "nbconvert_exporter": "python",
   "pygments_lexer": "ipython3",
   "version": "3.10.7 (tags/v3.10.7:6cc6b13, Sep  5 2022, 14:08:36) [MSC v.1933 64 bit (AMD64)]"
  },
  "vscode": {
   "interpreter": {
    "hash": "9b4d75ac280b6c7c3aa43866cb82dc88915409b55fec83a093dd0284cb58708e"
   }
  }
 },
 "nbformat": 4,
 "nbformat_minor": 2
}
