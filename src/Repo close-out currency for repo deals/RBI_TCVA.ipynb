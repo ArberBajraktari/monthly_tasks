{
 "cells": [
  {
   "cell_type": "markdown",
   "metadata": {},
   "source": [
    "# What happens:\n",
    "File is created and email is prepared"
   ]
  },
  {
   "cell_type": "markdown",
   "metadata": {},
   "source": [
    "## Import "
   ]
  },
  {
   "cell_type": "code",
   "execution_count": 1,
   "metadata": {},
   "outputs": [],
   "source": [
    "import os\n",
    "import sys\n",
    "import pandas as pd\n",
    "import numpy as np\n",
    "from pandas import DataFrame\n",
    "import sqlalchemy\n",
    "from sqlalchemy import create_engine\n",
    "import getpass\n",
    "import datetime\n",
    "import win32com.client as win32\n",
    "import calendar"
   ]
  },
  {
   "cell_type": "markdown",
   "metadata": {},
   "source": [
    "### Select the folder where you wanna do the work\n",
    "### Also ask for the Reporting Date"
   ]
  },
  {
   "cell_type": "code",
   "execution_count": 2,
   "metadata": {},
   "outputs": [
    {
     "name": "stdout",
     "output_type": "stream",
     "text": [
      "Please enter the RD (YYYYMMDD): 20221031\n"
     ]
    }
   ],
   "source": [
    "directory = \"C:/Users/WZHARBC/Documents/Python Monthly Tasks/Exports/RBI_TCVA\"\n",
    "os.chdir(directory)\n",
    "\n",
    "rd = str(input(\"Please enter the RD (YYYYMMDD): \"))\n",
    "\n",
    "ws = \"0002\""
   ]
  },
  {
   "cell_type": "markdown",
   "metadata": {},
   "source": [
    "### Make connection with Oracle DB"
   ]
  },
  {
   "cell_type": "code",
   "execution_count": 3,
   "metadata": {},
   "outputs": [
    {
     "data": {
      "text/plain": [
       "<sqlalchemy.engine.result.ResultProxy at 0x1c3f3906e80>"
      ]
     },
     "execution_count": 3,
     "metadata": {},
     "output_type": "execute_result"
    }
   ],
   "source": [
    "#Setting up RAY connection:\n",
    "connection_RAY = create_engine(str(\"oracle://:@OCRPN\"))\n",
    "connection_RAY.execute(\"call pack_context.context_open(to_date('{reporting_date}','YYYYMMDD'),{partition})\".format(\n",
    "                 reporting_date = rd, partition = ws))"
   ]
  },
  {
   "cell_type": "markdown",
   "metadata": {},
   "source": [
    "### Save selection\n",
    "### Also see how much time it took"
   ]
  },
  {
   "cell_type": "code",
   "execution_count": 4,
   "metadata": {},
   "outputs": [
    {
     "name": "stdout",
     "output_type": "stream",
     "text": [
      "Wall time: 3.22 s\n"
     ]
    }
   ],
   "source": [
    "%%time\n",
    "d = pd.read_sql_query(\"select * from t_cva where booking_company = 'RBI'\", connection_RAY)"
   ]
  },
  {
   "cell_type": "markdown",
   "metadata": {},
   "source": [
    "### Save var in an excel file"
   ]
  },
  {
   "cell_type": "code",
   "execution_count": 5,
   "metadata": {},
   "outputs": [
    {
     "name": "stdout",
     "output_type": "stream",
     "text": [
      "DataFrame is written to Excel File successfully.\n"
     ]
    }
   ],
   "source": [
    "# determining the name of the file\n",
    "file_name = rd + '_T_CVA_RBI.xlsx'\n",
    "\n",
    "#get last month\n",
    "dt = datetime.datetime.today()\n",
    "month_name = calendar.month_name[dt.month-1].upper()\n",
    "year  = dt.year\n",
    "\n",
    "# saving the excel\n",
    "d.to_excel(file_name, index=False)\n",
    "print('DataFrame is written to Excel File successfully.')"
   ]
  },
  {
   "cell_type": "markdown",
   "metadata": {},
   "source": [
    "### Send the email "
   ]
  },
  {
   "cell_type": "code",
   "execution_count": 6,
   "metadata": {},
   "outputs": [],
   "source": [
    "outlook = win32.Dispatch('outlook.application')\n",
    "mail = outlook.CreateItem(0)\n",
    "mail.To = 'nikolina.zoroje-frimmel@rbinternational.com'\n",
    "mail.Cc = 'nikolas.besemer@rbinternational.com; christian.gneist@rbinternational.com; markus.hochleitner@rbinternational.com; zoltan.szebenyi@rbinternational.com'\n",
    "mail.Subject = 'T_CVA_RBI_' + rd\n",
    "mail.Body = '''Dear colleagues,\n",
    "\n",
    "Please find attached the current RAY data for ''' + month_name + \" \" + str(year) + '''\n",
    "\n",
    "Kind regards,\n",
    "Arber Bajraktari\n",
    "Student Support IT\n",
    "\n",
    "Raiffeisen Bank International AG | Am Stadtpark 9, 1030 Vienna, Austria | Tel. : +43 664 99481391\n",
    "arber.bajraktari@rbinternational.com | http://www.rbinternational.com \n",
    "'''\n",
    "\n",
    "# To attach a file to the email (optional):\n",
    "attachment  = directory + \"/\" + file_name\n",
    "mail.Attachments.Add(attachment)\n",
    "\n",
    "mail.Display()"
   ]
  },
  {
   "cell_type": "code",
   "execution_count": null,
   "metadata": {},
   "outputs": [],
   "source": []
  }
 ],
 "metadata": {
  "kernelspec": {
   "display_name": "Python 3",
   "language": "python",
   "name": "python3"
  },
  "language_info": {
   "codemirror_mode": {
    "name": "ipython",
    "version": 3
   },
   "file_extension": ".py",
   "mimetype": "text/x-python",
   "name": "python",
   "nbconvert_exporter": "python",
   "pygments_lexer": "ipython3",
   "version": "3.7.1"
  }
 },
 "nbformat": 4,
 "nbformat_minor": 2
}
