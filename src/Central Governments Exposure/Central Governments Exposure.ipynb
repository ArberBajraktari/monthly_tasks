{
 "cells": [
  {
   "cell_type": "markdown",
   "metadata": {},
   "source": [
    "# What happens:\n",
    "\n",
    "File is created and email is prepared"
   ]
  },
  {
   "cell_type": "markdown",
   "metadata": {},
   "source": [
    "## Import "
   ]
  },
  {
   "cell_type": "code",
   "execution_count": 1,
   "metadata": {},
   "outputs": [],
   "source": [
    "import os\n",
    "import sys\n",
    "import pandas as pd\n",
    "import numpy as np\n",
    "from pandas import DataFrame\n",
    "import sqlalchemy\n",
    "from sqlalchemy import create_engine\n",
    "import getpass\n",
    "import datetime\n",
    "import win32com.client as win32\n",
    "import calendar\n",
    "from openpyxl import Workbook, load_workbook\n",
    "from IPython.lib.display import Audio\n",
    "from datetime import date"
   ]
  },
  {
   "cell_type": "markdown",
   "metadata": {},
   "source": [
    "### Select the folder where you wanna do the work\n",
    "### Also ask for the Reporting Date"
   ]
  },
  {
   "cell_type": "code",
   "execution_count": 2,
   "metadata": {},
   "outputs": [],
   "source": [
    "directory = os.path.abspath(os.getcwd()) + \"/\"\n",
    "rd = str(input(\"Please enter the RD (YYYYMMDD): \"))\n",
    "ws = \"0194\""
   ]
  },
  {
   "cell_type": "markdown",
   "metadata": {},
   "source": [
    "### Make connection with Oracle DB"
   ]
  },
  {
   "cell_type": "code",
   "execution_count": 3,
   "metadata": {},
   "outputs": [
    {
     "data": {
      "text/plain": [
       "<sqlalchemy.engine.cursor.LegacyCursorResult at 0x1d9d9613550>"
      ]
     },
     "execution_count": 3,
     "metadata": {},
     "output_type": "execute_result"
    }
   ],
   "source": [
    "#Setting up RAY connection:\n",
    "connection_RAY = create_engine(str(\"oracle://:@OCRPN\"))\n",
    "connection_RAY.execute(\"call pack_context.context_open(to_date('{reporting_date}','YYYYMMDD'),{partition})\".format(\n",
    "                 reporting_date = rd, partition = ws))"
   ]
  },
  {
   "cell_type": "markdown",
   "metadata": {},
   "source": [
    "### Select per Unit"
   ]
  },
  {
   "cell_type": "code",
   "execution_count": 4,
   "metadata": {},
   "outputs": [
    {
     "name": "stderr",
     "output_type": "stream",
     "text": [
      "C:\\Users\\WZHARBC\\AppData\\Local\\Temp\\1\\ipykernel_17716\\2261522452.py:16: FutureWarning: Setting the `book` attribute is not part of the public API, usage can give unexpected or corrupted results and will be removed in a future version\n",
      "  writer.book = ExcelWorkbook\n"
     ]
    },
    {
     "name": "stdout",
     "output_type": "stream",
     "text": [
      "RBAL started\n",
      "RBAL ended\n",
      "RBRS started\n",
      "RBRS ended\n",
      "RBBH started\n",
      "RBBH ended\n",
      "RBKO started\n",
      "RBKO ended\n",
      "RBBY started\n",
      "RBBY ended\n",
      "AVAL started\n",
      "AVAL ended\n",
      "RBBG started\n",
      "RBBG ended\n",
      "RBHR started\n",
      "RBHR ended\n",
      "Equity started\n",
      "Equity ended\n"
     ]
    }
   ],
   "source": [
    "\n",
    "file_path = \"RAY-extract-Template.xlsx\"\n",
    "im_folder = \"Import/\"\n",
    "ex_folder = \"Export/\"\n",
    "today = date.today()\n",
    "date_today = today.strftime(\"%d.%m.%Y\")\n",
    "\n",
    "# Generating workbook\n",
    "ExcelWorkbook = load_workbook(filename = im_folder + file_path)\n",
    " \n",
    "# Generating the writer engine\n",
    "file_date = rd[6:8] + \".\" + rd[4:6] + \".\" + rd[:4]\n",
    "file_name = \"RAY-Extract-\" + date_today + \"_data from_\" + file_date + \".xlsx\"\n",
    "writer = pd.ExcelWriter(ex_folder + file_name, engine = 'openpyxl')\n",
    " \n",
    "# Assigning the workbook to the writer engine\n",
    "writer.book = ExcelWorkbook\n",
    " \n",
    "units = ['RBAL', 'RBRS', 'RBBH', 'RBKO', 'RBBY', 'AVAL', 'RBBG', 'RBHR']\n",
    "for unit in units:\n",
    "    print(unit + \" started\")\n",
    "    \n",
    "    d1 = pd.read_sql_query(\"\"\"select reporting_date,counterparty_code,counterparty_name,counterparty_new_code,counterparty_new_name,contract_type,contract_type_desc, contract_reference, attribute_5, maturity_date, tenor_original, tenor_residual, currency, ead_pre_ccf, ead, rwa \t\n",
    "    from rzb_cdr \t\n",
    "    where booking_company='\"\"\" + unit + \"\"\"' and ead_pre_ccf >0 and counterparty_type in ('12', '30')\t\n",
    "    --group by reporting_date,counterparty_code,counterparty_name,counterparty_new_code,counterparty_new_name,contract_type,contract_type_desc,currency\t\n",
    "    \"\"\", connection_RAY) \n",
    "\n",
    "    d1.to_excel(writer, sheet_name = unit, index=False)\n",
    "    print(unit + \" ended\")\n",
    "    \n",
    "print(\"Equity started\")\n",
    "d1 = pd.read_sql_query(\"\"\"select * from rzb_cdr where counterparty_code in ('2701'\t\n",
    ",'15095'\t\n",
    ",'27841'\t\n",
    ",'27889'\t\n",
    ",'41771'\t\n",
    ",'39888') and record_source = 'T_CDR' and table_name = 'EQUITY'\"\"\", connection_RAY) \n",
    "\n",
    "d1.to_excel(writer, sheet_name = \"EQUITY\", index=False)\n",
    "print(\"Equity ended\")\n",
    "\n",
    "ExcelWorkbook.save(ex_folder + file_name)\n",
    "ExcelWorkbook.close()"
   ]
  },
  {
   "cell_type": "code",
   "execution_count": 5,
   "metadata": {},
   "outputs": [],
   "source": [
    "outlook = win32.Dispatch('outlook.application')\n",
    "mail = outlook.CreateItem(0)\n",
    "mail.To = 'oleg.lenski@rbinternational.com; '\n",
    "mail.Cc = 'markus.hochleitner@rbinternational.com; nertila.gjakova@rbinternational.com'\n",
    "mail.Subject = 'Central Bank Exposure ' + file_date\n",
    "mail.Body = '''Dear Oleg,\n",
    "\n",
    "Please find attached the data for the cut-off date ''' + file_date + '''\n",
    "\n",
    "Kind regards,\n",
    "Arber Bajraktari\n",
    "Student Support IT\n",
    "\n",
    "Raiffeisen Bank International AG | Am Stadtpark 9, 1030 Vienna, Austria | Tel. : +43 664 99481391\n",
    "arber.bajraktari@rbinternational.com | http://www.rbinternational.com \n",
    "'''\n",
    "\n",
    "# To attach a file to the email (optional):\n",
    "attachment  = directory + ex_folder + file_name\n",
    "mail.Attachments.Add(attachment)\n",
    "\n",
    "mail.Display()"
   ]
  },
  {
   "cell_type": "code",
   "execution_count": null,
   "metadata": {},
   "outputs": [],
   "source": []
  }
 ],
 "metadata": {
  "kernelspec": {
   "display_name": "Python 3",
   "language": "python",
   "name": "python3"
  },
  "language_info": {
   "codemirror_mode": {
    "name": "ipython",
    "version": 3
   },
   "file_extension": ".py",
   "mimetype": "text/x-python",
   "name": "python",
   "nbconvert_exporter": "python",
   "pygments_lexer": "ipython3",
   "version": "3.10.7 (tags/v3.10.7:6cc6b13, Sep  5 2022, 14:08:36) [MSC v.1933 64 bit (AMD64)]"
  },
  "vscode": {
   "interpreter": {
    "hash": "9b4d75ac280b6c7c3aa43866cb82dc88915409b55fec83a093dd0284cb58708e"
   }
  }
 },
 "nbformat": 4,
 "nbformat_minor": 2
}
