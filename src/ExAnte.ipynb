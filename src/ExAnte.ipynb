{
 "cells": [
  {
   "cell_type": "markdown",
   "metadata": {},
   "source": [
    "# What happens:\n",
    "\n",
    "- sql is almost done\n",
    "- all with foor loop\n",
    "- add the coloring in the header and total"
   ]
  },
  {
   "cell_type": "markdown",
   "metadata": {},
   "source": [
    "## Import "
   ]
  },
  {
   "cell_type": "code",
   "execution_count": 1,
   "metadata": {},
   "outputs": [],
   "source": [
    "import os\n",
    "import sys\n",
    "import pandas as pd\n",
    "import numpy as np\n",
    "from pandas import DataFrame\n",
    "import sqlalchemy\n",
    "from sqlalchemy import create_engine\n",
    "import getpass\n",
    "import datetime\n",
    "import win32com.client as win32\n",
    "import calendar\n",
    "from openpyxl import Workbook, load_workbook\n",
    "from IPython.lib.display import Audio\n",
    "from openpyxl.utils.dataframe import dataframe_to_rows\n",
    "from openpyxl.cell import Cell\n",
    "from openpyxl.styles import Color, Font, PatternFill"
   ]
  },
  {
   "cell_type": "markdown",
   "metadata": {},
   "source": [
    "### Select the folder where you wanna do the work\n",
    "### Also ask for the Reporting Date"
   ]
  },
  {
   "cell_type": "code",
   "execution_count": 2,
   "metadata": {},
   "outputs": [
    {
     "name": "stdout",
     "output_type": "stream",
     "text": [
      "Please enter the RD (YYYYMMDD): 20220930\n"
     ]
    }
   ],
   "source": [
    "directory = \"C:/Users/WZHARBC/Documents/Python Monthly Tasks/Exports/ExAnte\"\n",
    "os.chdir(directory)\n",
    "\n",
    "rd = str(input(\"Please enter the RD (YYYYMMDD): \"))\n",
    "\n",
    "ws = \"0002\""
   ]
  },
  {
   "cell_type": "markdown",
   "metadata": {},
   "source": [
    "### Make connection with Oracle DB"
   ]
  },
  {
   "cell_type": "code",
   "execution_count": 21,
   "metadata": {},
   "outputs": [
    {
     "data": {
      "text/plain": [
       "<sqlalchemy.engine.result.ResultProxy at 0x17c5c5aeac8>"
      ]
     },
     "execution_count": 21,
     "metadata": {},
     "output_type": "execute_result"
    }
   ],
   "source": [
    "#Setting up RAY connection:\n",
    "connection_RAY = create_engine(str(\"oracle://:@OCRPN\"))\n",
    "connection_RAY.execute(\"call pack_context.context_open(to_date('{reporting_date}','YYYYMMDD'),{partition})\".format(\n",
    "                 reporting_date = rd, partition = ws))"
   ]
  },
  {
   "cell_type": "markdown",
   "metadata": {},
   "source": [
    "### Open excel file"
   ]
  },
  {
   "cell_type": "code",
   "execution_count": 52,
   "metadata": {},
   "outputs": [],
   "source": [
    "# determining the name of the file\n",
    "file_name = 'ExAnte Notification ' + calendar.month_name[int(rd[4:6])] + ' ' + rd[0:4] + '.xlsx'\n",
    "\n",
    "file = load_workbook(\"ExAnte Template.xlsx\")\n",
    "\n",
    "sqls = file['sql and workspace']\n"
   ]
  },
  {
   "cell_type": "markdown",
   "metadata": {},
   "source": [
    "## Select SQL 1"
   ]
  },
  {
   "cell_type": "code",
   "execution_count": 53,
   "metadata": {},
   "outputs": [],
   "source": [
    "sql1 = file['sql 1']\n",
    "\n",
    "d1 = pd.read_sql_query(\"\"\"select \n",
    "case when table_name = 'FUND' and contract_type ='IS2700'   then' Investment in FUND' else rating_model_new  end as rating_model_new_mapped\n",
    ",rating_model_new,\n",
    "sum (ead) ead ,sum (rwa) rwa\n",
    "from rzb_cdr \n",
    "where record_source='T_CDR' and method_new = 'FOU' \n",
    "and NOT (table_name='EQUITY' and sub_method_new='STD')---to remove the grandfathering equities\n",
    "group by case when table_name = 'FUND' and contract_type ='IS2700'   then' Investment in FUND' else rating_model_new  end, rating_model_new\"\"\", connection_RAY)"
   ]
  },
  {
   "cell_type": "markdown",
   "metadata": {},
   "source": [
    "### Input the values and add the colors"
   ]
  },
  {
   "cell_type": "code",
   "execution_count": 54,
   "metadata": {},
   "outputs": [],
   "source": [
    "# add headers\n",
    "for idx_c, header in enumerate(d1.columns.values):\n",
    "    sql1.cell(row=1, column=idx_c+1).value = header\n",
    "    sql1.cell(row=1, column=idx_c+1).fill = PatternFill(start_color='D9E1F2', end_color='D9E1F2', fill_type='solid')\n",
    "\n",
    "# Iterate all rows using DataFrame.itertuples()\n",
    "index = 0\n",
    "for idx, row in enumerate(d1.itertuples(index = True)):\n",
    "    for idx_c, header in enumerate(d1.columns.values):\n",
    "        sql1.cell(row=idx+2, column=idx_c+1).value = getattr(row, header)\n",
    "        index = idx\n",
    "\n",
    "# Add the total        \n",
    "sql1.cell(row=index+3, column=2).value = 'Total:'\n",
    "sql1.cell(row=index+3, column=3).value = '=SUM(C2:C'+str(index+2)+')'\n",
    "sql1_total = str(index+3)\n",
    "sql1.cell(row=index+3, column=4).value = '=SUM(D2:D'+str(index+2)+')'\n",
    "\n",
    "for col in range(2, 5, 1):\n",
    "    sql1.cell(row=index+3, column=col).fill = PatternFill(start_color='D9E1F2', end_color='D9E1F2', fill_type='solid')\n"
   ]
  },
  {
   "cell_type": "markdown",
   "metadata": {},
   "source": [
    "### Select SQL 2"
   ]
  },
  {
   "cell_type": "code",
   "execution_count": 55,
   "metadata": {},
   "outputs": [],
   "source": [
    "sql2 = file['sql 2']\n",
    "\n",
    "d2 = pd.read_sql_query(\"\"\"select\n",
    "case when table_name = 'FUND' and contract_type ='IS2700' then 'Investment in FUND' else  counterparty_new_type end as counterparty_new_type_mapped,\n",
    "counterparty_new_type,counterparty_new_type_desc,sum (ead) ead, sum (rwa) rwa from rzb_cdr\n",
    "where record_source='T_CDR' and method_new = 'FOU'\n",
    "and NOT (table_name='EQUITY' and sub_method_new='STD')---to remove the grandfathering equities\n",
    "group by case when table_name = 'FUND' and contract_type ='IS2700' then 'Investment in FUND' else  counterparty_new_type end,counterparty_new_type,counterparty_new_type_desc\n",
    "\"\"\", connection_RAY)"
   ]
  },
  {
   "cell_type": "markdown",
   "metadata": {},
   "source": [
    "### Input the values and add the colors"
   ]
  },
  {
   "cell_type": "code",
   "execution_count": 56,
   "metadata": {},
   "outputs": [],
   "source": [
    "# add headers\n",
    "for idx_c, header in enumerate(d2.columns.values):\n",
    "    sql2.cell(row=1, column=idx_c+1).value = header\n",
    "    sql2.cell(row=1, column=idx_c+1).fill = PatternFill(start_color='D9E1F2', end_color='D9E1F2', fill_type='solid')\n",
    "\n",
    "# Iterate all rows using DataFrame.itertuples()\n",
    "index = 0\n",
    "for idx, row in enumerate(d2.itertuples(index = True)):\n",
    "    for idx_c, header in enumerate(d2.columns.values):\n",
    "        sql2.cell(row=idx+2, column=idx_c+1).value = getattr(row, header)\n",
    "        index = idx\n",
    "\n",
    "# Add the total        \n",
    "sql2.cell(row=index+3, column=3).value = 'Total:'\n",
    "sql2.cell(row=index+3, column=4).value = '=SUM(D2:D'+str(index+2)+')'\n",
    "sql2.cell(row=index+3, column=5).value = '=SUM(E2:E'+str(index+2)+')'\n",
    "\n",
    "for col in range(3, 6, 1):\n",
    "    sql2.cell(row=index+3, column=col).fill = PatternFill(start_color='D9E1F2', end_color='D9E1F2', fill_type='solid')\n",
    "    \n",
    "sql2.cell(row=index+6, column=3).value = 'check FOU'\n",
    "sql2.cell(row=index+6, column=4).value = \"=D\"+str(index+3)+\"-'sql 1'!C\" + str(sql1_total)\n",
    "sql2.cell(row=index+6, column=5).value = \"=E\"+str(index+3)+\"-'sql 1'!D\" + str(sql1_total)\n",
    "    \n",
    "\n",
    "for col in range(3, 6, 1):\n",
    "    sql2.cell(row=index+6, column=col).fill = PatternFill(start_color='7994D1', end_color='7994D1', fill_type='solid')"
   ]
  },
  {
   "cell_type": "markdown",
   "metadata": {},
   "source": [
    "### Select SQL 3"
   ]
  },
  {
   "cell_type": "code",
   "execution_count": 57,
   "metadata": {},
   "outputs": [],
   "source": [
    "sql3 = file['sql 3']\n",
    "\n",
    "d3 = pd.read_sql_query(\"\"\"select counterparty_new_category, sum(ead) ead, sum(rwa) rwa from v_rzb_cdr_full where record_source = 'RETAIL' and counterparty_new_category in ('PI','MICRO') group by counterparty_new_category\"\"\", connection_RAY)"
   ]
  },
  {
   "cell_type": "markdown",
   "metadata": {},
   "source": [
    "### Input the values and add the colors"
   ]
  },
  {
   "cell_type": "code",
   "execution_count": 58,
   "metadata": {},
   "outputs": [],
   "source": [
    "# add headers\n",
    "for idx_c, header in enumerate(d3.columns.values):\n",
    "    sql3.cell(row=1, column=idx_c+1).value = header\n",
    "    sql3.cell(row=1, column=idx_c+1).fill = PatternFill(start_color='D9E1F2', end_color='D9E1F2', fill_type='solid')\n",
    "\n",
    "# Iterate all rows using DataFrame.itertuples()\n",
    "index = 0\n",
    "for idx, row in enumerate(d3.itertuples(index = True)):\n",
    "    for idx_c, header in enumerate(d3.columns.values):\n",
    "        sql3.cell(row=idx+2, column=idx_c+1).value = getattr(row, header)\n",
    "        index = idx\n",
    "\n",
    "# Add the total        \n",
    "sql3.cell(row=index+3, column=1).value = 'Total:'\n",
    "sql3.cell(row=index+3, column=2).value = '=SUM(B2:B'+str(index+2)+')'\n",
    "sql3.cell(row=index+3, column=3).value = '=SUM(C2:C'+str(index+2)+')'\n",
    "\n",
    "for col in range(1, 4, 1):\n",
    "    sql3.cell(row=index+3, column=col).fill = PatternFill(start_color='D9E1F2', end_color='D9E1F2', fill_type='solid')"
   ]
  },
  {
   "cell_type": "markdown",
   "metadata": {},
   "source": [
    "### Select SQL 4"
   ]
  },
  {
   "cell_type": "code",
   "execution_count": 59,
   "metadata": {},
   "outputs": [],
   "source": [
    "sql4 = file['sql 4']\n",
    "\n",
    "d4 = pd.read_sql_query(\"\"\"select \t\n",
    "case when table_name = 'FUND' and contract_type ='IS2700'   then' Investment in FUND' else rating_model_new  end as rating_model_new_mapped,\t\n",
    "counterparty_new_type,counterparty_new_type_desc ,counterparty_new_code,counterparty_new_name,rating_model_new,booking_company,risk_country_new ,sum(ead) ead  ,sum(rwa) rwa \t\n",
    "from rzb_cdr where (rating_model_new='Fund'  or (table_name = 'FUND' and contract_type ='IS2700' ) or (counterparty_new_type='57' and rating_model_new<>'Fund'))\t\n",
    "and  method_new = 'FOU' and NOT (table_name='EQUITY' and sub_method_new='STD')---to remove the grandfathering equities\t\n",
    "group by case when table_name = 'FUND' and contract_type ='IS2700'   then' Investment in FUND' else rating_model_new  end,\t\n",
    "counterparty_new_type,counterparty_new_type_desc ,counterparty_new_code,counterparty_new_name,rating_model_new,booking_company,risk_country_new\"\"\", connection_RAY)"
   ]
  },
  {
   "cell_type": "markdown",
   "metadata": {},
   "source": [
    "### Input the values and add the colors"
   ]
  },
  {
   "cell_type": "code",
   "execution_count": 60,
   "metadata": {},
   "outputs": [],
   "source": [
    "# add headers\n",
    "for idx_c, header in enumerate(d4.columns.values):\n",
    "    sql4.cell(row=1, column=idx_c+1).value = header\n",
    "    sql4.cell(row=1, column=idx_c+1).fill = PatternFill(start_color='D9E1F2', end_color='D9E1F2', fill_type='solid')\n",
    "\n",
    "# Iterate all rows using DataFrame.itertuples()\n",
    "index = 0\n",
    "for idx, row in enumerate(d4.itertuples(index = True)):\n",
    "    for idx_c, header in enumerate(d4.columns.values):\n",
    "        sql4.cell(row=idx+2, column=idx_c+1).value = getattr(row, header)\n",
    "        index = idx_c\n",
    "\n",
    "# Add the total        \n",
    "sql4.cell(row=1, column=index+4).value = 'ead'\n",
    "sql4.cell(row=1, column=index+5).value = 'rwa'\n",
    "\n",
    "sql4.cell(row=2, column=index+3).value = 'check FUND FOU'\n",
    "sql4.cell(row=2, column=index+4).value = \"=SUM(I:I)-SUMIF('sql 1'!B:B,\\\"Fund\\\",'sql 1'!C:C)\"\n",
    "sql4.cell(row=2, column=index+5).value = \"=SUM(J:J)-SUMIF('sql 1'!B:B,\\\"Fund\\\",'sql 1'!D:D)\"\n",
    "\n",
    "for col in range(3, 6, 1):\n",
    "    sql4.cell(row=2, column=index+col).fill = PatternFill(start_color='D9E1F2', end_color='D9E1F2', fill_type='solid')"
   ]
  },
  {
   "cell_type": "markdown",
   "metadata": {},
   "source": [
    "### Select SQL 5"
   ]
  },
  {
   "cell_type": "code",
   "execution_count": 61,
   "metadata": {},
   "outputs": [],
   "source": [
    "sql5 = file['sql 5']\n",
    "\n",
    "d5 = pd.read_sql_query(\"\"\"select sum(ead_pre_ccf) ead_pre_ccf, sum(ead) ead, sum (rwa) rwa, sum(el) el from t_cdr\"\"\", connection_RAY)"
   ]
  },
  {
   "cell_type": "markdown",
   "metadata": {},
   "source": [
    "### Inut the values and add the colors"
   ]
  },
  {
   "cell_type": "code",
   "execution_count": 62,
   "metadata": {},
   "outputs": [],
   "source": [
    "# add headers\n",
    "for idx_c, header in enumerate(d5.columns.values):\n",
    "    sql5.cell(row=1, column=idx_c+1).value = header\n",
    "    sql5.cell(row=1, column=idx_c+1).fill = PatternFill(start_color='D9E1F2', end_color='D9E1F2', fill_type='solid')\n",
    "\n",
    "# Iterate all rows using DataFrame.itertuples()\n",
    "index = 0\n",
    "for idx, row in enumerate(d5.itertuples(index = True)):\n",
    "    for idx_c, header in enumerate(d5.columns.values):\n",
    "        sql5.cell(row=idx+2, column=idx_c+1).value = getattr(row, header)\n",
    "        index = idx\n",
    "\n",
    "        \n",
    "# Add the total        \n",
    "sql5.cell(row=index + 4, column=1).value = ' check  total t_Cdr'\n",
    "\n",
    "sql5.cell(row=index + 5, column=1).value = \"=A2-'sql 6'!C11\"\n",
    "sql5.cell(row=index + 5, column=2).value = \"=B2-'sql 6'!D11\"\n",
    "sql5.cell(row=index + 5, column=3).value = \"=C2-'sql 6'!E11\"\n",
    "sql5.cell(row=index + 5, column=4).value = \"=D2-'sql 6'!F11\"\n",
    "\n",
    "for col in range(1, 5, 1):\n",
    "    sql5.cell(row=index+5, column=col).fill = PatternFill(start_color='D9E1F2', end_color='D9E1F2', fill_type='solid')"
   ]
  },
  {
   "cell_type": "markdown",
   "metadata": {},
   "source": [
    "### Select SQL 6"
   ]
  },
  {
   "cell_type": "code",
   "execution_count": 63,
   "metadata": {},
   "outputs": [],
   "source": [
    "sql6 = file['sql 6']\n",
    "\n",
    "d6 = pd.read_sql_query(\"\"\"select securitized, method_new,sum(ead_pre_ccf) ead_pre_ccf, sum(ead) ead, sum (rwa) rwa, sum(el) el \n",
    "from t_cdr\n",
    "group by securitized,method_new\"\"\", connection_RAY)"
   ]
  },
  {
   "cell_type": "code",
   "execution_count": 64,
   "metadata": {},
   "outputs": [],
   "source": [
    "d6 = d6.sort_values(by=[\"method_new\"]) \n",
    "d6 = d6[d6.ead > 0]"
   ]
  },
  {
   "cell_type": "markdown",
   "metadata": {},
   "source": [
    "### Inut the values and add the colors"
   ]
  },
  {
   "cell_type": "code",
   "execution_count": 65,
   "metadata": {},
   "outputs": [],
   "source": [
    "# add headers\n",
    "for idx_c, header in enumerate(d6.columns.values):\n",
    "    sql6.cell(row=1, column=idx_c+1).value = header\n",
    "    sql6.cell(row=1, column=idx_c+1).fill = PatternFill(start_color='D9E1F2', end_color='D9E1F2', fill_type='solid')\n",
    "\n",
    "# Iterate all rows using DataFrame.itertuples()\n",
    "index = 0\n",
    "for idx, row in enumerate(d6.itertuples(index = True)):\n",
    "    for idx_c, header in enumerate(d6.columns.values):\n",
    "        sql6.cell(row=idx+2, column=idx_c+1).value = getattr(row, header)\n",
    "        index = idx\n",
    "\n",
    "        \n",
    "# Add the total        \n",
    "sql6.cell(row=index + 3, column=2).value = 'Total'\n",
    "sql6.cell(row=index + 3, column=3).value = '=SUM(C2:C'+ str(index+2) +')'\n",
    "sql6.cell(row=index + 3, column=4).value = '=SUM(D2:D'+ str(index+2) +')'\n",
    "sql6.cell(row=index + 3, column=5).value = '=SUM(E2:E'+ str(index+2) +')'\n",
    "sql6.cell(row=index + 3, column=6).value = '=SUM(F2:F'+ str(index+2) +')'\n",
    "\n",
    "\n",
    "for col in range(2, 7, 1):\n",
    "    sql6.cell(row=index+3, column=col).fill = PatternFill(start_color='D9E1F2', end_color='D9E1F2', fill_type='solid')\n",
    "\n",
    "sql6.cell(row=index + 7, column=3).value = \"T_CDR\"\n",
    "sql6.cell(row=index + 7, column=4).value = \"=SUM(D5,D6)\"\n",
    "sql6.cell(row=index + 7, column=5).value = \"=SUM(E5,E6)\"\n",
    "\n",
    "sql6.cell(row=index + 8, column=3).value = \"data from rzb_Cdr sql 1\"\n",
    "sql6.cell(row=index + 8, column=4).value = \"='sql 1'!C13\"\n",
    "sql6.cell(row=index + 8, column=5).value = \"='sql 1'!D13\"\n",
    "\n",
    "sql6.cell(row=index + 9, column=3).value = \"Check\"\n",
    "sql6.cell(row=index + 9, column=4).value = \"=D15-D16\"\n",
    "sql6.cell(row=index + 9, column=5).value = \"=E15-E16\"\n",
    "\n",
    "\n",
    "for col in range(3, 6, 1):\n",
    "    sql6.cell(row=index+9, column=col).fill = PatternFill(start_color='D9E1F2', end_color='D9E1F2', fill_type='solid')"
   ]
  },
  {
   "cell_type": "markdown",
   "metadata": {},
   "source": [
    "### Select SQL 7"
   ]
  },
  {
   "cell_type": "code",
   "execution_count": 66,
   "metadata": {},
   "outputs": [],
   "source": [
    "sql7 = file['sql 7']\n",
    "\n",
    "d7 = pd.read_sql_query(\"\"\"select\n",
    "case when table_name = 'FUND' and contract_type ='IS2700' then 'Investment in FUND' else rating_model_new end as rating_model_new_mapped\n",
    ",rating_model_new,\n",
    "case when (table_name='EQUITY' and sub_method_new='STD') then 'STD' else method_new end as method_new_mapped,\n",
    "method_new,\n",
    "sum (ead) ead ,sum (rwa) rwa, sum(el) as el,\n",
    "count(distinct counterparty_new_code) as number_of_observations, \n",
    "max(ead) as max_Ead,\n",
    "min( ead) as min_ead,\n",
    "median(ead) as median_ead\n",
    "from (\n",
    "select rating_model_new,method_new,sub_method_new,contract_type,table_name,counterparty_new_code,sum (ead) as ead,sum(rwa) as rwa, sum (el_regulatory) as el\n",
    "from rzb_cdr\n",
    "where record_source='T_CDR' and ead>0 --as requested by Zsolt\n",
    "and booking_company not in ('RBBG','RLBG')\n",
    "group by rating_model_new,method_new,sub_method_new,contract_type,table_name,counterparty_new_code)\n",
    "group by case when table_name = 'FUND' and contract_type ='IS2700' then 'Investment in FUND' else rating_model_new end, rating_model_new,\n",
    "case when (table_name='EQUITY' and sub_method_new='STD') then 'STD' else method_new end ,method_new\n",
    "\"\"\", connection_RAY)"
   ]
  },
  {
   "cell_type": "code",
   "execution_count": 67,
   "metadata": {},
   "outputs": [],
   "source": [
    "# add headers\n",
    "for idx_c, header in enumerate(d7.columns.values):\n",
    "    sql7.cell(row=1, column=idx_c+1).value = header\n",
    "    sql7.cell(row=1, column=idx_c+1).fill = PatternFill(start_color='D9E1F2', end_color='D9E1F2', fill_type='solid')\n",
    "\n",
    "# Iterate all rows using DataFrame.itertuples()\n",
    "index = 0\n",
    "for idx, row in enumerate(d7.itertuples(index = True)):\n",
    "    for idx_c, header in enumerate(d7.columns.values):\n",
    "        sql7.cell(row=idx+2, column=idx_c+1).value = getattr(row, header)\n",
    "        index = idx\n",
    "\n",
    "        \n",
    "# Add the FOU        \n",
    "sql7.cell(row=index + 11, column=4).value = 'Total FOU'\n",
    "sql7.cell(row=index + 11, column=5).value = '=SUMIF(C2:C28,\"FOU\",E2:E28)'\n",
    "sql7.cell(row=index + 11, column=6).value = '=SUMIF(C2:C28,\"FOU\",F2:F28)'\n",
    "sql7.cell(row=index + 11, column=7).value = '=SUMIF(C2:C28,\"FOU\",G2:G28)'\n",
    "\n",
    "# Add the STD        \n",
    "sql7.cell(row=index + 12, column=4).value = 'Total STD'\n",
    "sql7.cell(row=index + 12, column=5).value = '=SUMIF(C2:C28,\"STD\",E2:E28)'\n",
    "sql7.cell(row=index + 12, column=6).value = '=SUMIF(C2:C28,\"STD\",F2:F28)'\n",
    "sql7.cell(row=index + 12, column=7).value = '=SUMIF(C2:C28,\"STD\",G2:G28)'\n",
    "\n",
    "# Add the ADV        \n",
    "sql7.cell(row=index + 13, column=4).value = 'Total ADV'\n",
    "sql7.cell(row=index + 13, column=5).value = '=SUMIF(C2:C28,\"ADV\",E2:E28)'\n",
    "sql7.cell(row=index + 13, column=6).value = '=SUMIF(C2:C28,\"ADV\",F2:F28)'\n",
    "sql7.cell(row=index + 13, column=7).value = '=SUMIF(C2:C28,\"ADV\",G2:G28)'\n",
    "\n",
    "# Add the Total        \n",
    "sql7.cell(row=index + 14, column=4).value = 'Total'\n",
    "sql7.cell(row=index + 14, column=5).value = '=SUM(E2:E28)'\n",
    "sql7.cell(row=index + 14, column=6).value = '=SUM(F2:F28)'\n",
    "sql7.cell(row=index + 14, column=7).value = '=SUM(G2:G28)'\n",
    "\n",
    "###\n",
    "sql7.cell(row=index + 15, column=5).value = '=E38-SUM(E35:E37)'\n",
    "sql7.cell(row=index + 15, column=6).value = '=F38-SUM(F35:F37)'\n",
    "sql7.cell(row=index + 15, column=7).value = '=G38-SUM(G35:G37)'\n",
    "\n",
    "# Add the check fou        \n",
    "sql7.cell(row=index + 16, column=4).value = 'check FOU'\n",
    "sql7.cell(row=index + 16, column=5).value = \"=E35-'sql 1'!C13\"\n",
    "sql7.cell(row=index + 16, column=6).value = \"=F35-'sql 1'!D13\"\n",
    "\n",
    "for col in range(4, 7, 1):\n",
    "    sql7.cell(row=index+16, column=col).fill = PatternFill(start_color='7994D1', end_color='7994D1', fill_type='solid')\n",
    "\n",
    "# Add the check total        \n",
    "sql7.cell(row=index + 17, column=4).value = 'check total'\n",
    "sql7.cell(row=index + 17, column=5).value = \"=E38-SUM('sql 6'!D3;'sql 6'!D6;'sql 6'!D9;'sql 6'!D2;'sql 6'!D5;'sql 6'!D10)\"\n",
    "sql7.cell(row=index + 17, column=6).value = \"=F38-SUM('sql 6'!E3;'sql 6'!E6;'sql 6'!E9;'sql 6'!E2;'sql 6'!E5;'sql 6'!E10)\"\n",
    "\n",
    "for col in range(4, 7, 1):\n",
    "    sql7.cell(row=index+17, column=col).fill = PatternFill(start_color='7994D1', end_color='7994D1', fill_type='solid')\n",
    "\n",
    "# for col in range(2, 7, 1):\n",
    "#     sql6.cell(row=index+3, column=col).fill = PatternFill(start_color='D9E1F2', end_color='D9E1F2', fill_type='solid')\n",
    "\n",
    "# sql6.cell(row=index + 7, column=3).value = \"T_CDR\"\n",
    "# sql6.cell(row=index + 7, column=4).value = \"=SUM(D5,D6)\"\n",
    "# sql6.cell(row=index + 7, column=5).value = \"=SUM(E5,E6)\"\n",
    "\n",
    "# sql6.cell(row=index + 8, column=3).value = \"data from rzb_Cdr sql 1\"\n",
    "# sql6.cell(row=index + 8, column=4).value = \"='sql 1'!C13\"\n",
    "# sql6.cell(row=index + 8, column=5).value = \"='sql 1'!D13\"\n",
    "\n",
    "# sql6.cell(row=index + 9, column=3).value = \"Check\"\n",
    "# sql6.cell(row=index + 9, column=4).value = \"=D15-D16\"\n",
    "# sql6.cell(row=index + 9, column=5).value = \"=E15-E16\"\n",
    "\n",
    "\n",
    "# for col in range(3, 6, 1):\n",
    "#     sql6.cell(row=index+9, column=col).fill = PatternFill(start_color='D9E1F2', end_color='D9E1F2', fill_type='solid')"
   ]
  },
  {
   "cell_type": "markdown",
   "metadata": {},
   "source": [
    "### Save the file"
   ]
  },
  {
   "cell_type": "code",
   "execution_count": 68,
   "metadata": {},
   "outputs": [],
   "source": [
    "file.save(file_name)"
   ]
  },
  {
   "cell_type": "code",
   "execution_count": null,
   "metadata": {},
   "outputs": [],
   "source": [
    "framerate = 4410\n",
    "play_time_seconds = 3\n",
    "\n",
    "t = np.linspace(0, play_time_seconds, framerate*play_time_seconds)\n",
    "audio_data = np.sin(2*np.pi*300*t) + np.sin(2*np.pi*240*t)\n",
    "Audio(audio_data, rate=framerate, autoplay=True)"
   ]
  },
  {
   "cell_type": "code",
   "execution_count": null,
   "metadata": {},
   "outputs": [],
   "source": []
  }
 ],
 "metadata": {
  "kernelspec": {
   "display_name": "Python 3",
   "language": "python",
   "name": "python3"
  },
  "language_info": {
   "codemirror_mode": {
    "name": "ipython",
    "version": 3
   },
   "file_extension": ".py",
   "mimetype": "text/x-python",
   "name": "python",
   "nbconvert_exporter": "python",
   "pygments_lexer": "ipython3",
   "version": "3.7.1"
  }
 },
 "nbformat": 4,
 "nbformat_minor": 2
}
