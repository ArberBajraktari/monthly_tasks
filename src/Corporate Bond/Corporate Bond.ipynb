{
 "cells": [
  {
   "cell_type": "markdown",
   "metadata": {},
   "source": [
    "# What happens:\n",
    "File is created and ready to be uploaded in sharefolder"
   ]
  },
  {
   "cell_type": "markdown",
   "metadata": {},
   "source": [
    "## Import "
   ]
  },
  {
   "cell_type": "code",
   "execution_count": 1,
   "metadata": {},
   "outputs": [],
   "source": [
    "import os\n",
    "import sys\n",
    "import pandas as pd\n",
    "import numpy as np\n",
    "from pandas import DataFrame\n",
    "import sqlalchemy\n",
    "from sqlalchemy import create_engine\n",
    "import getpass\n",
    "import win32com.client as win32\n",
    "from datetime import date\n",
    "from IPython.lib.display import Audio"
   ]
  },
  {
   "cell_type": "markdown",
   "metadata": {},
   "source": [
    "### Select the folder where you wanna do the work\n",
    "### Also ask for the Reporting Date"
   ]
  },
  {
   "cell_type": "code",
   "execution_count": 5,
   "metadata": {},
   "outputs": [],
   "source": [
    "directory = os.path.abspath(os.getcwd()) + \"/\"\n",
    "rd = str(input(\"Please enter the RD (YYYYMMDD): \"))\n",
    "\n",
    "ws = \"0010\""
   ]
  },
  {
   "cell_type": "markdown",
   "metadata": {},
   "source": [
    "### Make connection with Oracle DB"
   ]
  },
  {
   "cell_type": "code",
   "execution_count": 6,
   "metadata": {},
   "outputs": [
    {
     "data": {
      "text/plain": [
       "<sqlalchemy.engine.cursor.LegacyCursorResult at 0x1c4c170be20>"
      ]
     },
     "execution_count": 6,
     "metadata": {},
     "output_type": "execute_result"
    }
   ],
   "source": [
    "#Setting up RAY connection:\n",
    "connection_RAY = create_engine(str(\"oracle://:@OCRPN\"))\n",
    "connection_RAY.execute(\"call pack_context.context_open(to_date('{reporting_date}','YYYYMMDD'),{partition})\".format(\n",
    "                 reporting_date = rd, partition = ws))"
   ]
  },
  {
   "cell_type": "markdown",
   "metadata": {},
   "source": [
    "### Save SQL"
   ]
  },
  {
   "cell_type": "code",
   "execution_count": 7,
   "metadata": {},
   "outputs": [
    {
     "name": "stdout",
     "output_type": "stream",
     "text": [
      "CPU times: total: 0 ns\n",
      "Wall time: 363 ms\n"
     ]
    }
   ],
   "source": [
    "%%time\n",
    "d = pd.read_sql_query(\"\"\"select r.reporting_date,sp.security_reference as \"ISIN\", r.counterparty_code as issuer_CCN, r.counterparty_name as issuer_name, r.gcc_head_code as issuer_gcc_CCN, r.gcc_head_name as issuer_gcc_name, \t \n",
    "r.risk_country as issuer_country_of_risk, r.maturity_date, sum (r.rwa) as rwa, sum (r.ead_pre_ccf) as exposure_Eur,sum(sp.position_initial_value) as exposure_in_orig_currency, sum(sp.accruals) as accruals_in_orig_currency, s.currency_code as original_currency, c.exch_rate as current_exchange_rate,\t \n",
    "r.profit_center as CC_Department_in_charge, r.account_manager as relationship_manager,r.rating_code as external_rating, r.internal_rating, r.pd as PD, r.lgd as LGD, r.industry_code_1 as Industry_main,\t \n",
    "r.industry_code_2 as Industry_detail, r.nace_description as Onace_description, r.contract_type as GPC_Code, r.contract_type_desc as GPC_Desc, r.record_source\t \n",
    "from rzb_cdr r\t \n",
    "left join security_positions sp on sp.contract_reference = r.security_positions_ref\t \n",
    "left join security s on s.security_reference = r.contract_reference\t \n",
    "left join currency c on c.ccy_code = s.currency_code\t \n",
    "where r.book_code = 'HO_B'\t \n",
    "and r.table_name = 'BOND'\t \n",
    "and counterparty_type in ('3', '6')\t \n",
    "and s.security_family = 'B'\t \n",
    "group by (r.reporting_date, r.counterparty_code, r.counterparty_name,r.gcc_head_code, r.gcc_head_name, r.risk_country,sp.security_reference, r.account_manager,r.rating_code, r.internal_rating, s.currency_code, c.exch_rate,\t \n",
    "r.industry_code_1, r.industry_code_2,r.nace_description,r.profit_center, r.contract_type, r.contract_type_desc,r.pd,r.lgd, r.record_source, r.maturity_date)\"\"\", connection_RAY)"
   ]
  },
  {
   "cell_type": "markdown",
   "metadata": {},
   "source": [
    "### Save var in an excel file"
   ]
  },
  {
   "cell_type": "code",
   "execution_count": 8,
   "metadata": {},
   "outputs": [
    {
     "name": "stdout",
     "output_type": "stream",
     "text": [
      "DataFrame is written to Excel File successfully.\n"
     ]
    }
   ],
   "source": [
    "date = rd[:4] + \"_\" + rd[4:6] + \"_\" + rd[6:8]  \n",
    "ex_folder = \"Export/\"\n",
    "\n",
    "# determining the name of the file\n",
    "file_name = ex_folder + date + '_Corporate Bonds HO_B ' + rd + '.xlsx'\n",
    "\n",
    "# saving the excel\n",
    "d.to_excel(file_name, index=False)\n",
    "print('DataFrame is written to Excel File successfully.')"
   ]
  }
 ],
 "metadata": {
  "kernelspec": {
   "display_name": "Python 3",
   "language": "python",
   "name": "python3"
  },
  "language_info": {
   "codemirror_mode": {
    "name": "ipython",
    "version": 3
   },
   "file_extension": ".py",
   "mimetype": "text/x-python",
   "name": "python",
   "nbconvert_exporter": "python",
   "pygments_lexer": "ipython3",
   "version": "3.10.7 (tags/v3.10.7:6cc6b13, Sep  5 2022, 14:08:36) [MSC v.1933 64 bit (AMD64)]"
  },
  "vscode": {
   "interpreter": {
    "hash": "9b4d75ac280b6c7c3aa43866cb82dc88915409b55fec83a093dd0284cb58708e"
   }
  }
 },
 "nbformat": 4,
 "nbformat_minor": 2
}
