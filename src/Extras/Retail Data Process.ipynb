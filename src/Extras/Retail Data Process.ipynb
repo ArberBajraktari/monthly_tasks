{
 "cells": [
  {
   "cell_type": "markdown",
   "metadata": {},
   "source": [
    "# What happens:\n",
    "\n",
    "- last_input is done"
   ]
  },
  {
   "cell_type": "code",
   "execution_count": null,
   "metadata": {},
   "outputs": [],
   "source": []
  },
  {
   "cell_type": "markdown",
   "metadata": {},
   "source": [
    "## Import "
   ]
  },
  {
   "cell_type": "code",
   "execution_count": 1,
   "metadata": {},
   "outputs": [],
   "source": [
    "import os\n",
    "import sys\n",
    "import pandas as pd\n",
    "import numpy as np\n",
    "from pandas import DataFrame\n",
    "import sqlalchemy\n",
    "from sqlalchemy import create_engine\n",
    "import getpass\n",
    "import datetime\n",
    "import win32com.client as win32\n",
    "import calendar\n",
    "from openpyxl import Workbook, load_workbook\n",
    "from IPython.lib.display import Audio\n",
    "from openpyxl.utils.dataframe import dataframe_to_rows"
   ]
  },
  {
   "cell_type": "markdown",
   "metadata": {},
   "source": [
    "### Select the folder where you wanna do the work\n",
    "### Also ask for the Reporting Date"
   ]
  },
  {
   "cell_type": "code",
   "execution_count": 3,
   "metadata": {},
   "outputs": [
    {
     "name": "stdout",
     "output_type": "stream",
     "text": [
      "Please enter the RD (YYYYMMDD): 20211031\n"
     ]
    }
   ],
   "source": [
    "directory = \"C:/Users/WZHARBC/Documents/Python Monthly Tasks/Exports/Retail Data Process\"\n",
    "os.chdir(directory)\n",
    "\n",
    "rd = str(input(\"Please enter the RD (YYYYMMDD): \"))\n",
    "\n",
    "ws = \"0194\""
   ]
  },
  {
   "cell_type": "markdown",
   "metadata": {},
   "source": [
    "### Get cno password"
   ]
  },
  {
   "cell_type": "code",
   "execution_count": 25,
   "metadata": {},
   "outputs": [
    {
     "name": "stdout",
     "output_type": "stream",
     "text": [
      "Please, enter the password for your user:  CNO_WZHARBC\n",
      "········\n",
      "Password entered\n"
     ]
    }
   ],
   "source": [
    "# Getting user from env\n",
    "cno_user = \"CNO_\" + getpass.getuser()\n",
    "\n",
    "# Prompting for pwd\n",
    "print(\"Please, enter the password for your user: \", cno_user)\n",
    "cno_pwd = getpass.getpass()\n",
    "if(cno_pwd == \"\"):\n",
    "    print(\"Error - password entered as blank\")\n",
    "else:\n",
    "    print(\"Password entered\")"
   ]
  },
  {
   "cell_type": "markdown",
   "metadata": {},
   "source": [
    "### Make connection with Oracle DB"
   ]
  },
  {
   "cell_type": "code",
   "execution_count": 26,
   "metadata": {},
   "outputs": [
    {
     "data": {
      "text/plain": [
       "<sqlalchemy.engine.result.ResultProxy at 0x2999c317eb8>"
      ]
     },
     "execution_count": 26,
     "metadata": {},
     "output_type": "execute_result"
    }
   ],
   "source": [
    "# Ray Connection\n",
    "logon_string_RAY = str(\"oracle+cx_oracle://\" + cno_user + \":\" + cno_pwd + \"@localhost:41521/PN001\")\n",
    "connection_RAY = create_engine(logon_string_RAY)\n",
    "connection_RAY.execute(\"call pack_context.context_open(to_date('{reporting_date}','YYYYMMDD'), {partition})\".format(\n",
    "                        reporting_date = rd, partition = ws))"
   ]
  },
  {
   "cell_type": "markdown",
   "metadata": {},
   "source": [
    "### Check if data is delivered"
   ]
  },
  {
   "cell_type": "code",
   "execution_count": 27,
   "metadata": {},
   "outputs": [
    {
     "name": "stdout",
     "output_type": "stream",
     "text": [
      "Ready to go\n",
      "Wall time: 374 ms\n"
     ]
    }
   ],
   "source": [
    "%%time\n",
    "d1 = pd.read_sql_query(\"\"\"select * from v_rzb_cdr_retail where rownum < 50\"\"\", connection_RAY)\n",
    "if( len(d1) > 0):\n",
    "    print(\"Ready to go\")\n",
    "else:\n",
    "    print(\"Retail data is not yet delivered\")"
   ]
  },
  {
   "cell_type": "markdown",
   "metadata": {},
   "source": [
    "### Get months"
   ]
  },
  {
   "cell_type": "code",
   "execution_count": 28,
   "metadata": {},
   "outputs": [],
   "source": [
    "rd1 = 0\n",
    "rd2 = 0\n",
    "rd3 = 0\n",
    "def get_months():\n",
    "    global rd, rd1, rd2, rd3\n",
    "    #seperate to y, m and d\n",
    "    year = rd[0:4]\n",
    "    month = rd[4:6]\n",
    "    day = rd[6:8]\n",
    "    rd1 = rd\n",
    "    if(month == \"01\") | (month == \"02\"):\n",
    "        if(month == \"01\"):\n",
    "            #update month\n",
    "            year = str(int(year) - 1)\n",
    "            month = \"12\"\n",
    "            \n",
    "            rd2 = str(year) + str(int(month)) + str(calendar.monthrange(int(year), int(month))[1])\n",
    "            rd3 = str(year) + str(int(month)-1) + str(calendar.monthrange(int(year), int(month)-1)[1])\n",
    "        else:\n",
    "            rd2 = str(year) + \"0\" + str(int(month)-1) + str(calendar.monthrange(int(year), int(month)-1)[1])\n",
    "            #update month\n",
    "            year = str(int(year) - 1)\n",
    "            month = \"12\"\n",
    "            \n",
    "            rd3 = str(year) + str(int(month)) + str(calendar.monthrange(int(year), int(month))[1])\n",
    "    else:\n",
    "        if(int(month) <11 ):\n",
    "            rd2 = str(year) + \"0\" + str(int(month)-1) + str(calendar.monthrange(int(year), int(month)-1)[1])\n",
    "            rd3 = str(year) + \"0\" + str(int(month)-2) + str(calendar.monthrange(int(year), int(month)-2)[1])\n",
    "        elif (int(month) == 11):\n",
    "            rd2 = str(year) + str(int(month)-1) + str(calendar.monthrange(int(year), int(month)-1)[1])\n",
    "            rd3 = str(year) + \"0\" + str(int(month)-2) + str(calendar.monthrange(int(year), int(month)-2)[1])\n",
    "        else:\n",
    "            rd2 = str(year) + str(int(month)-1) + str(calendar.monthrange(int(year), int(month)-1)[1])\n",
    "            rd3 = str(year) + str(int(month)-2) + str(calendar.monthrange(int(year), int(month)-2)[1])  \n",
    "    \n",
    "get_months()"
   ]
  },
  {
   "cell_type": "markdown",
   "metadata": {},
   "source": [
    "### Open excel file"
   ]
  },
  {
   "cell_type": "code",
   "execution_count": 6,
   "metadata": {},
   "outputs": [
    {
     "ename": "ValueError",
     "evalue": "year 3396672 is out of range",
     "output_type": "error",
     "traceback": [
      "\u001b[1;31m---------------------------------------------------------------------------\u001b[0m",
      "\u001b[1;31mValueError\u001b[0m                                Traceback (most recent call last)",
      "\u001b[1;32m<ipython-input-6-fac8cbbdf9ff>\u001b[0m in \u001b[0;36m<module>\u001b[1;34m\u001b[0m\n\u001b[0;32m      2\u001b[0m \u001b[0mfile_name\u001b[0m \u001b[1;33m=\u001b[0m \u001b[1;34m'Retail_monthly_check_'\u001b[0m \u001b[1;33m+\u001b[0m \u001b[0mcalendar\u001b[0m\u001b[1;33m.\u001b[0m\u001b[0mmonth_name\u001b[0m\u001b[1;33m[\u001b[0m\u001b[0mint\u001b[0m\u001b[1;33m(\u001b[0m\u001b[0mrd\u001b[0m\u001b[1;33m[\u001b[0m\u001b[1;36m4\u001b[0m\u001b[1;33m:\u001b[0m\u001b[1;36m6\u001b[0m\u001b[1;33m]\u001b[0m\u001b[1;33m)\u001b[0m\u001b[1;33m]\u001b[0m \u001b[1;33m+\u001b[0m \u001b[1;34m'_'\u001b[0m \u001b[1;33m+\u001b[0m \u001b[0mrd\u001b[0m\u001b[1;33m[\u001b[0m\u001b[1;36m0\u001b[0m\u001b[1;33m:\u001b[0m\u001b[1;36m4\u001b[0m\u001b[1;33m]\u001b[0m \u001b[1;33m+\u001b[0m \u001b[1;34m'.xlsx'\u001b[0m\u001b[1;33m\u001b[0m\u001b[1;33m\u001b[0m\u001b[0m\n\u001b[0;32m      3\u001b[0m \u001b[1;33m\u001b[0m\u001b[0m\n\u001b[1;32m----> 4\u001b[1;33m \u001b[0mretail\u001b[0m \u001b[1;33m=\u001b[0m \u001b[0mload_workbook\u001b[0m\u001b[1;33m(\u001b[0m\u001b[1;34m\"test.xlsm\"\u001b[0m\u001b[1;33m)\u001b[0m\u001b[1;33m\u001b[0m\u001b[1;33m\u001b[0m\u001b[0m\n\u001b[0m\u001b[0;32m      5\u001b[0m \u001b[1;32mif\u001b[0m \u001b[1;32mnot\u001b[0m \u001b[0mretail\u001b[0m\u001b[1;33m.\u001b[0m\u001b[0mviews\u001b[0m\u001b[1;33m:\u001b[0m\u001b[1;33m\u001b[0m\u001b[1;33m\u001b[0m\u001b[0m\n\u001b[0;32m      6\u001b[0m     \u001b[0mretail\u001b[0m\u001b[1;33m.\u001b[0m\u001b[0mviews\u001b[0m\u001b[1;33m.\u001b[0m\u001b[0mappend\u001b[0m\u001b[1;33m(\u001b[0m\u001b[0mopenpyxl\u001b[0m\u001b[1;33m.\u001b[0m\u001b[0mworkbook\u001b[0m\u001b[1;33m.\u001b[0m\u001b[0mviews\u001b[0m\u001b[1;33m.\u001b[0m\u001b[0mBookView\u001b[0m\u001b[1;33m(\u001b[0m\u001b[1;33m)\u001b[0m\u001b[1;33m)\u001b[0m\u001b[1;33m\u001b[0m\u001b[1;33m\u001b[0m\u001b[0m\n",
      "\u001b[1;32mC:\\ProgramData\\Anaconda3\\lib\\site-packages\\openpyxl\\reader\\excel.py\u001b[0m in \u001b[0;36mload_workbook\u001b[1;34m(filename, read_only, keep_vba, data_only, guess_types, keep_links)\u001b[0m\n\u001b[0;32m    248\u001b[0m             \u001b[0mws\u001b[0m\u001b[1;33m.\u001b[0m\u001b[0m_rels\u001b[0m \u001b[1;33m=\u001b[0m \u001b[0mrels\u001b[0m\u001b[1;33m\u001b[0m\u001b[1;33m\u001b[0m\u001b[0m\n\u001b[0;32m    249\u001b[0m             \u001b[0mws_parser\u001b[0m \u001b[1;33m=\u001b[0m \u001b[0mWorkSheetParser\u001b[0m\u001b[1;33m(\u001b[0m\u001b[0mws\u001b[0m\u001b[1;33m,\u001b[0m \u001b[0mfh\u001b[0m\u001b[1;33m,\u001b[0m \u001b[0mshared_strings\u001b[0m\u001b[1;33m)\u001b[0m\u001b[1;33m\u001b[0m\u001b[1;33m\u001b[0m\u001b[0m\n\u001b[1;32m--> 250\u001b[1;33m             \u001b[0mws_parser\u001b[0m\u001b[1;33m.\u001b[0m\u001b[0mparse\u001b[0m\u001b[1;33m(\u001b[0m\u001b[1;33m)\u001b[0m\u001b[1;33m\u001b[0m\u001b[1;33m\u001b[0m\u001b[0m\n\u001b[0m\u001b[0;32m    251\u001b[0m \u001b[1;33m\u001b[0m\u001b[0m\n\u001b[0;32m    252\u001b[0m             \u001b[1;32mif\u001b[0m \u001b[0mrels\u001b[0m\u001b[1;33m:\u001b[0m\u001b[1;33m\u001b[0m\u001b[1;33m\u001b[0m\u001b[0m\n",
      "\u001b[1;32mC:\\ProgramData\\Anaconda3\\lib\\site-packages\\openpyxl\\reader\\worksheet.py\u001b[0m in \u001b[0;36mparse\u001b[1;34m(self)\u001b[0m\n\u001b[0;32m    128\u001b[0m             \u001b[0mtag_name\u001b[0m \u001b[1;33m=\u001b[0m \u001b[0melement\u001b[0m\u001b[1;33m.\u001b[0m\u001b[0mtag\u001b[0m\u001b[1;33m\u001b[0m\u001b[1;33m\u001b[0m\u001b[0m\n\u001b[0;32m    129\u001b[0m             \u001b[1;32mif\u001b[0m \u001b[0mtag_name\u001b[0m \u001b[1;32min\u001b[0m \u001b[0mdispatcher\u001b[0m\u001b[1;33m:\u001b[0m\u001b[1;33m\u001b[0m\u001b[1;33m\u001b[0m\u001b[0m\n\u001b[1;32m--> 130\u001b[1;33m                 \u001b[0mdispatcher\u001b[0m\u001b[1;33m[\u001b[0m\u001b[0mtag_name\u001b[0m\u001b[1;33m]\u001b[0m\u001b[1;33m(\u001b[0m\u001b[0melement\u001b[0m\u001b[1;33m)\u001b[0m\u001b[1;33m\u001b[0m\u001b[1;33m\u001b[0m\u001b[0m\n\u001b[0m\u001b[0;32m    131\u001b[0m                 \u001b[0melement\u001b[0m\u001b[1;33m.\u001b[0m\u001b[0mclear\u001b[0m\u001b[1;33m(\u001b[0m\u001b[1;33m)\u001b[0m\u001b[1;33m\u001b[0m\u001b[1;33m\u001b[0m\u001b[0m\n\u001b[0;32m    132\u001b[0m             \u001b[1;32melif\u001b[0m \u001b[0mtag_name\u001b[0m \u001b[1;32min\u001b[0m \u001b[0mproperties\u001b[0m\u001b[1;33m:\u001b[0m\u001b[1;33m\u001b[0m\u001b[1;33m\u001b[0m\u001b[0m\n",
      "\u001b[1;32mC:\\ProgramData\\Anaconda3\\lib\\site-packages\\openpyxl\\reader\\worksheet.py\u001b[0m in \u001b[0;36mparse_row\u001b[1;34m(self, row)\u001b[0m\n\u001b[0;32m    290\u001b[0m \u001b[1;33m\u001b[0m\u001b[0m\n\u001b[0;32m    291\u001b[0m         \u001b[1;32mfor\u001b[0m \u001b[0mcell\u001b[0m \u001b[1;32min\u001b[0m \u001b[0msafe_iterator\u001b[0m\u001b[1;33m(\u001b[0m\u001b[0mrow\u001b[0m\u001b[1;33m,\u001b[0m \u001b[0mself\u001b[0m\u001b[1;33m.\u001b[0m\u001b[0mCELL_TAG\u001b[0m\u001b[1;33m)\u001b[0m\u001b[1;33m:\u001b[0m\u001b[1;33m\u001b[0m\u001b[1;33m\u001b[0m\u001b[0m\n\u001b[1;32m--> 292\u001b[1;33m             \u001b[0mself\u001b[0m\u001b[1;33m.\u001b[0m\u001b[0mparse_cell\u001b[0m\u001b[1;33m(\u001b[0m\u001b[0mcell\u001b[0m\u001b[1;33m)\u001b[0m\u001b[1;33m\u001b[0m\u001b[1;33m\u001b[0m\u001b[0m\n\u001b[0m\u001b[0;32m    293\u001b[0m \u001b[1;33m\u001b[0m\u001b[0m\n\u001b[0;32m    294\u001b[0m \u001b[1;33m\u001b[0m\u001b[0m\n",
      "\u001b[1;32mC:\\ProgramData\\Anaconda3\\lib\\site-packages\\openpyxl\\reader\\worksheet.py\u001b[0m in \u001b[0;36mparse_cell\u001b[1;34m(self, element)\u001b[0m\n\u001b[0;32m    224\u001b[0m                 \u001b[1;32mif\u001b[0m \u001b[0mis_date_format\u001b[0m\u001b[1;33m(\u001b[0m\u001b[0mcell\u001b[0m\u001b[1;33m.\u001b[0m\u001b[0mnumber_format\u001b[0m\u001b[1;33m)\u001b[0m\u001b[1;33m:\u001b[0m\u001b[1;33m\u001b[0m\u001b[1;33m\u001b[0m\u001b[0m\n\u001b[0;32m    225\u001b[0m                     \u001b[0mdata_type\u001b[0m \u001b[1;33m=\u001b[0m \u001b[1;34m'd'\u001b[0m\u001b[1;33m\u001b[0m\u001b[1;33m\u001b[0m\u001b[0m\n\u001b[1;32m--> 226\u001b[1;33m                     \u001b[0mvalue\u001b[0m \u001b[1;33m=\u001b[0m \u001b[0mfrom_excel\u001b[0m\u001b[1;33m(\u001b[0m\u001b[0mvalue\u001b[0m\u001b[1;33m,\u001b[0m \u001b[0mself\u001b[0m\u001b[1;33m.\u001b[0m\u001b[0mepoch\u001b[0m\u001b[1;33m)\u001b[0m\u001b[1;33m\u001b[0m\u001b[1;33m\u001b[0m\u001b[0m\n\u001b[0m\u001b[0;32m    227\u001b[0m \u001b[1;33m\u001b[0m\u001b[0m\n\u001b[0;32m    228\u001b[0m             \u001b[1;32melif\u001b[0m \u001b[0mdata_type\u001b[0m \u001b[1;33m==\u001b[0m \u001b[1;34m'b'\u001b[0m\u001b[1;33m:\u001b[0m\u001b[1;33m\u001b[0m\u001b[1;33m\u001b[0m\u001b[0m\n",
      "\u001b[1;32mC:\\ProgramData\\Anaconda3\\lib\\site-packages\\openpyxl\\utils\\datetime.py\u001b[0m in \u001b[0;36mfrom_excel\u001b[1;34m(value, offset)\u001b[0m\n\u001b[0;32m     95\u001b[0m         \u001b[1;32mreturn\u001b[0m \u001b[0mdays_to_time\u001b[0m\u001b[1;33m(\u001b[0m\u001b[0mdiff\u001b[0m\u001b[1;33m)\u001b[0m\u001b[1;33m\u001b[0m\u001b[1;33m\u001b[0m\u001b[0m\n\u001b[0;32m     96\u001b[0m     \u001b[1;32mif\u001b[0m \u001b[1;32mnot\u001b[0m \u001b[0mjumped\u001b[0m\u001b[1;33m:\u001b[0m\u001b[1;33m\u001b[0m\u001b[1;33m\u001b[0m\u001b[0m\n\u001b[1;32m---> 97\u001b[1;33m         \u001b[1;32mreturn\u001b[0m \u001b[0mdatetime\u001b[0m\u001b[1;33m.\u001b[0m\u001b[0mdatetime\u001b[0m\u001b[1;33m(\u001b[0m\u001b[1;33m*\u001b[0m\u001b[0mparts\u001b[0m\u001b[1;33m[\u001b[0m\u001b[1;33m:\u001b[0m\u001b[1;36m3\u001b[0m\u001b[1;33m]\u001b[0m\u001b[1;33m)\u001b[0m \u001b[1;33m+\u001b[0m \u001b[0mdiff\u001b[0m\u001b[1;33m\u001b[0m\u001b[1;33m\u001b[0m\u001b[0m\n\u001b[0m\u001b[0;32m     98\u001b[0m     \u001b[1;32melse\u001b[0m\u001b[1;33m:\u001b[0m\u001b[1;33m\u001b[0m\u001b[1;33m\u001b[0m\u001b[0m\n\u001b[0;32m     99\u001b[0m         \u001b[1;32mreturn\u001b[0m \u001b[0mdatetime\u001b[0m\u001b[1;33m.\u001b[0m\u001b[0mdatetime\u001b[0m\u001b[1;33m(\u001b[0m\u001b[1;33m*\u001b[0m\u001b[0mparts\u001b[0m\u001b[1;33m[\u001b[0m\u001b[1;33m:\u001b[0m\u001b[1;36m3\u001b[0m\u001b[1;33m]\u001b[0m \u001b[1;33m+\u001b[0m \u001b[1;33m[\u001b[0m\u001b[1;36m0\u001b[0m\u001b[1;33m]\u001b[0m\u001b[1;33m)\u001b[0m\u001b[1;33m\u001b[0m\u001b[1;33m\u001b[0m\u001b[0m\n",
      "\u001b[1;31mValueError\u001b[0m: year 3396672 is out of range"
     ]
    }
   ],
   "source": [
    "# determining the name of the file\n",
    "file_name = 'Retail_monthly_check_' + calendar.month_name[int(rd[4:6])] + '_' + rd[0:4] + '.xlsx'\n",
    "\n",
    "retail = load_workbook(\"test.xlsm\")\n",
    "if not retail.views:\n",
    "    retail.views.append(openpyxl.workbook.views.BookView())\n",
    "\n",
    "\n",
    "input_last = retail['INPUT_LAST']\n",
    "# cell_range = input_last['A2':'AD20000']\n",
    "\n",
    "# #clear sheet\n",
    "# for row in cell_range:\n",
    "#     for cell in row:\n",
    "#         cell.value = None  \n",
    "        \n",
    "input_current = retail['INPUT_CURRENT']\n",
    "# cell_range = input_current['A2':'AD20000']\n",
    "\n",
    "# #clear sheet\n",
    "# for row in cell_range:\n",
    "#     for cell in row:\n",
    "#         cell.value = None "
   ]
  },
  {
   "cell_type": "markdown",
   "metadata": {},
   "source": [
    "### Go to all contexts"
   ]
  },
  {
   "cell_type": "code",
   "execution_count": 58,
   "metadata": {},
   "outputs": [],
   "source": [
    "connection_RAY.execute(\"call pack_context.context_disable()\");"
   ]
  },
  {
   "cell_type": "markdown",
   "metadata": {},
   "source": [
    "### Select last input"
   ]
  },
  {
   "cell_type": "code",
   "execution_count": 59,
   "metadata": {},
   "outputs": [],
   "source": [
    "d1 = pd.read_sql_query(\"\"\" select reporting_date, type, booking_company_new,counterparty_new_category,bs_type, contract_type, currency_pool, ltv, internal_rating, sum(ead_pre_ccf_agg) as ead_pre_ccf_agg, sum(defaulted) as defaulted, sum(rwa) as rwa, sum(rwa_risk) as rwa_risk,  sum(ead_pro) as provision, sum(rating_sum) as rating, sum(ltv_sum) as ltv, sum(currency_pool_sum) as currency_pool, sum(contract_type_sum) as contract_type, cut_date,delinquency,sum(amount_in_default) as amount_in_default, sum(amount_in_default_lcy) as amount_in_default_lcy, sum(ead_pre_ccf_detail) as ead_pre_ccf_detail,   \n",
    "sum(ead_pre_ccf_agg) as ead_pre_ccf_agg_fx, sum(rwa) as rwa_fx, sum(rwa_risk) as rwa_risk_fx, sum(defaulted) as defaulted_fx,  sum(ead_pro) as provision_fx , sum(ead_on) as ead_on, sum(ead_off) as ead_off\n",
    "from(with retail as (select * from rzb_cdr_retail where partition_key = '\"\"\" + rd2 + \"\"\"0000' and import_source = 'RETAIL_RRM')--,   \n",
    "--ccy_current as (select ccy_code, exch_rate from currency where partition_key = '\"\"\" + rd2 + \"\"\"0000'),   \n",
    "--ccy_new as (select ccy_code, exch_rate from currency where partition_key = '201505310000'),   \n",
    "--ccy_old as (select ccy_code, exch_rate from currency where partition_key = '201504300000' )   \n",
    "select  (case booking_company   \n",
    "  when 'RFNLRO' then 'RBRO'  \n",
    "  when 'RFNLBG' then 'RBBG'  \n",
    "  when 'SPRO01' then 'RBRO' \n",
    "  when 'SPBG01' then 'RBBG'  \n",
    "  when 'ROOFRU' then 'RBRU'  \n",
    "  when 'RFNLRS' then 'RBRS' \n",
    "  else booking_company end) as booking_company_new, \n",
    "  (case  \n",
    "  when booking_company like 'RL%' then 'Leasing' \n",
    "  when booking_company like 'RA%' then 'Leasing' \n",
    "  when booking_company = 'TLSK' then 'Leasing' \n",
    "  when booking_company = 'HULE' then 'Leasing' \n",
    "  else 'Bank' end) as Type, \n",
    "  (case  \n",
    "  when delinquency in ('> 181 dpd new','91 - 120 dpd','151 - 180 dpd','> 181 dpd','121 - 150 dpd')  \n",
    "   then ead_pre_ccf_detail\n",
    "  else 0 end) as defaulted, \n",
    "case when internal_rating is not null   \n",
    "then ead_pre_ccf_detail   \n",
    "else 0 end as rating_sum,   \n",
    "case when ltv is not null   \n",
    "then ead_pre_ccf_detail   \n",
    "else 0 end as ltv_sum,   \n",
    "case when currency_pool is not null   \n",
    "then ead_pre_ccf_detail   \n",
    "else 0 end as currency_pool_sum,   \n",
    "case when (contract_type is not null and contract_type != 'NO MAP')   \n",
    "then ead_pre_ccf_agg   \n",
    "else 0 end as contract_type_sum,       \n",
    "  bs_type,  \n",
    "  reporting_Date,  \n",
    "  counterparty_new_category,  \n",
    "  ead_pre_ccf_agg, \n",
    "  --    ead_pre_ccf_agg*n.exch_rate/o.exch_rate as ead_pre_ccf_agg_fx,   \n",
    "  rwa, \n",
    "  --    rwa*n.exch_rate/o.exch_rate as rwa_fx,   \n",
    "  rwa_risk, \n",
    "  --    rwa_risk*n.exch_rate/o.exch_rate as rwa_risk_fx,   \n",
    "  ead_pro, \n",
    "ltv,   \n",
    "internal_rating,   \n",
    "currency_pool,   \n",
    "contract_type,   \n",
    "cut_date,   \n",
    "delinquency,   \n",
    "ead_pre_ccf_detail,   \n",
    "amount_in_default,   \n",
    "amount_in_default_lcy,\n",
    "ead_on,\n",
    "ead_off--,   \n",
    "--(case   \n",
    "--when to_date(substr(partition_key, 1,8),'YYYYMMDD') = cut_date then c.exch_rate    \n",
    " --else n.exch_rate end   \n",
    "--) as exch_new,   \n",
    "--(case   \n",
    "--when to_date(substr(partition_key, 1,8),'YYYYMMDD') = cut_date then n.exch_rate    \n",
    " --else o.exch_rate end   \n",
    "--) exch_old   \n",
    "  from retail r  \n",
    " --left join ccy_new n on r.currency = n.ccy_code   \n",
    " --left join ccy_old o on r.currency = o.ccy_code   \n",
    "--left join ccy_current c on r.currency = c.ccy_code   \n",
    ")   \n",
    "where counterparty_new_category in ('MICRO', 'PI', 'SE') \n",
    "group by booking_company_new, type, reporting_Date, counterparty_new_category, bs_type, contract_type, currency_pool, ltv, internal_rating, cut_date,delinquency \"\"\", connection_RAY)"
   ]
  },
  {
   "cell_type": "code",
   "execution_count": 60,
   "metadata": {},
   "outputs": [],
   "source": [
    "for i, row in enumerate(d1.itertuples()):\n",
    "    for j, val in enumerate(row[1:]):\n",
    "        input_last.cell(row=2+i, column=1+j).value = val"
   ]
  },
  {
   "cell_type": "markdown",
   "metadata": {},
   "source": [
    "### Select current input"
   ]
  },
  {
   "cell_type": "code",
   "execution_count": 61,
   "metadata": {},
   "outputs": [],
   "source": [
    "d1 = pd.read_sql_query(\"\"\"select reporting_date, type, booking_company_new,counterparty_new_category,bs_type, contract_type, currency_pool, ltv, internal_rating, sum(ead_pre_ccf_agg) as ead_pre_ccf_agg, sum(defaulted) as defaulted, sum(rwa) as rwa, sum(rwa_risk) as rwa_risk,  sum(ead_pro) as provision, sum(rating_sum) as rating, sum(ltv_sum) as ltv, sum(currency_pool_sum) as currency_pool, sum(contract_type_sum) as contract_type, cut_date,delinquency,sum(amount_in_default) as amount_in_default, sum(amount_in_default_lcy) as amount_in_default_lcy, sum(ead_pre_ccf_detail) as ead_pre_ccf_detail,   \n",
    "sum(ead_pre_ccf_agg*exch_new/exch_old) as ead_pre_ccf_agg_fx, sum(rwa*exch_new/exch_old) as rwa_fx, sum(rwa_risk*exch_new/exch_old) as rwa_risk_fx, sum(defaulted*exch_new/exch_old) as defaulted_fx,  sum(ead_pro*exch_new/exch_old) as provision_fx,sum(ead_on) as ead_on, sum(ead_off) as ead_off   \n",
    "from(with retail as (select * from rzb_cdr_retail where partition_key = '\"\"\"+rd1+\"\"\"0000'),   \n",
    "ccy_current as (select ccy_code, exch_rate from currency where partition_key = '\"\"\"+rd1+\"\"\"0000'),   \n",
    "ccy_new as (select ccy_code, exch_rate from currency where partition_key = '\"\"\"+rd2+\"\"\"0000'),   \n",
    "ccy_old as (select ccy_code, exch_rate from currency where partition_key = '\"\"\"+rd3+\"\"\"0000' )   \n",
    "select  (case booking_company   \n",
    "  when 'RFNLRO' then 'RBRO'  \n",
    "  when 'RFNLBG' then 'RBBG'  \n",
    "  when 'SPRO01' then 'RBRO' \n",
    "  when 'SPBG01' then 'RBBG'  \n",
    "  when 'ROOFRU' then 'RBRU'  \n",
    "  when 'RFNLRS' then 'RBRS' \n",
    "  else booking_company end) as booking_company_new, \n",
    "  (case  \n",
    "  when booking_company like 'RL%' then 'Leasing' \n",
    "  when booking_company like 'RA%' then 'Leasing' \n",
    "  when booking_company = 'TLSK' then 'Leasing' \n",
    "  when booking_company = 'HULE' then 'Leasing' \n",
    "  else 'Bank' end) as Type, \n",
    "  (case  \n",
    "  when delinquency in ('> 181 dpd new','91 - 120 dpd','151 - 180 dpd','> 181 dpd','121 - 150 dpd')  \n",
    "   then ead_pre_ccf_detail\n",
    "  else 0 end) as defaulted, \n",
    "case when internal_rating is not null   \n",
    "then ead_pre_ccf_detail   \n",
    "else 0 end as rating_sum,   \n",
    "case when ltv is not null   \n",
    "then ead_pre_ccf_detail   \n",
    "else 0 end as ltv_sum,   \n",
    "case when currency_pool is not null   \n",
    "then ead_pre_ccf_detail   \n",
    "else 0 end as currency_pool_sum,   \n",
    "case when (contract_type is not null and contract_type != 'NO MAP')   \n",
    "then ead_pre_ccf_agg   \n",
    "else 0 end as contract_type_sum,       \n",
    "  bs_type,  \n",
    "  reporting_Date,  \n",
    "  counterparty_new_category,  \n",
    "  ead_pre_ccf_agg, \n",
    "  --    ead_pre_ccf_agg*n.exch_rate/o.exch_rate as ead_pre_ccf_agg_fx,   \n",
    "  rwa, \n",
    "  --    rwa*n.exch_rate/o.exch_rate as rwa_fx,   \n",
    "  rwa_risk, \n",
    "  --    rwa_risk*n.exch_rate/o.exch_rate as rwa_risk_fx,   \n",
    "  ead_pro, \n",
    "ltv,   \n",
    "internal_rating,   \n",
    "currency_pool,   \n",
    "contract_type,   \n",
    "cut_date,   \n",
    "delinquency,   \n",
    "ead_pre_ccf_detail,   \n",
    "amount_in_default,   \n",
    "amount_in_default_lcy,  \n",
    "ead_on,\n",
    "ead_off, \n",
    "(case   \n",
    "when to_date(substr(partition_key, 1,8),'YYYYMMDD') = cut_date then c.exch_rate    \n",
    "else n.exch_rate end   \n",
    ") as exch_new,   \n",
    "(case   \n",
    "when to_date(substr(partition_key, 1,8),'YYYYMMDD') = cut_date then n.exch_rate    \n",
    "else o.exch_rate end   \n",
    ") exch_old   \n",
    "  from retail r  \n",
    "left join ccy_new n on r.currency = n.ccy_code   \n",
    "left join ccy_old o on r.currency = o.ccy_code   \n",
    "left join ccy_current c on r.currency = c.ccy_code   \n",
    ")   \n",
    "where counterparty_new_category in ('MICRO', 'PI', 'SE')   \n",
    "group by booking_company_new, type, reporting_Date, counterparty_new_category, bs_type, contract_type, currency_pool, ltv, internal_rating, cut_date,delinquency\n",
    "\"\"\", connection_RAY)"
   ]
  },
  {
   "cell_type": "code",
   "execution_count": 62,
   "metadata": {},
   "outputs": [],
   "source": [
    "for i, row in enumerate(d1.itertuples()):\n",
    "    for j, val in enumerate(row[1:]):\n",
    "        input_current.cell(row=2+i, column=1+j).value = val"
   ]
  },
  {
   "cell_type": "code",
   "execution_count": 12,
   "metadata": {},
   "outputs": [],
   "source": [
    "rows = dataframe_to_rows(d1)\n",
    "for r_idx, row in enumerate(rows, 1):\n",
    "    for c_idx, value in enumerate(row, 1):\n",
    "         input_last.cell(row=r_idx, column=c_idx, value=value)\n",
    "            \n",
    "input_last.delete_cols(1)"
   ]
  },
  {
   "cell_type": "markdown",
   "metadata": {},
   "source": [
    "### Select Units from both WS"
   ]
  },
  {
   "cell_type": "code",
   "execution_count": 8,
   "metadata": {},
   "outputs": [
    {
     "name": "stdout",
     "output_type": "stream",
     "text": [
      "Wall time: 22.9 s\n"
     ]
    }
   ],
   "source": [
    "%%time\n",
    "d2 = pd.read_sql_query(\"\"\"select distinct booking_company\n",
    "from rzb_Cdr\n",
    "where ( attribute_5 like '%KLI%' or attribute_5 like '%WTC%' ) and booking_company not in ('RKAG','RFACTOR','RBRUFIN','RALT','RBSPK','RBSPKHR','RBSPKMS','RBSPKRO','RLBY1','RSTS','RWBB','ALEASS','AREALE')\n",
    "\"\"\", connection_RAY)"
   ]
  },
  {
   "cell_type": "code",
   "execution_count": 9,
   "metadata": {},
   "outputs": [],
   "source": [
    "for i, row in d2.iterrows():\n",
    "    first_range = i\n",
    "    ws.cell(row=i+1, column=1).value = d2.booking_company[i]"
   ]
  },
  {
   "cell_type": "code",
   "execution_count": 10,
   "metadata": {},
   "outputs": [
    {
     "data": {
      "text/plain": [
       "<sqlalchemy.engine.result.ResultProxy at 0x20c7d709a58>"
      ]
     },
     "execution_count": 10,
     "metadata": {},
     "output_type": "execute_result"
    }
   ],
   "source": [
    "connection_RAY.execute(\"call pack_context.context_open(to_date('{reporting_date}','YYYYMMDD'), {partition})\".format(\n",
    "                        reporting_date = rd, partition = ws_cons))"
   ]
  },
  {
   "cell_type": "code",
   "execution_count": 11,
   "metadata": {},
   "outputs": [
    {
     "name": "stdout",
     "output_type": "stream",
     "text": [
      "Wall time: 38.3 s\n"
     ]
    }
   ],
   "source": [
    "%%time\n",
    "d3 = pd.read_sql_query(\"\"\"select distinct booking_company\n",
    "from rzb_Cdr\n",
    "where ( attribute_5 like '%KLI%' or attribute_5 like '%WTC%' ) and booking_company not in ('RKAG','RFACTOR','RBRUFIN','RALT','RBSPK','RBSPKHR','RBSPKMS','RBSPKRO','RLBY1','RSTS','RWBB','ALEASS','AREALE')\n",
    "\"\"\", connection_RAY)"
   ]
  },
  {
   "cell_type": "code",
   "execution_count": 12,
   "metadata": {},
   "outputs": [],
   "source": [
    "for i, row in d3.iterrows():\n",
    "    ws.cell(row=1+i+first_range, column=1).value = d3.booking_company[i]"
   ]
  },
  {
   "cell_type": "code",
   "execution_count": 63,
   "metadata": {},
   "outputs": [],
   "source": [
    "retail.save(file_name)"
   ]
  },
  {
   "cell_type": "code",
   "execution_count": null,
   "metadata": {},
   "outputs": [],
   "source": [
    "framerate = 4410\n",
    "play_time_seconds = 3\n",
    "\n",
    "t = np.linspace(0, play_time_seconds, framerate*play_time_seconds)\n",
    "audio_data = np.sin(2*np.pi*300*t) + np.sin(2*np.pi*240*t)\n",
    "Audio(audio_data, rate=framerate, autoplay=True)"
   ]
  },
  {
   "cell_type": "code",
   "execution_count": null,
   "metadata": {},
   "outputs": [],
   "source": []
  }
 ],
 "metadata": {
  "kernelspec": {
   "display_name": "Python 3",
   "language": "python",
   "name": "python3"
  },
  "language_info": {
   "codemirror_mode": {
    "name": "ipython",
    "version": 3
   },
   "file_extension": ".py",
   "mimetype": "text/x-python",
   "name": "python",
   "nbconvert_exporter": "python",
   "pygments_lexer": "ipython3",
   "version": "3.7.1"
  }
 },
 "nbformat": 4,
 "nbformat_minor": 2
}
