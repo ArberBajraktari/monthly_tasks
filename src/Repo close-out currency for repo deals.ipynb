{
 "cells": [
  {
   "cell_type": "markdown",
   "metadata": {},
   "source": [
    "# What happens:\n",
    "File is created and email is prepared"
   ]
  },
  {
   "cell_type": "markdown",
   "metadata": {},
   "source": [
    "## Import "
   ]
  },
  {
   "cell_type": "code",
   "execution_count": 3,
   "metadata": {},
   "outputs": [],
   "source": [
    "import os\n",
    "import sys\n",
    "import pandas as pd\n",
    "import numpy as np\n",
    "from pandas import DataFrame\n",
    "import sqlalchemy\n",
    "from sqlalchemy import create_engine\n",
    "import getpass\n",
    "import win32com.client as win32"
   ]
  },
  {
   "cell_type": "markdown",
   "metadata": {},
   "source": [
    "### Select the folder where you wanna do the work\n",
    "### Also ask for the Reporting Date"
   ]
  },
  {
   "cell_type": "code",
   "execution_count": 4,
   "metadata": {},
   "outputs": [],
   "source": [
    "directory = \"C:/Users/WZHARBC/Documents/Python Monthly Tasks/Exports/Repo - close-out Currency Check\"\n",
    "os.chdir(directory)\n",
    "\n",
    "rd = str(input(\"Please enter the RD (YYYYMMDD): \"))\n",
    "\n",
    "ws = \"0194\""
   ]
  },
  {
   "cell_type": "markdown",
   "metadata": {},
   "source": [
    "### Make connection with Oracle DB"
   ]
  },
  {
   "cell_type": "code",
   "execution_count": 5,
   "metadata": {},
   "outputs": [],
   "source": [
    "#Setting up RAY connection:\n",
    "connection_RAY = create_engine(str(\"oracle://:@OCRPN\"))\n",
    "connection_RAY.execute(\"call pack_context.context_open(to_date('{reporting_date}','YYYYMMDD'),{partition})\".format(\n",
    "                 reporting_date = rd, partition = ws))"
   ]
  },
  {
   "cell_type": "markdown",
   "metadata": {},
   "source": [
    "### Save selection\n",
    "### Also see how much time it took"
   ]
  },
  {
   "cell_type": "code",
   "execution_count": null,
   "metadata": {},
   "outputs": [
    {
     "name": "stdout",
     "output_type": "stream",
     "text": [
      "Wall time: 46 ms\n"
     ]
    }
   ],
   "source": [
    "%%time\n",
    "d = pd.read_sql_query(\"\"\"select *\n",
    "from fdw_netting_Agreement\n",
    "where netting_type = 'Netting Repo'\n",
    "and close_out_currency is null\n",
    "\"\"\", connection_RAY)"
   ]
  },
  {
   "cell_type": "markdown",
   "metadata": {},
   "source": [
    "### Save var in an excel file"
   ]
  },
  {
   "cell_type": "code",
   "execution_count": null,
   "metadata": {},
   "outputs": [
    {
     "name": "stdout",
     "output_type": "stream",
     "text": [
      "DataFrame is written to Excel File successfully.\n"
     ]
    }
   ],
   "source": [
    "# determining the name of the file\n",
    "file_name = rd + '_missing_coc.xlsx'\n",
    "\n",
    "# saving the excel\n",
    "d.to_excel(file_name, index=False)\n",
    "print('DataFrame is written to Excel File successfully.')"
   ]
  },
  {
   "cell_type": "markdown",
   "metadata": {},
   "source": [
    "### Send the email "
   ]
  },
  {
   "cell_type": "code",
   "execution_count": null,
   "metadata": {},
   "outputs": [],
   "source": [
    "outlook = win32.Dispatch('outlook.application')\n",
    "mail = outlook.CreateItem(0)\n",
    "mail.To = 'rudolf.sellinger@rbinternational.com'\n",
    "mail.Cc = 'markus.hochleitner@rbinternational.com; eugen.puseizer@rbinternational.com;'\n",
    "mail.Subject = 'Repo - Missing close-out currency deals (' + rd + ')'\n",
    "mail.Body = '''Dear Redolf,\n",
    "\n",
    "please find attached the deals with missing close-out currency, kindly asking to check whether correct.\n",
    "If not, please provide us the correct close-out currency and fix it in the source system.\n",
    "\n",
    "Kr\n",
    "Arber Bajraktari\n",
    "Student Support IT\n",
    "\n",
    "Raiffeisen Bank International AG | Am Stadtpark 9, 1030 Vienna, Austria | Tel. : +43 664 99481391\n",
    "arber.bajraktari@rbinternational.com | http://www.rbinternational.com \n",
    "'''\n",
    "\n",
    "# To attach a file to the email (optional):\n",
    "attachment  = directory + \"/\" + file_name\n",
    "mail.Attachments.Add(attachment)\n",
    "\n",
    "mail.Display()"
   ]
  },
  {
   "cell_type": "code",
   "execution_count": null,
   "metadata": {},
   "outputs": [],
   "source": []
  }
 ],
 "metadata": {
  "kernelspec": {
   "display_name": "Python 3.10.7 64-bit",
   "language": "python",
   "name": "python3"
  },
  "language_info": {
   "codemirror_mode": {
    "name": "ipython",
    "version": 3
   },
   "file_extension": ".py",
   "mimetype": "text/x-python",
   "name": "python",
   "nbconvert_exporter": "python",
   "pygments_lexer": "ipython3",
   "version": "3.10.7"
  },
  "vscode": {
   "interpreter": {
    "hash": "9b4d75ac280b6c7c3aa43866cb82dc88915409b55fec83a093dd0284cb58708e"
   }
  }
 },
 "nbformat": 4,
 "nbformat_minor": 2
}
