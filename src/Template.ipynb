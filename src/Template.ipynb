{
 "cells": [
  {
   "cell_type": "markdown",
   "metadata": {},
   "source": [
    "# What happens:\n",
    "Files are created, send email with excel script"
   ]
  },
  {
   "cell_type": "markdown",
   "metadata": {},
   "source": [
    "## Import "
   ]
  },
  {
   "cell_type": "code",
   "execution_count": 1,
   "metadata": {},
   "outputs": [],
   "source": [
    "import os\n",
    "import sys\n",
    "import pandas as pd\n",
    "import numpy as np\n",
    "from pandas import DataFrame\n",
    "import sqlalchemy\n",
    "from sqlalchemy import create_engine\n",
    "import getpass\n",
    "import datetime\n",
    "import win32com.client as win32\n",
    "import calendar\n",
    "from openpyxl import Workbook, load_workbook\n",
    "from IPython.lib.display import Audio\n",
    "from openpyxl.utils.dataframe import dataframe_to_rows\n",
    "from openpyxl.cell import Cell\n",
    "from openpyxl.styles import Color, Font, PatternFill"
   ]
  },
  {
   "cell_type": "markdown",
   "metadata": {},
   "source": [
    "### Create functions and global vars"
   ]
  },
  {
   "cell_type": "code",
   "execution_count": 2,
   "metadata": {},
   "outputs": [],
   "source": [
    "rd = 0\n",
    "# Insert the directory where to save the file\n",
    "# The Reporting Date will be requested and saved in a global var\n",
    "def get_rd(directory):\n",
    "    os.chdir(directory)\n",
    "    global rd\n",
    "    rd = str(input(\"Please enter the RD (YYYYMMDD): \"))\n",
    "    \n",
    "cno_user = \"\"\n",
    "cno_pwd = \"\"\n",
    "# Input the password when it's asked\n",
    "# It will be used later for the connection\n",
    "def get_pwd():\n",
    "    # Getting user from env\n",
    "    global cno_user\n",
    "    cno_user = \"CNO_\" + getpass.getuser()\n",
    "\n",
    "    global cno_pwd\n",
    "    # Prompting for pwd\n",
    "    print(\"Please, enter the password for your user: \", cno_user)\n",
    "    cno_pwd = getpass.getpass()\n",
    "    if(cno_pwd == \"\"):\n",
    "        print(\"Error - password entered as blank\")\n",
    "    else:\n",
    "        print(\"Password entered\")\n",
    "\n",
    "# Insert the workspace in the parameter\n",
    "# The connection will be made\n",
    "def connect_to_DB(ws):\n",
    "    #Setting up RAY connection:\n",
    "    connection = create_engine(str(\"oracle://:@OCRPN\"))\n",
    "    connection.execute(\"call pack_context.context_open(to_date('{reporting_date}','YYYYMMDD'),{partition})\".format(\n",
    "                     reporting_date = rd, partition = ws))\n",
    "    \n",
    "# Insert the parameters required\n",
    "# File_name -> the name of the file you want to save\n",
    "# Sheet_name -> the name of the sheets that will be created\n",
    "# Ws_nr -> the number of the respective WS that the connection will be made with\n",
    "# Sqls -> the sqls that will be run\n",
    "def save_file(file_name, sheet_name, ws_nr, sqls):\n",
    "    # Create file\n",
    "    wb = Workbook()\n",
    "    for index, sheet in enumerate(sheet_name):\n",
    "        wb.create_sheet(sheet)\n",
    "        \n",
    "    std = wb.get_sheet_by_name('Sheet')\n",
    "    wb.remove_sheet(std)\n",
    "    wb.save(filename = file_name)\n",
    "    \n",
    "    dfs = []\n",
    "    # Select SQLs\n",
    "    for index, sheet in enumerate(sheet_name):\n",
    "        try:\n",
    "            connection_RAY.execute(\"call pack_context.context_open(to_date('{reporting_date}','YYYYMMDD'), {partition})\".format(\n",
    "                        reporting_date = rd, partition = ws_nr[index]))\n",
    "            df_temp= pd.read_sql_query( sqls[index], connection_RAY)\n",
    "            dfs.append(df_temp)\n",
    "        except:\n",
    "            dfs.append(pd.DataFrame())\n",
    "            print( str(ws_nr[index]) + \" is not created\")\n",
    "            \n",
    "    writer = pd.ExcelWriter(file_name)\n",
    "    for index, df in enumerate(dfs):\n",
    "        try:\n",
    "            df.to_excel(writer, index=False, sheet_name = sheet_name[index])\n",
    "        except:\n",
    "            print()\n",
    "    \n",
    "    writer.save()\n",
    "    print('DataFrame is written to Excel File successfully.')\n",
    "\n",
    "def send_email(to, cc, sub, body, file_name):\n",
    "    outlook = win32.Dispatch('outlook.application')\n",
    "    mail = outlook.CreateItem(0)\n",
    "    mail.To = to\n",
    "    mail.Cc = cc\n",
    "    mail.Subject = sub\n",
    "    mail.Body = body\n",
    "\n",
    "    # To attach a file to the email (optional):\n",
    "    attachment  = directory + \"/\" + file_name\n",
    "    mail.Attachments.Add(attachment)\n",
    "\n",
    "    mail.Display()"
   ]
  },
  {
   "cell_type": "code",
   "execution_count": 3,
   "metadata": {},
   "outputs": [
    {
     "name": "stdout",
     "output_type": "stream",
     "text": [
      "writing\n",
      "0\n",
      "writing\n",
      "1\n",
      "writing\n",
      "2\n",
      "writing\n",
      "3\n",
      "writing\n",
      "4\n",
      "writing\n",
      "5\n",
      "writing\n",
      "6\n",
      "writing\n",
      "7\n",
      "writing\n",
      "8\n",
      "writing\n",
      "9\n",
      "writing\n",
      "10\n",
      "writing\n",
      "11\n",
      "writing\n",
      "12\n",
      "DataFrame is written to Excel File successfully.\n"
     ]
    }
   ],
   "source": [
    "file_name = 'check_rwa_uncons_rio_prep.xlsx'\n",
    "rd = ['20210930', '20211031', '20211130', '20211231', '20220131', '20220228', '20220331', '20220430', '20220531', '20220630', '20220731', '20220831', '20220930']\n",
    "dire = \"C:/Users/WZHARBC/Documents/Python Monthly Tasks/Exports/Equity Report\"\n",
    "\n",
    "def check_rwa(file_name, rd, dire):\n",
    "    os.chdir(dire)\n",
    "    # Create file\n",
    "    wb = Workbook()\n",
    "    # create excel writer\n",
    "    writer = pd.ExcelWriter(file_name)\n",
    "    \n",
    "    dfs = []\n",
    "    # Select SQLs\n",
    "    for rd_item in rd:\n",
    "        try:\n",
    "            connection_RAY = create_engine(str(\"oracle://:@OCRPREP\"))\n",
    "            connection_RAY.execute(\"call pack_context.context_open(to_date('{reporting_date}','YYYYMMDD'), {partition})\".format(\n",
    "                        reporting_date = rd_item, partition = 201))\n",
    "            df_temp= pd.read_sql_query( \"select count(contract_reference), sum(rwa) from rzb_cdr\", connection_RAY)\n",
    "            dfs.append(df_temp)\n",
    "        except:\n",
    "            dfs.append(pd.DataFrame())\n",
    "            print( \"WS is not created\")\n",
    "            \n",
    "    #writer = pd.ExcelWriter(file_name)\n",
    "    for index, df in enumerate(dfs):\n",
    "        try:\n",
    "            print(\"writing\")\n",
    "            print(index)\n",
    "            df.to_excel(writer, index=False, sheet_name = str(rd[index]))\n",
    "        except:\n",
    "            print(\"wrror\")\n",
    "    \n",
    "    # save the excel file\n",
    "    writer.save()\n",
    "    print('DataFrame is written to Excel File successfully.')\n",
    "    \n",
    "check_rwa(file_name, rd, dire)"
   ]
  },
  {
   "cell_type": "code",
   "execution_count": 4,
   "metadata": {},
   "outputs": [],
   "source": [
    "def send_email(to, cc, sub, body):\n",
    "    outlook = win32.Dispatch('outlook.application')\n",
    "    mail = outlook.CreateItem(0)\n",
    "    mail.To = to\n",
    "    mail.Cc = cc\n",
    "    mail.Subject = sub\n",
    "    mail.Body = body\n",
    "\n",
    "\n",
    "    mail.Display()"
   ]
  },
  {
   "cell_type": "markdown",
   "metadata": {},
   "source": [
    "### Execute the functions"
   ]
  },
  {
   "cell_type": "code",
   "execution_count": 5,
   "metadata": {},
   "outputs": [
    {
     "name": "stdout",
     "output_type": "stream",
     "text": [
      "Please enter the RD (YYYYMMDD): 20221031\n"
     ]
    }
   ],
   "source": [
    "# temp vars\n",
    "directory = \"C:/Users/WZHARBC/Documents/Python Monthly Tasks/Exports\"\n",
    "\n",
    "#functions are called\n",
    "get_rd(directory)"
   ]
  },
  {
   "cell_type": "markdown",
   "metadata": {},
   "source": [
    "# Missing Locacl Accounting Data"
   ]
  },
  {
   "cell_type": "code",
   "execution_count": 5,
   "metadata": {},
   "outputs": [],
   "source": [
    "# define vars for email\n",
    "to = ''\n",
    "cc = ''\n",
    "sub = ' - Missing Local Accounting Data (Completeness / September Load)'\n",
    "body = '''Dear colleagues,\n",
    "\n",
    "For the cases below the local accounting data for your Unit is missing in the Ray Web Client. Could you please enter the data?\n",
    "\n",
    "\n",
    "\n",
    "Thank you.\n",
    "\n",
    "Kind regards,\n",
    "Arber Bajraktari\n",
    "Student Support IT\n",
    "\n",
    "Raiffeisen Bank International AG | Am Stadtpark 9, 1030 Vienna, Austria | Tel. : +43 664 99481391\n",
    "arber.bajraktari@rbinternational.com | http://www.rbinternational.com \n",
    "'''\n",
    "send_email(to, cc, sub, body)"
   ]
  },
  {
   "cell_type": "markdown",
   "metadata": {},
   "source": [
    "# Missing Comment for Local for Data"
   ]
  },
  {
   "cell_type": "code",
   "execution_count": 6,
   "metadata": {},
   "outputs": [],
   "source": [
    "# define vars for email\n",
    "to = ''\n",
    "cc = ''\n",
    "sub = ' - Missing Comment for Local Accounting Data (Completeness / October Load)'\n",
    "body = '''Dear colleagues,\n",
    "\n",
    "For the cases below the comment for the local accounting data for your Unit is missing in the Ray Web Client. Could you please insert it?\n",
    "\n",
    "\n",
    "\n",
    "Thank you.\n",
    "\n",
    "Kind regards,\n",
    "Arber Bajraktari\n",
    "Student Support IT\n",
    "\n",
    "Raiffeisen Bank International AG | Am Stadtpark 9, 1030 Vienna, Austria | Tel. : +43 664 99481391\n",
    "arber.bajraktari@rbinternational.com | http://www.rbinternational.com \n",
    "'''\n",
    "send_email(to, cc, sub, body)"
   ]
  },
  {
   "cell_type": "code",
   "execution_count": 7,
   "metadata": {},
   "outputs": [],
   "source": [
    "# define vars for email\n",
    "to = ''\n",
    "cc = ''\n",
    "sub = ' - Missing Comment for Local Accounting Data (Completeness / August Load)'\n",
    "body = '''Dear colleagues,\n",
    "\n",
    "For the cases below the comment for the local accounting data for your Unit is missing in the Ray Web Client. Could you please insert it?\n",
    "\n",
    "\n",
    "\n",
    "Thank you.\n",
    "\n",
    "Kind regards,\n",
    "Arber Bajraktari\n",
    "Student Support IT\n",
    "\n",
    "Raiffeisen Bank International AG | Am Stadtpark 9, 1030 Vienna, Austria | Tel. : +43 664 99481391\n",
    "arber.bajraktari@rbinternational.com | http://www.rbinternational.com \n",
    "'''\n",
    "send_email(to, cc, sub, body)"
   ]
  },
  {
   "cell_type": "code",
   "execution_count": 9,
   "metadata": {},
   "outputs": [],
   "source": []
  },
  {
   "cell_type": "code",
   "execution_count": 7,
   "metadata": {},
   "outputs": [],
   "source": [
    "# define vars for email\n",
    "to = ''\n",
    "cc = ''\n",
    "sub = '''RBRS - Dashboard Points (October Load)'''\n",
    "body = '''Dear colleagues,\n",
    "\n",
    "Due to the fact that your unit approved Results on the 17.11.2022 while the deadline was on the 11.11.2022, \n",
    "you will receive 0 points in the Dashboard for the Approval Process Section (October Load).\n",
    "\n",
    "If you have any comments or questions regarding this issues, feel free to contact us.\n",
    "\n",
    "Kind regards,\n",
    "Arber Bajraktari\n",
    "Student Support IT\n",
    "\n",
    "Raiffeisen Bank International AG | Am Stadtpark 9, 1030 Vienna, Austria | Tel. : +43 664 99481391\n",
    "arber.bajraktari@rbinternational.com | http://www.rbinternational.com \n",
    "'''\n",
    "send_email(to, cc, sub, body)"
   ]
  },
  {
   "cell_type": "code",
   "execution_count": 20,
   "metadata": {},
   "outputs": [
    {
     "name": "stdout",
     "output_type": "stream",
     "text": [
      "Please enter the RD (YYYYMMDD): 20220630\n",
      "Please, enter the password for your user:  CNO_WZHARBC\n",
      "········\n",
      "Password entered\n",
      "Connection successfully\n",
      "171 is not created\n",
      "192 is not created\n",
      "194 is not created\n"
     ]
    },
    {
     "name": "stderr",
     "output_type": "stream",
     "text": [
      "C:\\ProgramData\\Anaconda3\\lib\\site-packages\\ipykernel_launcher.py:48: DeprecationWarning: Call to deprecated function get_sheet_by_name (Use wb[sheetname]).\n",
      "C:\\ProgramData\\Anaconda3\\lib\\site-packages\\ipykernel_launcher.py:49: DeprecationWarning: Call to deprecated function remove_sheet (Use wb.remove(worksheet) or del wb[sheetname]).\n"
     ]
    },
    {
     "name": "stdout",
     "output_type": "stream",
     "text": [
      "DataFrame is written to Excel File successfully.\n"
     ]
    },
    {
     "ename": "TypeError",
     "evalue": "send_email() takes 4 positional arguments but 5 were given",
     "output_type": "error",
     "traceback": [
      "\u001b[1;31m---------------------------------------------------------------------------\u001b[0m",
      "\u001b[1;31mTypeError\u001b[0m                                 Traceback (most recent call last)",
      "\u001b[1;32m<ipython-input-20-1d164c6389fd>\u001b[0m in \u001b[0;36m<module>\u001b[1;34m\u001b[0m\n\u001b[0;32m     34\u001b[0m \u001b[0marber\u001b[0m\u001b[1;33m.\u001b[0m\u001b[0mbajraktari\u001b[0m\u001b[1;33m@\u001b[0m\u001b[0mrbinternational\u001b[0m\u001b[1;33m.\u001b[0m\u001b[0mcom\u001b[0m \u001b[1;33m|\u001b[0m \u001b[0mhttp\u001b[0m\u001b[1;33m:\u001b[0m\u001b[1;33m//\u001b[0m\u001b[0mwww\u001b[0m\u001b[1;33m.\u001b[0m\u001b[0mrbinternational\u001b[0m\u001b[1;33m.\u001b[0m\u001b[0mcom\u001b[0m\u001b[1;33m\u001b[0m\u001b[1;33m\u001b[0m\u001b[0m\n\u001b[0;32m     35\u001b[0m '''\n\u001b[1;32m---> 36\u001b[1;33m \u001b[0msend_email\u001b[0m\u001b[1;33m(\u001b[0m\u001b[0mto\u001b[0m\u001b[1;33m,\u001b[0m \u001b[0mcc\u001b[0m\u001b[1;33m,\u001b[0m \u001b[0msub\u001b[0m\u001b[1;33m,\u001b[0m \u001b[0mbody\u001b[0m\u001b[1;33m,\u001b[0m \u001b[0mfile_name\u001b[0m\u001b[1;33m)\u001b[0m\u001b[1;33m\u001b[0m\u001b[1;33m\u001b[0m\u001b[0m\n\u001b[0m",
      "\u001b[1;31mTypeError\u001b[0m: send_email() takes 4 positional arguments but 5 were given"
     ]
    }
   ],
   "source": [
    "# temp vars\n",
    "directory = \"C:/Users/WZHARBC/Documents/Python Monthly Tasks/Exports\"\n",
    "ws = 2\n",
    "\n",
    "#functions are called\n",
    "get_rd(directory)\n",
    "get_pwd()\n",
    "connect_to_DB(ws)\n",
    "\n",
    "# defined vars for the save_file function \n",
    "file_name = rd + '_RLCZ_RLRE.xlsx'\n",
    "sheet_name = [rd + \"  RLCZ_GRP_FMA_STD\", rd + \" ALL_IRB\", rd + \"UNCONS\" ]\n",
    "ws_nr = [171, 192, 194]\n",
    "sqls = [\"\"\"select * from rzb_cdr where booking_company in ('RLRE','RLREELEN','RLREJOTA','RLRETE','RLRESR','RLCZ')\t\"\"\",\n",
    "       \"\"\"select * from rzb_cdr where booking_company in ('RLRE','RLREELEN','RLREJOTA','RLRETE','RLRESR','RLCZ')\t\"\"\",\n",
    "       \"\"\"select * from rzb_cdr where booking_company in ('RLRE','RLREELEN','RLREJOTA','RLRETE','RLRESR','RLCZ')\t\"\"\"]\n",
    "\n",
    "# function is called\n",
    "save_file(file_name, sheet_name, ws_nr, sqls)\n",
    "\n",
    "# define vars for email\n",
    "to = 'bernadette.dettmer@uk.rbinternational.com; devon.chaplin@uk.rbinternational.com'\n",
    "cc = 'flori.luci@rbinternational.com'\n",
    "sub = 'RBUK Ray Data ' + rd\n",
    "body = '''Dear Karolina,\n",
    "\n",
    "Please find attached, the RBUK data for ''' + rd +'''\n",
    "\n",
    "Kr\n",
    "Arber Bajraktari\n",
    "Student Support IT\n",
    "\n",
    "Raiffeisen Bank International AG | Am Stadtpark 9, 1030 Vienna, Austria | Tel. : +43 664 99481391\n",
    "arber.bajraktari@rbinternational.com | http://www.rbinternational.com \n",
    "'''\n",
    "send_email(to, cc, sub, body, file_name)"
   ]
  },
  {
   "cell_type": "code",
   "execution_count": 7,
   "metadata": {},
   "outputs": [],
   "source": [
    "# define vars for email\n",
    "to = ''\n",
    "cc = ''\n",
    "sub = ' - Missing Local Accounting Data (Completeness/ October Load)'\n",
    "body = '''Dear colleagues,\n",
    "\n",
    "For the cases below, the Local Accounting Data in the Ray Web Client is missing. \n",
    "Can you insert the Data today please?\n",
    "\n",
    "\n",
    " \n",
    "Thank you.\n",
    "  \n",
    "Mit freundlichen Grüßen / Best Regards\n",
    "\n",
    "Arber Bajraktari\n",
    "Student Support IT\n",
    "\n",
    "Raiffeisen Bank International AG | Am Stadtpark 9, 1030 Vienna, Austria | Tel. : +43 664 99481391\n",
    "arber.bajraktari@rbinternational.com | http://www.rbinternational.com \n",
    "'''\n",
    "send_email(to, cc, sub, body)"
   ]
  },
  {
   "cell_type": "code",
   "execution_count": null,
   "metadata": {},
   "outputs": [],
   "source": []
  },
  {
   "cell_type": "code",
   "execution_count": 8,
   "metadata": {},
   "outputs": [
    {
     "name": "stdout",
     "output_type": "stream",
     "text": [
      "Please enter the RD (YYYYMMDD): 20220731\n",
      "194 is not created\n",
      "DataFrame is written to Excel File successfully.\n"
     ]
    },
    {
     "name": "stderr",
     "output_type": "stream",
     "text": [
      "C:\\ProgramData\\Anaconda3\\lib\\site-packages\\ipykernel_launcher.py:46: DeprecationWarning: Call to deprecated function get_sheet_by_name (Use wb[sheetname]).\n",
      "C:\\ProgramData\\Anaconda3\\lib\\site-packages\\ipykernel_launcher.py:47: DeprecationWarning: Call to deprecated function remove_sheet (Use wb.remove(worksheet) or del wb[sheetname]).\n"
     ]
    }
   ],
   "source": [
    "# temp vars\n",
    "directory = \"C:/Users/WZHARBC/Documents/Python Monthly Tasks/Exports\"\n",
    "ws = 46\n",
    "\n",
    "#functions are called\n",
    "get_rd(directory)\n",
    "connect_to_DB(ws)\n",
    "\n",
    "# defined vars for the save_file function \n",
    "file_name = 'REPO.xlsx'\n",
    "sheet_name = ['test']\n",
    "ws_nr = [194]\n",
    "sqls = [\"\"\"select* from v_rzb_rd_calc_status\"\"\"]\n",
    "\n",
    "# function is called\n",
    "save_file(file_name, sheet_name, ws_nr, sqls)\n"
   ]
  },
  {
   "cell_type": "code",
   "execution_count": null,
   "metadata": {},
   "outputs": [],
   "source": []
  },
  {
   "cell_type": "code",
   "execution_count": 8,
   "metadata": {},
   "outputs": [],
   "source": [
    "# define vars for email\n",
    "to = ''\n",
    "cc = ''\n",
    "sub = ' - Comment on result - 17.11.2022'\n",
    "body = '''Dear colleagues,\n",
    "\n",
    "Please note that for the below row/s the comment is missing.\n",
    "Kindly asking to insert it.\n",
    "\n",
    "\n",
    "\n",
    "Thanks in advance and kind regards,\n",
    "Arber Bajraktari\n",
    "Student Support IT\n",
    "\n",
    "Raiffeisen Bank International AG | Am Stadtpark 9, 1030 Vienna, Austria | Tel. : +43 664 99481391\n",
    "arber.bajraktari@rbinternational.com | http://www.rbinternational.com \n",
    "'''\n",
    "send_email(to, cc, sub, body)"
   ]
  },
  {
   "cell_type": "code",
   "execution_count": null,
   "metadata": {},
   "outputs": [],
   "source": []
  }
 ],
 "metadata": {
  "kernelspec": {
   "display_name": "Python 3",
   "language": "python",
   "name": "python3"
  },
  "language_info": {
   "codemirror_mode": {
    "name": "ipython",
    "version": 3
   },
   "file_extension": ".py",
   "mimetype": "text/x-python",
   "name": "python",
   "nbconvert_exporter": "python",
   "pygments_lexer": "ipython3",
   "version": "3.7.1"
  }
 },
 "nbformat": 4,
 "nbformat_minor": 2
}
