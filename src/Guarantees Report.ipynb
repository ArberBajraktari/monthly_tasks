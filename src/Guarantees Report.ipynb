{
 "cells": [
  {
   "cell_type": "markdown",
   "metadata": {},
   "source": [
    "# What happens:\n",
    "File is created and email is prepared"
   ]
  },
  {
   "cell_type": "markdown",
   "metadata": {},
   "source": [
    "## Import "
   ]
  },
  {
   "cell_type": "code",
   "execution_count": 1,
   "metadata": {},
   "outputs": [],
   "source": [
    "import os\n",
    "import sys\n",
    "import pandas as pd\n",
    "import numpy as np\n",
    "from pandas import DataFrame\n",
    "import sqlalchemy\n",
    "from sqlalchemy import create_engine\n",
    "import getpass\n",
    "import datetime\n",
    "import win32com.client as win32\n",
    "import calendar\n",
    "from openpyxl import Workbook, load_workbook\n",
    "from IPython.lib.display import Audio"
   ]
  },
  {
   "cell_type": "markdown",
   "metadata": {},
   "source": [
    "### Select the folder where you wanna do the work\n",
    "### Also ask for the Reporting Date"
   ]
  },
  {
   "cell_type": "code",
   "execution_count": 2,
   "metadata": {},
   "outputs": [
    {
     "name": "stdout",
     "output_type": "stream",
     "text": [
      "Please enter the RD (YYYYMMDD): 20221031\n"
     ]
    }
   ],
   "source": [
    "directory = \"C:/Users/WZHARBC/Documents/Python Monthly Tasks/Exports/Guarantees Report\"\n",
    "os.chdir(directory)\n",
    "\n",
    "rd = str(input(\"Please enter the RD (YYYYMMDD): \"))\n",
    "\n",
    "ws = \"0002\""
   ]
  },
  {
   "cell_type": "markdown",
   "metadata": {},
   "source": [
    "### Make connection with Oracle DB"
   ]
  },
  {
   "cell_type": "code",
   "execution_count": 3,
   "metadata": {},
   "outputs": [
    {
     "data": {
      "text/plain": [
       "<sqlalchemy.engine.result.ResultProxy at 0x228d4bffa20>"
      ]
     },
     "execution_count": 3,
     "metadata": {},
     "output_type": "execute_result"
    }
   ],
   "source": [
    "#Setting up RAY connection:\n",
    "connection_RAY = create_engine(str(\"oracle://:@OCRPN\"))\n",
    "connection_RAY.execute(\"call pack_context.context_open(to_date('{reporting_date}','YYYYMMDD'),{partition})\".format(\n",
    "                 reporting_date = rd, partition = ws))"
   ]
  },
  {
   "cell_type": "markdown",
   "metadata": {},
   "source": [
    "### Check if WS are completed"
   ]
  },
  {
   "cell_type": "code",
   "execution_count": 9,
   "metadata": {},
   "outputs": [
    {
     "name": "stdout",
     "output_type": "stream",
     "text": [
      "Wall time: 153 ms\n"
     ]
    }
   ],
   "source": [
    "%%time\n",
    "d1 = pd.read_sql_query(\"\"\"select entity.entity_desc as guarantor_name, guarantee.*\n",
    "from guarantee\n",
    "left join entity on guarantee.issuer_guarantor = entity.entity_code\n",
    "where guarantee.dim1 is not null\"\"\", connection_RAY)"
   ]
  },
  {
   "cell_type": "code",
   "execution_count": 10,
   "metadata": {},
   "outputs": [
    {
     "data": {
      "text/html": [
       "<div>\n",
       "<style scoped>\n",
       "    .dataframe tbody tr th:only-of-type {\n",
       "        vertical-align: middle;\n",
       "    }\n",
       "\n",
       "    .dataframe tbody tr th {\n",
       "        vertical-align: top;\n",
       "    }\n",
       "\n",
       "    .dataframe thead th {\n",
       "        text-align: right;\n",
       "    }\n",
       "</style>\n",
       "<table border=\"1\" class=\"dataframe\">\n",
       "  <thead>\n",
       "    <tr style=\"text-align: right;\">\n",
       "      <th></th>\n",
       "      <th>guarantor_name</th>\n",
       "      <th>partition_key</th>\n",
       "      <th>contract_reference</th>\n",
       "      <th>contract_desc</th>\n",
       "      <th>book_code</th>\n",
       "      <th>contract_type</th>\n",
       "      <th>collateral_mode</th>\n",
       "      <th>issuer_guarantor</th>\n",
       "      <th>intermediate_guarantor</th>\n",
       "      <th>beneficiary</th>\n",
       "      <th>...</th>\n",
       "      <th>check_error_status_o</th>\n",
       "      <th>check_error_status_t</th>\n",
       "      <th>check_error_status_w</th>\n",
       "      <th>check_error_status_y</th>\n",
       "      <th>check_error_status_d</th>\n",
       "      <th>check_error_status_v</th>\n",
       "      <th>check_error_status_x</th>\n",
       "      <th>check_error_status_z</th>\n",
       "      <th>check_error_status_f</th>\n",
       "      <th>check_error_status_e</th>\n",
       "    </tr>\n",
       "  </thead>\n",
       "  <tbody>\n",
       "    <tr>\n",
       "      <th>0</th>\n",
       "      <td>Fond Rozvytku Pidpryiemnytstva</td>\n",
       "      <td>202210310000</td>\n",
       "      <td>GUA_BDF_COV_AVAL_2020</td>\n",
       "      <td>None</td>\n",
       "      <td>AVAL_B</td>\n",
       "      <td>GUA</td>\n",
       "      <td>M</td>\n",
       "      <td>1856916</td>\n",
       "      <td>None</td>\n",
       "      <td>None</td>\n",
       "      <td>...</td>\n",
       "      <td>0</td>\n",
       "      <td>0</td>\n",
       "      <td>0</td>\n",
       "      <td>0</td>\n",
       "      <td>0</td>\n",
       "      <td>0</td>\n",
       "      <td>0</td>\n",
       "      <td>0</td>\n",
       "      <td>0</td>\n",
       "      <td>0</td>\n",
       "    </tr>\n",
       "  </tbody>\n",
       "</table>\n",
       "<p>1 rows × 128 columns</p>\n",
       "</div>"
      ],
      "text/plain": [
       "                   guarantor_name partition_key     contract_reference  \\\n",
       "0  Fond Rozvytku Pidpryiemnytstva  202210310000  GUA_BDF_COV_AVAL_2020   \n",
       "\n",
       "  contract_desc book_code contract_type collateral_mode issuer_guarantor  \\\n",
       "0          None    AVAL_B           GUA               M          1856916   \n",
       "\n",
       "  intermediate_guarantor beneficiary         ...           \\\n",
       "0                   None        None         ...            \n",
       "\n",
       "  check_error_status_o  check_error_status_t check_error_status_w  \\\n",
       "0                    0                     0                    0   \n",
       "\n",
       "  check_error_status_y check_error_status_d check_error_status_v  \\\n",
       "0                    0                    0                    0   \n",
       "\n",
       "  check_error_status_x check_error_status_z check_error_status_f  \\\n",
       "0                    0                    0                    0   \n",
       "\n",
       "  check_error_status_e  \n",
       "0                    0  \n",
       "\n",
       "[1 rows x 128 columns]"
      ]
     },
     "execution_count": 10,
     "metadata": {},
     "output_type": "execute_result"
    }
   ],
   "source": [
    "d1"
   ]
  },
  {
   "cell_type": "code",
   "execution_count": 6,
   "metadata": {},
   "outputs": [
    {
     "name": "stdout",
     "output_type": "stream",
     "text": [
      "DataFrame is written to Excel File successfully.\n"
     ]
    }
   ],
   "source": [
    "# determining the name of the file\n",
    "file_name = 'Covid 19 guarantees in RAY ' + rd + '.xlsx'\n",
    "\n",
    "# saving the excel\n",
    "d1.to_excel(file_name, index=False)\n",
    "print('DataFrame is written to Excel File successfully.')"
   ]
  },
  {
   "cell_type": "code",
   "execution_count": 7,
   "metadata": {},
   "outputs": [],
   "source": [
    "#get last month\n",
    "dt = datetime.datetime.today()\n",
    "month_name = calendar.month_name[dt.month-1].upper()\n",
    "year  = dt.year"
   ]
  },
  {
   "cell_type": "code",
   "execution_count": 8,
   "metadata": {},
   "outputs": [],
   "source": [
    "outlook = win32.Dispatch('outlook.application')\n",
    "mail = outlook.CreateItem(0)\n",
    "mail.To = 'brigitte.aigner@rbinternational.com; michael.bruckner@rbinternational.com'\n",
    "mail.Cc = 'zoltan.szebenyi@rbinternational.com; nertila.gjakova@rbinternational.com; schlemoun.piro@rbinternational.com'\n",
    "mail.Subject = 'RBI Covid guarantees as of ' + rd + ' - RAY Report'\n",
    "mail.Body = '''Dear Brigitte,\n",
    "\n",
    "Kindly find attached the Covid 19 guarantees Report as of ''' + month_name + '''\n",
    "\n",
    "Kr\n",
    "Arber Bajraktari\n",
    "Student Support IT\n",
    "\n",
    "Raiffeisen Bank International AG | Am Stadtpark 9, 1030 Vienna, Austria | Tel. : +43 664 99481391\n",
    "arber.bajraktari@rbinternational.com | http://www.rbinternational.com \n",
    "'''\n",
    "\n",
    "# To attach a file to the email (optional):\n",
    "attachment  = directory + \"/\" + file_name\n",
    "mail.Attachments.Add(attachment)\n",
    "\n",
    "mail.Display()"
   ]
  },
  {
   "cell_type": "code",
   "execution_count": null,
   "metadata": {},
   "outputs": [],
   "source": []
  }
 ],
 "metadata": {
  "kernelspec": {
   "display_name": "Python 3",
   "language": "python",
   "name": "python3"
  },
  "language_info": {
   "codemirror_mode": {
    "name": "ipython",
    "version": 3
   },
   "file_extension": ".py",
   "mimetype": "text/x-python",
   "name": "python",
   "nbconvert_exporter": "python",
   "pygments_lexer": "ipython3",
   "version": "3.7.1"
  }
 },
 "nbformat": 4,
 "nbformat_minor": 2
}
