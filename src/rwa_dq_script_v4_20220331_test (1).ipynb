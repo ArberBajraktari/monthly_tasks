{
 "cells": [
  {
   "cell_type": "markdown",
   "metadata": {},
   "source": [
    "# RWA Data Quality Framework"
   ]
  },
  {
   "cell_type": "code",
   "execution_count": 1,
   "metadata": {},
   "outputs": [],
   "source": [
    "import os\n",
    "import pandas as pd\n",
    "from sqlalchemy import create_engine\n",
    "import getpass\n",
    "from tqdm.notebook import trange, tqdm_notebook"
   ]
  },
  {
   "cell_type": "markdown",
   "metadata": {},
   "source": [
    "## User Input <a class=\"anchor\" id=\"section_2\"></a>"
   ]
  },
  {
   "cell_type": "code",
   "execution_count": 2,
   "metadata": {},
   "outputs": [],
   "source": [
    "#Input variables\n",
    "rd = \"20220331\"\n",
    "#ws = \"0002\"\n",
    "ws = \"0210\" #NRT_PRELIM\n",
    "input_file = \"input/template_RAY_QualityChecks_v3.xlsx\"\n",
    "\n",
    "#Define working directory\n",
    "os.chdir(os.path.dirname(os.path.realpath(\"__file__\")))"
   ]
  },
  {
   "cell_type": "code",
   "execution_count": 3,
   "metadata": {
    "scrolled": true
   },
   "outputs": [
    {
     "data": {
      "text/plain": [
       "<sqlalchemy.engine.result.ResultProxy at 0x2867ac88f98>"
      ]
     },
     "execution_count": 3,
     "metadata": {},
     "output_type": "execute_result"
    }
   ],
   "source": [
    "#Setting up RAY connection:\n",
    "connection = create_engine(str(\"oracle://:@PN\"))\n",
    "connection.execute(\"call pack_context.context_open(to_date('{reporting_date}','YYYYMMDD'),{partition})\".format(\n",
    "                     reporting_date = rd, partition = ws))"
   ]
  },
  {
   "cell_type": "markdown",
   "metadata": {},
   "source": [
    "## Import SQL & Query"
   ]
  },
  {
   "cell_type": "code",
   "execution_count": 4,
   "metadata": {},
   "outputs": [],
   "source": [
    "#Import input excel\n",
    "df_qc_list = pd.read_excel(input_file, sheet_name = \"QC_list\")"
   ]
  },
  {
   "cell_type": "code",
   "execution_count": 5,
   "metadata": {},
   "outputs": [],
   "source": [
    "#create ACTIVE list\n",
    "df_qc_list_active = df_qc_list[df_qc_list[\"STATUS\"] == \"ACTIVE\"]\n",
    "\n",
    "#create ACTIVE list without internal comments for NWU distribution\n",
    "df_qc_list_active_nwu = df_qc_list_active.drop(\"Comments/updates\", axis=1)"
   ]
  },
  {
   "cell_type": "code",
   "execution_count": 6,
   "metadata": {},
   "outputs": [],
   "source": [
    "#Create list of SQL-s to be run\n",
    "sql_list = df_qc_list[(pd.isnull(df_qc_list[\"ID\"]) != True) & (df_qc_list[\"STATUS\"] == \"ACTIVE\") &\n",
    "                      (pd.isnull(df_qc_list[\"SQL\"]) != True)][[\"ID\",\"SQL\"]]"
   ]
  },
  {
   "cell_type": "code",
   "execution_count": 7,
   "metadata": {},
   "outputs": [
    {
     "data": {
      "application/vnd.jupyter.widget-view+json": {
       "model_id": "1d1ff9001dea4353abeeb2bfc42c65b2",
       "version_major": 2,
       "version_minor": 0
      },
      "text/plain": [
       "  0%|          | 0/4 [00:00<?, ?it/s]"
      ]
     },
     "metadata": {},
     "output_type": "display_data"
    }
   ],
   "source": [
    "#Query data\n",
    "d = {} #create empty dictionary to store multiple dataframes\n",
    "\n",
    "for i in tqdm_notebook(sql_list[\"ID\"]): #looping through the ID-s\n",
    "    sql = sql_list[sql_list[\"ID\"] == i][\"SQL\"].values[0] #retreive SQL string string corresponding to ID\n",
    "    d[i] = pd.read_sql_query(sql,connection) #query data"
   ]
  },
  {
   "cell_type": "markdown",
   "metadata": {},
   "source": [
    "## Export to EXCEL"
   ]
  },
  {
   "cell_type": "markdown",
   "metadata": {},
   "source": [
    "### Overview - export all units to a single excel"
   ]
  },
  {
   "cell_type": "code",
   "execution_count": 8,
   "metadata": {},
   "outputs": [
    {
     "name": "stderr",
     "output_type": "stream",
     "text": [
      "C:\\ProgramData\\Anaconda3\\lib\\site-packages\\ipykernel_launcher.py:3: FutureWarning: The pandas.datetime class is deprecated and will be removed from pandas in a future version. Import from datetime module instead.\n",
      "  This is separate from the ipykernel package so we can avoid doing imports until\n"
     ]
    }
   ],
   "source": [
    "# Create a Pandas Excel writer using XlsxWriter as the engine.\n",
    "writer = pd.ExcelWriter('output/RWA_DQ_checks_' + rd + '_(Timestamp_{}).xlsx'\n",
    "                        .format(pd.datetime.today().strftime('%Y%m%d_%Hh%M')), engine='xlsxwriter')\n",
    "\n",
    "#write overview of checks to first sheet\n",
    "df_qc_list_active.to_excel(writer, sheet_name=\"QC_list\")\n",
    "\n",
    "# Write each dataframe to a different worksheet.\n",
    "for i in sql_list[\"ID\"]:\n",
    "    d[i].to_excel(writer, sheet_name=i)\n",
    "\n",
    "# Close the Pandas Excel writer and output the Excel file.\n",
    "writer.save()"
   ]
  },
  {
   "cell_type": "markdown",
   "metadata": {},
   "source": [
    "### NWU - export units into separate excel files"
   ]
  },
  {
   "cell_type": "code",
   "execution_count": null,
   "metadata": {},
   "outputs": [],
   "source": [
    "#Get list of units that have data returned in at least one quality check\n",
    "unit_list_data = [] #empty list\n",
    "\n",
    "for i in sql_list[\"ID\"]: #get all units across all quality checks\n",
    "    unit_list_data.extend(d[i][\"unit_code\"].unique())\n",
    "    \n",
    "unit_list_data = list(dict.fromkeys(unit_list_data)) #remove duplicates from final list"
   ]
  },
  {
   "cell_type": "code",
   "execution_count": null,
   "metadata": {},
   "outputs": [],
   "source": [
    "#define master list of unit codes to split data for\n",
    "unit_list_master = [\"RBI\"\n",
    "    #banks\n",
    "    ,\"AVAL\",\"CENTRO\",\"KATHREIN\",\"RBAL\",\"RBBG\",\"RBBH\",\"RBBY\",\"RBCN\",\"RBCZ\",\"RBHR\",\"RBHU\",\"RBIPL\"\n",
    "    ,\"RBKO\",\"RBRO\",\"RBRS\",\"RBRU\",\"RBSG\",\"RBSPK\",\"RBSPKHR\",\"RBSPKRO\",\"TBSK\"     \n",
    "    #leasing\n",
    "    ,\"RLUA\",\"RLAL\",\"RLBG\",\"RLBH\",\"RLBY\",\"RLCZ\",\"RLHR\",\"RLKO\",\"RLRO\",\"RLRS\",\"RLRU,\",\"TLSK\",\"ILSK\",\"RPL\",\"RSTS\"\n",
    "    #special\n",
    "    ,\"RLAT\"\n",
    "     ]"
   ]
  },
  {
   "cell_type": "code",
   "execution_count": null,
   "metadata": {},
   "outputs": [],
   "source": [
    "#limit export to intersection of unitst of returned data and the fixed list\n",
    "unit_list_export = list(set(unit_list_data) & set(unit_list_master))"
   ]
  },
  {
   "cell_type": "code",
   "execution_count": null,
   "metadata": {},
   "outputs": [],
   "source": [
    "#Generate a spearate excel for each unit\n",
    "for unit in tqdm_notebook(unit_list_export):    \n",
    "    # Create a Pandas Excel writer using XlsxWriter as the engine.\n",
    "    writer = pd.ExcelWriter('output/RWA_DQ_checks_' + rd + '_' + unit + '_(Timestamp_{}).xlsx'\n",
    "                            .format(pd.datetime.today().strftime('%Y%m%d_%Hh%M')), engine='xlsxwriter')\n",
    "\n",
    "    #write overview of checks to first sheet\n",
    "    df_qc_list_active_nwu.to_excel(writer, sheet_name=\"QC_list\")\n",
    "\n",
    "    # Write each dataframe to a different worksheet.\n",
    "    for i in tqdm_notebook(sql_list[\"ID\"]):\n",
    "        df = d[i]\n",
    "        df_unit = df[df[\"unit_code\"] == unit]\n",
    "        if df_unit.empty:\n",
    "            continue #skip generation of qc sheet in excel if empty\n",
    "        df_unit.to_excel(writer, sheet_name=i)\n",
    "\n",
    "    # Close the Pandas Excel writer and output the Excel file.\n",
    "    writer.save()"
   ]
  },
  {
   "cell_type": "code",
   "execution_count": null,
   "metadata": {},
   "outputs": [],
   "source": []
  }
 ],
 "metadata": {
  "anaconda-cloud": {},
  "kernelspec": {
   "display_name": "Python 3",
   "language": "python",
   "name": "python3"
  },
  "language_info": {
   "codemirror_mode": {
    "name": "ipython",
    "version": 3
   },
   "file_extension": ".py",
   "mimetype": "text/x-python",
   "name": "python",
   "nbconvert_exporter": "python",
   "pygments_lexer": "ipython3",
   "version": "3.7.1"
  }
 },
 "nbformat": 4,
 "nbformat_minor": 1
}
