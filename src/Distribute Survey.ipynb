{
 "cells": [
  {
   "cell_type": "markdown",
   "metadata": {},
   "source": [
    "## Import "
   ]
  },
  {
   "cell_type": "code",
   "execution_count": 1,
   "metadata": {},
   "outputs": [],
   "source": [
    "import os\n",
    "import sys\n",
    "import pandas as pd\n",
    "import numpy as np\n",
    "from pandas import DataFrame\n",
    "import sqlalchemy\n",
    "from sqlalchemy import create_engine\n",
    "import getpass\n",
    "import datetime\n",
    "import win32com.client as win32\n",
    "import calendar\n",
    "from openpyxl import Workbook, load_workbook\n",
    "from IPython.lib.display import Audio\n",
    "from openpyxl.utils.dataframe import dataframe_to_rows\n",
    "from openpyxl.cell import Cell\n",
    "from openpyxl.styles import Color, Font, PatternFill"
   ]
  },
  {
   "cell_type": "code",
   "execution_count": 2,
   "metadata": {},
   "outputs": [
    {
     "data": {
      "text/plain": [
       "'RBI-OCR-LaFamiglia@rbinternational.com;rupert.zehner@rbinternational.com;martin.kapl@rbinternational.com;marek.seliger@rbinternational.com;florin.stroe@rbinternational.com;barbara.rasiova@rbinternational.com;jutta.stueckelberger@rbinternational.com;oliver.pichler@rbinternational.com;bernhard.wundsam@rbinternational.com;sara.lambing@rbinternational.com;edit.horvath@rbinternational.com;eugen.puseizer@rbinternational.com;christian.kramer@rbinternational.com;elena.filipidescu@rbinternational.com;thomas.maier@rbinternational.com;brigitte.aigner@rbinternational.com;christine.thaler@rbinternational.com;daniela.tsoneva@rbinternational.com;oleg.lenski@rbinternational.com;idar.kumykov@rbinternational.com;sebastian.sandler@rbinternational.com;tobias.lamatsch@rbinternational.com;matthias.spitzer@rbinternational.com;robert.kollmann@rbinternational.com;roland.vincze@rbinternational.com;alba.camishi@rbinternational.com;irina-alexandra.podani-teglas@rbinternational.com;michal.petira@rbinternational.com;stanislava.dzhygurda@aval.ua;andreas.adam@rcb.at;robert.schmid@rcb.at;milos.chvojka@rb.cz;marie.bukova@rb.cz;silvia.ruzicka-kirstein@kathrein.at;jana.skalickova@kathrein.at;andreas.walcher@kathrein.at;sabrina.hammerschmid@kathrein.at;Lira.Veshi@raiffeisen.al;jonida.shirokaj@raiffeisen.al;mariana.vasileva@raiffeisen.bg;hristo.marlov@raiffeisen.bg;panayot.zarov@raiffeisen.bg;nikola.iliev@raiffeisen.bg;maria.georgievva@raiffeisen.bg;Lyudmila.GENOVA@raiffeisen.bg;selma.ibisevic-dinar@raiffeisengroup.ba;lejla.niksic@raiffeisengroup.ba;Elena.Rayman@priorbank.by;Yuliya.Bahvalova@priorbank.by;Olga.Laschevskaya@priorbank.by;natalya.sapezinskaya@priorbank.by;Dmitry.Kovalchuk@priorbank.by;olga.laschewskaya@priorbank.by;pavel.yacinovich@priorbank.by;marina.sherman@priorbank.by;Yingying.guo@cn.rbinternational.com;jana.zhang@cn.rbinternational.com;Sonya.deng@cn.rbinternational.com;Marie.BUKOVA@rb.cz;lidija.ferencek@rba.hr;vladimira.prpic@rba.hr;stjepan.regvar@rba.hr;Kitti.VARADOVICS@raiffeisen.hu;Adam6.HORVATH@raiffeisen.hu;David.JASZENOVITS@raiffeisen.hu;mate.fabian@raiffeisen.hu;aszepessy@raiffeisen.hu;muhamet.aliu@raiffeisen-kosovo.com;ilir.kallaba@raiffeisen-kosovo.com;etleve.grajcevci@raiffeisen-kosovo.com;Elzbieta.SZYMANSKA@raiffeisen.pl;Adam.OKONIEWSKI@raiffeisen.pl;angela.garba@raiffeisen.ro;srdjan.milosevic@raiffeisenbank.rs;anad.nikolic@raiffeisenbank.rs;RBRU-RWA_Calculation@raiffeisen.ru;Ekaterina.PURTOVA@raiffeisen.ru;Nadezhda.MAZAEVA@raiffeisen.ru;Vasily.LUKYANOV@raiffeisen.ru;carol.ng@sg.rbinternational.com;christopher.lim@sg.rbinternational.com;klaus.krombass@sg.rbinternational.com;Stefan.tik@rbinternational.com;christa.toifl@rbinternational.com;hatidza.okanovic@rbinternational.com;manuela.adam@rbinternational.com;denisa.srutkova@rbinternational.com;madeleine.ertl@raibau.at;christoph.karner@raibau.at;anessa.bekto@raibau.at;mathias.kajic@raibau.at;marko.zoric@rba.hr;ana.juric@rba.hr;cristian.ciobanu@railoc.ro;bernadette.dettmer@uk.rbinternational.com;devon.chaplin@uk.rbinternational.com;bernd.kaiser@raiffeisen-factorbank.at;christoph.igler@raiffeisen-factorbank.at;thomas.fuehringer@raiffeisen-factorbank.at;Gayane.karapetian@rbinternational.com;karin.fuchs@rbinternational.com;holta.balli@raiffeisen.al;anida.nako@raiffeisen.al;stanka.lochmann@rl.co.at;edita.cagalj@raiffeisengroup.ba;amila.dacic@raiffeisengroup.ba;natalya.truhan@priorbank.by;natalya.vusheva@priorbank.by;anna.baranova@priorbank.by;tomas.rydl@rl.cz;matus.jambor@rl.cz;pavel.kraus@rl.cz;jakub.sehnal@rl.cz;Petr.CHUDACEK@rl.cz;petra.klaric@rl-hr.hr;nikola.baksaj@rl-hr.hr;fatos.karacica@raiffeisen-kosovo.com;fatmir.uka@raiffeisen-kosovo.com;miodrag.milovanovic@raiffeisen-rent.rs;ivana.boricic@raiffeisen-leasing.rs;maja.isakovic@raiffeisen-leasing.rs;tatjana.marjanov@raiffeisen-leasing.rs;Valentina.AYUPOVA@raiffeisen.ru;Maksim.SAPOZHNIKOV@raiffeisen.ru;diana.krivokuca@raiffeisen-leasing.si;natalia.swarovskaya@rla.com.ua;nataliia.yevseieva@rla.com.ua;Andreas.Adam@rcb.at;matous.vambersky-external@raiffeisendigital.com;Tamas.Kacsandi@rcb.at;johannes.rhomberg@rcb.at;pstrempek@rsts.cz;manuela.spitzer@rbinternational.com;carina.imhoff@rbinternational.com;ivana_popovicova@tatrabanka.sk;michaela_rybova@tatrabanka.sk;jozef_rak@tatrabanka.sk;edwin.meusburger@rbinternational.com;gernot.höller@raibau.at;daniela.hallas@raibau.at;'"
      ]
     },
     "execution_count": 2,
     "metadata": {},
     "output_type": "execute_result"
    }
   ],
   "source": [
    "contacts = [\"RBI-OCR-LaFamiglia@rbinternational.com\",\"rupert.zehner@rbinternational.com\",\n",
    "            \"martin.kapl@rbinternational.com\",\"marek.seliger@rbinternational.com\",\"florin.stroe@rbinternational.com\",\n",
    "            \"barbara.rasiova@rbinternational.com\",\"jutta.stueckelberger@rbinternational.com\",\n",
    "            \"oliver.pichler@rbinternational.com\",\"bernhard.wundsam@rbinternational.com\",\n",
    "            \"sara.lambing@rbinternational.com\",\"edit.horvath@rbinternational.com\",\"eugen.puseizer@rbinternational.com\",\n",
    "            \"christian.kramer@rbinternational.com\",\"elena.filipidescu@rbinternational.com\",\n",
    "            \"thomas.maier@rbinternational.com\",\"brigitte.aigner@rbinternational.com\",\n",
    "            \"christine.thaler@rbinternational.com\",\"daniela.tsoneva@rbinternational.com\",\n",
    "            \"oleg.lenski@rbinternational.com\",\"idar.kumykov@rbinternational.com\",\n",
    "            \"sebastian.sandler@rbinternational.com\",\"tobias.lamatsch@rbinternational.com\",\n",
    "            \"matthias.spitzer@rbinternational.com\",\"robert.kollmann@rbinternational.com\",\n",
    "            \"roland.vincze@rbinternational.com\",\"alba.camishi@rbinternational.com\",\n",
    "            \"irina-alexandra.podani-teglas@rbinternational.com\",\"michal.petira@rbinternational.com\",\n",
    "            \"stanislava.dzhygurda@aval.ua\", \"andreas.adam@rcb.at\", \"robert.schmid@rcb.at\",\n",
    "            \"milos.chvojka@rb.cz\", \"marie.bukova@rb.cz\", \"silvia.ruzicka-kirstein@kathrein.at\",\"jana.skalickova@kathrein.at\",\n",
    "            \"andreas.walcher@kathrein.at\",\"sabrina.hammerschmid@kathrein.at\", \"Lira.Veshi@raiffeisen.al\",\n",
    "            \"jonida.shirokaj@raiffeisen.al\", \"mariana.vasileva@raiffeisen.bg\",\"hristo.marlov@raiffeisen.bg\",\n",
    "            \"panayot.zarov@raiffeisen.bg\", \"nikola.iliev@raiffeisen.bg\",\"maria.georgievva@raiffeisen.bg\",\n",
    "            \"Lyudmila.GENOVA@raiffeisen.bg\", \"selma.ibisevic-dinar@raiffeisengroup.ba\",\"lejla.niksic@raiffeisengroup.ba\",\n",
    "            \"Elena.Rayman@priorbank.by\",\"Yuliya.Bahvalova@priorbank.by\",\"Olga.Laschevskaya@priorbank.by\",\n",
    "            \"natalya.sapezinskaya@priorbank.by\",\"Dmitry.Kovalchuk@priorbank.by\", \"olga.laschewskaya@priorbank.by\",\n",
    "            \"pavel.yacinovich@priorbank.by\",\"marina.sherman@priorbank.by\", \"Yingying.guo@cn.rbinternational.com\",\n",
    "            \"jana.zhang@cn.rbinternational.com\", \"Sonya.deng@cn.rbinternational.com\", \"milos.chvojka@rb.cz\", \n",
    "            \"Marie.BUKOVA@rb.cz\", \"lidija.ferencek@rba.hr\",\"vladimira.prpic@rba.hr\",\"stjepan.regvar@rba.hr\",\n",
    "            \"Kitti.VARADOVICS@raiffeisen.hu\",\"Adam6.HORVATH@raiffeisen.hu\",\"David.JASZENOVITS@raiffeisen.hu\",\n",
    "            \"mate.fabian@raiffeisen.hu\",\"aszepessy@raiffeisen.hu\", \"muhamet.aliu@raiffeisen-kosovo.com\",\n",
    "            \"ilir.kallaba@raiffeisen-kosovo.com\", \"etleve.grajcevci@raiffeisen-kosovo.com\",\n",
    "            \"Elzbieta.SZYMANSKA@raiffeisen.pl\",\"Adam.OKONIEWSKI@raiffeisen.pl\",\n",
    "            \"angela.garba@raiffeisen.ro\", \"srdjan.milosevic@raiffeisenbank.rs\", \"anad.nikolic@raiffeisenbank.rs\",\n",
    "            \"RBRU-RWA_Calculation@raiffeisen.ru\",\"Ekaterina.PURTOVA@raiffeisen.ru\",\"Nadezhda.MAZAEVA@raiffeisen.ru\",\n",
    "            \"Vasily.LUKYANOV@raiffeisen.ru\", \"carol.ng@sg.rbinternational.com\",\"christopher.lim@sg.rbinternational.com\",\n",
    "            \"klaus.krombass@sg.rbinternational.com\", \"Stefan.tik@rbinternational.com\",\"christa.toifl@rbinternational.com\",\n",
    "            \"hatidza.okanovic@rbinternational.com\",\"manuela.adam@rbinternational.com\",\n",
    "            \"denisa.srutkova@rbinternational.com\",\"madeleine.ertl@raibau.at\",\"christoph.karner@raibau.at\",\n",
    "            \"anessa.bekto@raibau.at\",\"mathias.kajic@raibau.at\", \"marko.zoric@rba.hr\",\"ana.juric@rba.hr\",\n",
    "            \"cristian.ciobanu@railoc.ro\", \"bernadette.dettmer@uk.rbinternational.com\",\"devon.chaplin@uk.rbinternational.com\",\n",
    "            \"bernd.kaiser@raiffeisen-factorbank.at\",\"christoph.igler@raiffeisen-factorbank.at\",\n",
    "            \"thomas.fuehringer@raiffeisen-factorbank.at\", \"Gayane.karapetian@rbinternational.com\",\n",
    "            \"karin.fuchs@rbinternational.com\", \"holta.balli@raiffeisen.al\",\"anida.nako@raiffeisen.al\", \"stanka.lochmann@rl.co.at\",\n",
    "            \"mariana.vasileva@raiffeisen.bg\",\"hristo.marlov@raiffeisen.bg\",\"panayot.zarov@raiffeisen.bg\",\n",
    "            \"nikola.iliev@raiffeisen.bg\",\"maria.georgievva@raiffeisen.bg\",\"Lyudmila.GENOVA@raiffeisen.bg\",\n",
    "            \"edita.cagalj@raiffeisengroup.ba\",\"amila.dacic@raiffeisengroup.ba\",\"natalya.truhan@priorbank.by\",\n",
    "            \"natalya.vusheva@priorbank.by\", \"anna.baranova@priorbank.by\", \"tomas.rydl@rl.cz\",\"matus.jambor@rl.cz\",\n",
    "            \"pavel.kraus@rl.cz\",\"jakub.sehnal@rl.cz\",\"Petr.CHUDACEK@rl.cz\", \"petra.klaric@rl-hr.hr\",\"nikola.baksaj@rl-hr.hr\",\n",
    "            \"fatos.karacica@raiffeisen-kosovo.com\",\"fatmir.uka@raiffeisen-kosovo.com\", \"tomas.rydl@rl.cz\",\"matus.jambor@rl.cz\",\n",
    "            \"pavel.kraus@rl.cz\",\"jakub.sehnal@rl.cz\",\"Petr.CHUDACEK@rl.cz\", \"angela.garba@raiffeisen.ro\", \n",
    "            \"miodrag.milovanovic@raiffeisen-rent.rs\",\"ivana.boricic@raiffeisen-leasing.rs\",\n",
    "            \"maja.isakovic@raiffeisen-leasing.rs\",\"tatjana.marjanov@raiffeisen-leasing.rs\", \"Valentina.AYUPOVA@raiffeisen.ru\",\n",
    "            \"Maksim.SAPOZHNIKOV@raiffeisen.ru\", \"diana.krivokuca@raiffeisen-leasing.si\", \"natalia.swarovskaya@rla.com.ua\",\n",
    "            \"nataliia.yevseieva@rla.com.ua\", \"Andreas.Adam@rcb.at\",\"robert.schmid@rcb.at\",\n",
    "            \"matous.vambersky-external@raiffeisendigital.com\",\"Tamas.Kacsandi@rcb.at\",\"johannes.rhomberg@rcb.at\",\n",
    "            \"pstrempek@rsts.cz\", \"manuela.spitzer@rbinternational.com\",\"carina.imhoff@rbinternational.com\",\n",
    "            \"ivana_popovicova@tatrabanka.sk\",\"michaela_rybova@tatrabanka.sk\",\"jozef_rak@tatrabanka.sk\", \n",
    "            \"edwin.meusburger@rbinternational.com\", \"gernot.höller@raibau.at\", \"daniela.hallas@raibau.at\"\n",
    "           ]\n",
    "contacts = list(dict.fromkeys(contacts))\n",
    "contact_email = \"\"\n",
    "for contact in contacts:\n",
    "    contact_email += str(contact)\n",
    "    contact_email += str(\";\")\n",
    "\n",
    "contact_email"
   ]
  },
  {
   "cell_type": "code",
   "execution_count": 3,
   "metadata": {},
   "outputs": [],
   "source": [
    "def send_email(to, cc, sub, body):\n",
    "    outlook = win32.Dispatch('outlook.application')\n",
    "    mail = outlook.CreateItem(0)\n",
    "    mail.To = to\n",
    "    mail.Cc = cc\n",
    "    mail.Subject = sub\n",
    "    mail.Body = body\n",
    "\n",
    "\n",
    "    mail.Display()"
   ]
  },
  {
   "cell_type": "code",
   "execution_count": 4,
   "metadata": {},
   "outputs": [],
   "source": [
    "# define vars for email\n",
    "to = ''\n",
    "cc = ''\n",
    "sub = 'OCR Survey'\n",
    "body = '''Dear colleagues, \n",
    "\n",
    "As we continue to improve our service of the listed products, we would like to collect your feedback. We have created a short survey, open until 17-June-2021. \n",
    "\n",
    "Our Service as scope of your feedback:\n",
    "\n",
    "•\tRAY Monthly operations \n",
    "•\tRAY Daily operations \n",
    "•\tBanking Product and CRR Compliance Support\n",
    "•\tRWA Optimization \n",
    "•\tRWA Impact analysis\n",
    "This survey is optional, your input would be highly appreciated and helps us to evaluate what to keep / change concerning our service.\n",
    "\n",
    "\n",
    "\n",
    "\n",
    "Best Regards,\n",
    "\n",
    "Honeybagers (One Credit Risk) – Who are we:\n",
    " \n",
    "\n",
    "'''\n",
    "send_email(contact_email, cc, sub, body)"
   ]
  },
  {
   "cell_type": "code",
   "execution_count": null,
   "metadata": {},
   "outputs": [],
   "source": []
  }
 ],
 "metadata": {
  "kernelspec": {
   "display_name": "Python 3",
   "language": "python",
   "name": "python3"
  },
  "language_info": {
   "codemirror_mode": {
    "name": "ipython",
    "version": 3
   },
   "file_extension": ".py",
   "mimetype": "text/x-python",
   "name": "python",
   "nbconvert_exporter": "python",
   "pygments_lexer": "ipython3",
   "version": "3.7.1"
  }
 },
 "nbformat": 4,
 "nbformat_minor": 2
}
