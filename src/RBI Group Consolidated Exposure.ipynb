{
 "cells": [
  {
   "cell_type": "code",
   "execution_count": 1,
   "metadata": {},
   "outputs": [],
   "source": [
    "import os\n",
    "import sys\n",
    "import pandas as pd\n",
    "import numpy as np\n",
    "from pandas import DataFrame\n",
    "import sqlalchemy\n",
    "from sqlalchemy import create_engine\n",
    "import getpass\n",
    "import datetime\n",
    "import win32com.client as win32\n",
    "import calendar\n",
    "from openpyxl import Workbook, load_workbook\n",
    "from IPython.lib.display import Audio\n",
    "from openpyxl.utils.dataframe import dataframe_to_rows\n",
    "from openpyxl.cell import Cell\n",
    "from openpyxl.styles import Color, Font, PatternFill"
   ]
  },
  {
   "cell_type": "code",
   "execution_count": null,
   "metadata": {},
   "outputs": [],
   "source": []
  },
  {
   "cell_type": "code",
   "execution_count": 2,
   "metadata": {},
   "outputs": [],
   "source": [
    "rd = 20200331\n",
    "# Insert the directory where to save the file\n",
    "# The Reporting Date will be requested and saved in a global var\n",
    "def get_rd(directory):\n",
    "    os.chdir(directory)\n",
    "    global rd\n",
    "    rd = str(input(\"Please enter the RD (YYYYMMDD): \"))\n",
    "    \n",
    "cno_user = \"\"\n",
    "cno_pwd = \"\"\n",
    "# Input the password when it's asked\n",
    "# It will be used later for the connection\n",
    "def get_pwd():\n",
    "    # Getting user from env\n",
    "    global cno_user\n",
    "    cno_user = \"CNO_\" + getpass.getuser()\n",
    "\n",
    "    global cno_pwd\n",
    "    # Prompting for pwd\n",
    "    print(\"Please, enter the password for your user: \", cno_user)\n",
    "    cno_pwd = getpass.getpass()\n",
    "    if(cno_pwd == \"\"):\n",
    "        print(\"Error - password entered as blank\")\n",
    "    else:\n",
    "        print(\"Password entered\")\n",
    "\n"
   ]
  },
  {
   "cell_type": "code",
   "execution_count": 3,
   "metadata": {},
   "outputs": [],
   "source": [
    "# Insert the workspace in the parameter\n",
    "# The connection will be made\n",
    "def connect_to_DB(ws):     \n",
    "    \n",
    "    print(\"Connection successfully\")"
   ]
  },
  {
   "cell_type": "code",
   "execution_count": 4,
   "metadata": {},
   "outputs": [
    {
     "name": "stdout",
     "output_type": "stream",
     "text": [
      "Please enter the RD (YYYYMMDD): 20200331\n",
      "Please, enter the password for your user:  CNO_WZHARBC\n",
      "········\n",
      "Password entered\n"
     ]
    }
   ],
   "source": [
    "directory = \"C:/Users/WZHARBC/Documents/Python Monthly Tasks/Exports/Consolidated Exposure\"\n",
    "get_rd(directory)\n",
    "get_pwd()\n"
   ]
  },
  {
   "cell_type": "code",
   "execution_count": 5,
   "metadata": {},
   "outputs": [
    {
     "name": "stdout",
     "output_type": "stream",
     "text": [
      "Connection successfully\n"
     ]
    }
   ],
   "source": [
    "connect_to_DB(46)"
   ]
  },
  {
   "cell_type": "code",
   "execution_count": 6,
   "metadata": {},
   "outputs": [],
   "source": [
    "# Insert the parameters required\n",
    "# File_name -> the name of the file you want to save\n",
    "# Sheet_name -> the name of the sheets that will be created\n",
    "# Ws_nr -> the number of the respective WS that the connection will be made with\n",
    "# Sqls -> the sqls that will be run\n",
    "def save_file(file_name, years, quarters):\n",
    "#     # Create file\n",
    "#     wb = Workbook()\n",
    "#     for year in years:\n",
    "#         for quarter in quarters:\n",
    "#             name = str(year) + str(quarter)\n",
    "#             wb.create_sheet(name)\n",
    "        \n",
    "# #     std = wb.get_sheet_by_name('Sheet')\n",
    "# #     wb.remove_sheet(std)\n",
    "#     wb.save(filename = file_name)\n",
    "    \n",
    "#     dfs = []\n",
    "    \n",
    "    for year in years:\n",
    "        for quarter in quarters:\n",
    "            try:\n",
    "                temp = year + quarter\n",
    "                \n",
    "                logon_string_RAY = str(\"oracle+cx_oracle://\" + cno_user + \":\" + cno_pwd + \"@localhost:42521/PREP000\")\n",
    "                connection_RAY = create_engine(logon_string_RAY)\n",
    "                connection_RAY.execute(\"call pack_context.context_open(to_date('{reporting_date}','YYYYMMDD'), {partition})\".format(\n",
    "                        reporting_date = temp, partition = 46))\n",
    "                sql = \"\"\"select partition_key, reporting_date, booking_segment, booking_company, risk_country, rating_model, internal_rating,\tindustry_code_1, industry_code_2, tenor_residual,\tresidual_maturity, currency, sum(ead_pre_ccf) as ead_pre_ccf, sum(ead) as ead, sum(rwa) as rwa\n",
    "from  rzb_cdr\t\t\n",
    "group by partition_key, reporting_date, booking_segment, booking_company, risk_country, rating_model, internal_rating,\tindustry_code_1,  industry_code_2,  tenor_residual, residual_maturity, currency\t\n",
    "                \"\"\"\n",
    "                df_temp= pd.read_sql_query( sql, connection_RAY)\n",
    "                df_temp.to_excel(year + quarter + \"_NRT.xlsx\")  \n",
    "#                 dfs.append(df_temp)\n",
    "            except:\n",
    "#                 dfs.append(pd.DataFrame())\n",
    "                print(\"WS is not created\")\n",
    "    \n",
    "#     # Select SQLs\n",
    "#     for index, sheet in enumerate(sheet_name):\n",
    "#         try:\n",
    "#             connection_RAY.execute(\"call pack_context.context_open(to_date('{reporting_date}','YYYYMMDD'), {partition})\".format(\n",
    "#                             reporting_date = rd, partition = ws_nr[index]))\n",
    "#             df_temp= pd.read_sql_query( sqls[index], connection_RAY)\n",
    "#             dfs.append(df_temp)\n",
    "#         except:\n",
    "#             dfs.append(pd.DataFrame())\n",
    "#             print( str(ws_nr[index]) + \" is not created\")\n",
    "            \n",
    "#     writer = pd.ExcelWriter(file_name)\n",
    "#     for index, df in enumerate(dfs):\n",
    "#         try:\n",
    "#             df.to_excel(writer, index=False, sheet_name = sheet_name[index])\n",
    "#         except:\n",
    "#             print()\n",
    "    \n",
    "#     writer.save()\n",
    "#     print('DataFrame is written to Excel File successfully.')"
   ]
  },
  {
   "cell_type": "code",
   "execution_count": 7,
   "metadata": {},
   "outputs": [],
   "source": [
    "file_name = \"Retail.xlsx\"\n",
    "years = [\"2020\", \"2019\", \"2018\", \"2017\", \"2016\", \"2015\", \"2014\", \"2013\", \"2012\", \"2011\"]\n",
    "quarters = [\"0331\", \"0630\", \"0930\", \"1231\"]\n",
    "\n",
    "save_file(file_name, years, quarters)"
   ]
  },
  {
   "cell_type": "code",
   "execution_count": 63,
   "metadata": {},
   "outputs": [],
   "source": [
    "years = [\"2021\"]\n",
    "quarters = [\"0630\", \"0930\", \"1231\"]\n",
    "\n",
    "save_file(file_name, years, quarters)"
   ]
  },
  {
   "cell_type": "code",
   "execution_count": null,
   "metadata": {},
   "outputs": [],
   "source": []
  },
  {
   "cell_type": "code",
   "execution_count": null,
   "metadata": {},
   "outputs": [],
   "source": []
  }
 ],
 "metadata": {
  "kernelspec": {
   "display_name": "Python 3",
   "language": "python",
   "name": "python3"
  },
  "language_info": {
   "codemirror_mode": {
    "name": "ipython",
    "version": 3
   },
   "file_extension": ".py",
   "mimetype": "text/x-python",
   "name": "python",
   "nbconvert_exporter": "python",
   "pygments_lexer": "ipython3",
   "version": "3.7.1"
  }
 },
 "nbformat": 4,
 "nbformat_minor": 2
}
