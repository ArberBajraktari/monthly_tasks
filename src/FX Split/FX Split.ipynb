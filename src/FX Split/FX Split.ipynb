{
 "cells": [
  {
   "cell_type": "markdown",
   "metadata": {},
   "source": [
    "# What happens:\n",
    "File is created and email is prepared"
   ]
  },
  {
   "cell_type": "markdown",
   "metadata": {},
   "source": [
    "## Import "
   ]
  },
  {
   "cell_type": "code",
   "execution_count": 40,
   "metadata": {},
   "outputs": [],
   "source": [
    "import os\n",
    "import sys\n",
    "import pandas as pd\n",
    "import numpy as np\n",
    "from pandas import DataFrame\n",
    "import sqlalchemy\n",
    "from sqlalchemy import create_engine\n",
    "import getpass\n",
    "import datetime\n",
    "import win32com.client as win32\n",
    "import calendar\n",
    "from openpyxl import Workbook, load_workbook"
   ]
  },
  {
   "cell_type": "markdown",
   "metadata": {},
   "source": [
    "### Select the folder where you wanna do the work\n",
    "### Also ask for the Reporting Date"
   ]
  },
  {
   "cell_type": "code",
   "execution_count": 41,
   "metadata": {},
   "outputs": [],
   "source": [
    "directory = os.path.abspath(os.getcwd()) + \"/\"\n",
    "rd = str(input(\"Please enter the RD (YYYYMMDD): \"))\n",
    "\n",
    "ws = \"0002\"\n",
    "\n",
    "im_folder = \"Import/\"\n",
    "ex_folder = \"Export/\""
   ]
  },
  {
   "cell_type": "markdown",
   "metadata": {},
   "source": [
    "### Make connection with Oracle DB"
   ]
  },
  {
   "cell_type": "code",
   "execution_count": 50,
   "metadata": {},
   "outputs": [
    {
     "data": {
      "text/plain": [
       "<sqlalchemy.engine.cursor.LegacyCursorResult at 0x2827341e890>"
      ]
     },
     "execution_count": 50,
     "metadata": {},
     "output_type": "execute_result"
    }
   ],
   "source": [
    "#Setting up RAY connection:\n",
    "connection_RAY = create_engine(str(\"oracle://:@OCRPN\"))\n",
    "connection_RAY.execute(\"call pack_context.context_open(to_date('{reporting_date}','YYYYMMDD'),{partition})\".format(\n",
    "                 reporting_date = rd, partition = ws))"
   ]
  },
  {
   "attachments": {},
   "cell_type": "markdown",
   "metadata": {},
   "source": [
    "### Select FX Split Data"
   ]
  },
  {
   "cell_type": "code",
   "execution_count": 51,
   "metadata": {},
   "outputs": [
    {
     "name": "stdout",
     "output_type": "stream",
     "text": [
      "CPU times: total: 46.9 ms\n",
      "Wall time: 8.67 s\n"
     ]
    }
   ],
   "source": [
    "%%time\n",
    "d1 = pd.read_sql_query(\"\"\"select reporting_date,  \n",
    "booking_company,\n",
    "calc_currency, \n",
    "c.exch_rate,\n",
    "sum(rwa)/1000000 rwa_eur,  \n",
    "sum(rwa)/1000000/c.exch_rate rwa_lcy, \n",
    "sum(ead_pre_ccf)/1000000 ead_pre_ccf  \n",
    "from \n",
    "( \n",
    "select reporting_date, booking_company, currency as calc_currency, rwa, ead_pre_ccf from rzb_cdr \n",
    "where (contract_type not like 'PA0401' or contract_type is NULL) \n",
    "and (bs_type not in ('VIR', 'TRA') or bs_type is NULL) \n",
    "and (securitized not like 'T' or securitized is NULL) \n",
    ") r join currency c on (r.calc_currency=c.ccy_code) \n",
    "group by reporting_date, booking_company, calc_currency, exch_rate \"\"\", connection_RAY)\n",
    "\n",
    "d2 = pd.read_sql_query(\"\"\"select partition_key, ccy_code, ccy_desc, exch_rate from currency \"\"\", connection_RAY)\n",
    "\n",
    "d3 = pd.read_sql_query(\"\"\"select distinct c.currency, c. exchange_rate, \n",
    "sum(t.cva_rwa) cva_rwa_EUR_total, \n",
    "sum(t.cva_rwa)/c.exchange_rate cva_rwa_LCY_total, \n",
    "sum(case when dealbook like '%_T' then  t.cva_rwa else 0 End) as RWA_trading_book_EUR, \n",
    "sum(case when dealbook like '%_B' then t.cva_rwa else 0 End) as RWA_banking_book_EUR \n",
    "from t_cva t join (select distinct exposure_attribute_5, currency, exchange_rate from T_CDR) c on (t.exposure_attribute_5 = c.exposure_attribute_5) \n",
    "group by c.currency, c.exchange_rate \n",
    "order by currency \"\"\", connection_RAY)"
   ]
  },
  {
   "cell_type": "markdown",
   "metadata": {},
   "source": [
    "### Save selections in excel file"
   ]
  },
  {
   "cell_type": "code",
   "execution_count": 52,
   "metadata": {},
   "outputs": [
    {
     "name": "stdout",
     "output_type": "stream",
     "text": [
      "DataFrame is written to Excel File successfully.\n"
     ]
    },
    {
     "name": "stderr",
     "output_type": "stream",
     "text": [
      "C:\\Users\\WZHARBC\\AppData\\Local\\Temp\\1\\ipykernel_3572\\1041382974.py:19: FutureWarning: save is not part of the public API, usage can give unexpected results and will be removed in a future version\n",
      "  writer.save()\n"
     ]
    }
   ],
   "source": [
    "#get last month\n",
    "dt = datetime.datetime.today()\n",
    "if dt.month == 1:\n",
    "    month_name = calendar.month_name[dt.month+11].upper()    \n",
    "else:\n",
    "    month_name = calendar.month_name[dt.month-1].upper()\n",
    "year  = dt.year\n",
    "\n",
    "# determining the name of the file\n",
    "fx_name = rd + '_FX_SPLIT_' + month_name + '_' + str(year) + '.xlsx'\n",
    "\n",
    "writer = pd.ExcelWriter(ex_folder + fx_name)\n",
    "# saving the excel\n",
    "d1.to_excel(writer, index=False, sheet_name = rd + '_Group Cons Data ')\n",
    "d2.to_excel(writer, index=False, sheet_name = rd + '_Fx_rates_current ')\n",
    "d3.to_excel(writer, index=False, sheet_name = rd + '_fx_cva_rwa  ')\n",
    "\n",
    "\n",
    "writer.save()\n",
    "print('DataFrame is written to Excel File successfully.')\n"
   ]
  },
  {
   "attachments": {},
   "cell_type": "markdown",
   "metadata": {},
   "source": [
    "### Select IRB Data"
   ]
  },
  {
   "cell_type": "code",
   "execution_count": 53,
   "metadata": {},
   "outputs": [],
   "source": [
    "\n",
    "irb_path = \"irb_shortfall_currency_template.xlsx\"\n",
    "irb_template = load_workbook(im_folder + irb_path)\n",
    "irb_template_sql = irb_template['sql']\n",
    "irb_sql = irb_template_sql['A5'].value"
   ]
  },
  {
   "cell_type": "code",
   "execution_count": 54,
   "metadata": {},
   "outputs": [],
   "source": [
    "irb_data = pd.read_sql_query(irb_sql, connection_RAY)"
   ]
  },
  {
   "attachments": {},
   "cell_type": "markdown",
   "metadata": {},
   "source": [
    "### Save selection in excel file"
   ]
  },
  {
   "cell_type": "code",
   "execution_count": 55,
   "metadata": {},
   "outputs": [],
   "source": [
    "irb_name = \"irb_shortfall_currency_\" + rd + \".xlsx\"\n",
    "\n",
    "def populate_irb_table(irb_data, irb_template):\n",
    "    irb = irb_template['data']\n",
    "    irb_header = irb_data.columns\n",
    "    for i, row in irb_data.iterrows():\n",
    "        for j, header in enumerate(irb_header):\n",
    "            irb.cell(row=i+2, column=10+j).value = row[header]\n",
    "    irb_template.save(ex_folder + irb_name)"
   ]
  },
  {
   "cell_type": "code",
   "execution_count": 56,
   "metadata": {},
   "outputs": [],
   "source": [
    "populate_irb_table(irb_data, irb_template)"
   ]
  },
  {
   "attachments": {},
   "cell_type": "markdown",
   "metadata": {},
   "source": [
    "## Send email"
   ]
  },
  {
   "cell_type": "code",
   "execution_count": 58,
   "metadata": {},
   "outputs": [],
   "source": [
    "outlook = win32.Dispatch('outlook.application')\n",
    "mail = outlook.CreateItem(0)\n",
    "mail.To = 'stefanie.gruen@rbinternational.com'\n",
    "mail.Cc = 'aleksandr.mikayelyan@rbinternational.com; markus.hochleitner@rbinternational.com; alexandru-paul.gliga@rbinternational.com'\n",
    "mail.Subject = rd + '_FX_SPLIT_' + month_name + '_' + str(year)\n",
    "mail.Body = '''Dear Stefanie,\n",
    "\n",
    "Please find attached the data as of ''' + month_name + ''' ''' + str(year) +'''. The file is also available in the RBI Capital Steering Sharepoint.\n",
    "\n",
    "Thanks in advance and kind regards,\n",
    "Arber Bajraktari\n",
    "Student Support IT\n",
    "\n",
    "Raiffeisen Bank International AG | Am Stadtpark 9, 1030 Vienna, Austria | Tel. : +43 664 99481391\n",
    "arber.bajraktari@rbinternational.com | http://www.rbinternational.com \n",
    "'''\n",
    "# To attach a file to the email (optional):\n",
    "fx  = directory + ex_folder + fx_name\n",
    "mail.Attachments.Add(fx)\n",
    "irb  = directory + ex_folder + irb_name\n",
    "mail.Attachments.Add(irb)\n",
    "mail.Display()"
   ]
  },
  {
   "cell_type": "code",
   "execution_count": null,
   "metadata": {},
   "outputs": [],
   "source": []
  }
 ],
 "metadata": {
  "kernelspec": {
   "display_name": "Python 3",
   "language": "python",
   "name": "python3"
  },
  "language_info": {
   "codemirror_mode": {
    "name": "ipython",
    "version": 3
   },
   "file_extension": ".py",
   "mimetype": "text/x-python",
   "name": "python",
   "nbconvert_exporter": "python",
   "pygments_lexer": "ipython3",
   "version": "3.10.7"
  },
  "vscode": {
   "interpreter": {
    "hash": "9b4d75ac280b6c7c3aa43866cb82dc88915409b55fec83a093dd0284cb58708e"
   }
  }
 },
 "nbformat": 4,
 "nbformat_minor": 2
}
