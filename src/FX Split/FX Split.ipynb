{
 "cells": [
  {
   "cell_type": "markdown",
   "metadata": {},
   "source": [
    "# What happens:\n",
    "File is created and email is prepared"
   ]
  },
  {
   "cell_type": "markdown",
   "metadata": {},
   "source": [
    "## Import "
   ]
  },
  {
   "cell_type": "code",
   "execution_count": 1,
   "metadata": {},
   "outputs": [],
   "source": [
    "import os\n",
    "import sys\n",
    "import pandas as pd\n",
    "import numpy as np\n",
    "from pandas import DataFrame\n",
    "import sqlalchemy\n",
    "from sqlalchemy import create_engine\n",
    "import getpass\n",
    "import datetime\n",
    "import win32com.client as win32\n",
    "import calendar"
   ]
  },
  {
   "cell_type": "markdown",
   "metadata": {},
   "source": [
    "### Select the folder where you wanna do the work\n",
    "### Also ask for the Reporting Date"
   ]
  },
  {
   "cell_type": "code",
   "execution_count": 2,
   "metadata": {},
   "outputs": [
    {
     "name": "stdout",
     "output_type": "stream",
     "text": [
      "Please enter the RD (YYYYMMDD): 20221031\n"
     ]
    }
   ],
   "source": [
    "directory = \"C:/Users/WZHARBC/Documents/Python Monthly Tasks/Exports/FX Split\"\n",
    "os.chdir(directory)\n",
    "\n",
    "rd = str(input(\"Please enter the RD (YYYYMMDD): \"))\n",
    "\n",
    "ws = \"0002\""
   ]
  },
  {
   "cell_type": "markdown",
   "metadata": {},
   "source": [
    "### Make connection with Oracle DB"
   ]
  },
  {
   "cell_type": "code",
   "execution_count": 3,
   "metadata": {},
   "outputs": [
    {
     "data": {
      "text/plain": [
       "<sqlalchemy.engine.result.ResultProxy at 0x22bf6ca0550>"
      ]
     },
     "execution_count": 3,
     "metadata": {},
     "output_type": "execute_result"
    }
   ],
   "source": [
    "#Setting up RAY connection:\n",
    "connection_RAY = create_engine(str(\"oracle://:@OCRPN\"))\n",
    "connection_RAY.execute(\"call pack_context.context_open(to_date('{reporting_date}','YYYYMMDD'),{partition})\".format(\n",
    "                 reporting_date = rd, partition = ws))"
   ]
  },
  {
   "cell_type": "markdown",
   "metadata": {},
   "source": [
    "### Select Data"
   ]
  },
  {
   "cell_type": "code",
   "execution_count": 4,
   "metadata": {},
   "outputs": [
    {
     "name": "stdout",
     "output_type": "stream",
     "text": [
      "Wall time: 8.56 s\n"
     ]
    }
   ],
   "source": [
    "%%time\n",
    "d1 = pd.read_sql_query(\"\"\"select reporting_date,  \n",
    "booking_company,\n",
    "calc_currency, \n",
    "c.exch_rate,\n",
    "sum(rwa)/1000000 rwa_eur,  \n",
    "sum(rwa)/1000000/c.exch_rate rwa_lcy, \n",
    "sum(ead_pre_ccf)/1000000 ead_pre_ccf  \n",
    "from \n",
    "( \n",
    "select reporting_date, booking_company, currency as calc_currency, rwa, ead_pre_ccf from rzb_cdr \n",
    "where (contract_type not like 'PA0401' or contract_type is NULL) \n",
    "and (bs_type not in ('VIR', 'TRA') or bs_type is NULL) \n",
    "and (securitized not like 'T' or securitized is NULL) \n",
    ") r join currency c on (r.calc_currency=c.ccy_code) \n",
    "group by reporting_date, booking_company, calc_currency, exch_rate \"\"\", connection_RAY)\n",
    "\n",
    "d2 = pd.read_sql_query(\"\"\"select partition_key, ccy_code, ccy_desc, exch_rate from currency \"\"\", connection_RAY)\n",
    "\n",
    "d3 = pd.read_sql_query(\"\"\"select distinct c.currency, c. exchange_rate, \n",
    "sum(t.cva_rwa) cva_rwa_EUR_total, \n",
    "sum(t.cva_rwa)/c.exchange_rate cva_rwa_LCY_total, \n",
    "sum(case when dealbook like '%_T' then  t.cva_rwa else 0 End) as RWA_trading_book_EUR, \n",
    "sum(case when dealbook like '%_B' then t.cva_rwa else 0 End) as RWA_banking_book_EUR \n",
    "from t_cva t join (select distinct exposure_attribute_5, currency, exchange_rate from T_CDR) c on (t.exposure_attribute_5 = c.exposure_attribute_5) \n",
    "group by c.currency, c.exchange_rate \n",
    "order by currency \"\"\", connection_RAY)"
   ]
  },
  {
   "cell_type": "markdown",
   "metadata": {},
   "source": [
    "### Save selections in excel file"
   ]
  },
  {
   "cell_type": "code",
   "execution_count": 5,
   "metadata": {},
   "outputs": [
    {
     "name": "stdout",
     "output_type": "stream",
     "text": [
      "DataFrame is written to Excel File successfully.\n"
     ]
    }
   ],
   "source": [
    "#get last month\n",
    "dt = datetime.datetime.today()\n",
    "month_name = calendar.month_name[dt.month-1].upper()\n",
    "year  = dt.year\n",
    "\n",
    "# determining the name of the file\n",
    "file_name = rd + '_FX_SPLIT_' + month_name + '_' + str(year) + '.xlsx'\n",
    "\n",
    "writer = pd.ExcelWriter(file_name)\n",
    "# saving the excel\n",
    "d1.to_excel(writer, index=False, sheet_name = rd + '_Group Cons Data ')\n",
    "d2.to_excel(writer, index=False, sheet_name = rd + '_Fx_rates_current ')\n",
    "d3.to_excel(writer, index=False, sheet_name = rd + '_fx_cva_rwa  ')\n",
    "\n",
    "\n",
    "writer.save()\n",
    "print('DataFrame is written to Excel File successfully.')\n"
   ]
  },
  {
   "cell_type": "markdown",
   "metadata": {},
   "source": [
    "# You have another file to prepare\n",
    "### Link: https://wiki.rbinternational.corp/confluence/display/OCR/FX-Split+-+upload+file+in+shared+folder\n"
   ]
  },
  {
   "cell_type": "code",
   "execution_count": 6,
   "metadata": {},
   "outputs": [],
   "source": [
    "outlook = win32.Dispatch('outlook.application')\n",
    "mail = outlook.CreateItem(0)\n",
    "mail.To = 'stefanie.gruen@rbinternational.com'\n",
    "mail.Cc = 'aleksandr.mikayelyan@rbinternational.com; markus.hochleitner@rbinternational.com; alexandru-paul.gliga@rbinternational.com'\n",
    "mail.Subject = rd + '_FX_SPLIT_' + month_name + '_' + str(year)\n",
    "mail.Body = '''Dear Stefanie,\n",
    "\n",
    "Please find attached the data as of ''' + month_name + ''' ''' + str(year) +'''. The file is also available in the RBI Capital Steering Sharepoint.\n",
    "\n",
    "Thanks in advance and kind regards,\n",
    "Arber Bajraktari\n",
    "Student Support IT\n",
    "\n",
    "Raiffeisen Bank International AG | Am Stadtpark 9, 1030 Vienna, Austria | Tel. : +43 664 99481391\n",
    "arber.bajraktari@rbinternational.com | http://www.rbinternational.com \n",
    "'''\n",
    "# To attach a file to the email (optional):\n",
    "attachment  = directory + \"/\" + file_name\n",
    "mail.Attachments.Add(attachment)\n",
    "mail.Display()"
   ]
  },
  {
   "cell_type": "code",
   "execution_count": null,
   "metadata": {},
   "outputs": [],
   "source": []
  }
 ],
 "metadata": {
  "kernelspec": {
   "display_name": "Python 3",
   "language": "python",
   "name": "python3"
  },
  "language_info": {
   "codemirror_mode": {
    "name": "ipython",
    "version": 3
   },
   "file_extension": ".py",
   "mimetype": "text/x-python",
   "name": "python",
   "nbconvert_exporter": "python",
   "pygments_lexer": "ipython3",
   "version": "3.7.1"
  }
 },
 "nbformat": 4,
 "nbformat_minor": 2
}
